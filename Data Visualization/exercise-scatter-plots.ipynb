{
 "cells": [
  {
   "cell_type": "markdown",
   "id": "c1d886de",
   "metadata": {
    "papermill": {
     "duration": 0.01156,
     "end_time": "2022-07-13T17:37:54.037112",
     "exception": false,
     "start_time": "2022-07-13T17:37:54.025552",
     "status": "completed"
    },
    "tags": []
   },
   "source": [
    "**This notebook is an exercise in the [Data Visualization](https://www.kaggle.com/learn/data-visualization) course.  You can reference the tutorial at [this link](https://www.kaggle.com/alexisbcook/scatter-plots).**\n",
    "\n",
    "---\n"
   ]
  },
  {
   "cell_type": "markdown",
   "id": "71540d93",
   "metadata": {
    "papermill": {
     "duration": 0.010007,
     "end_time": "2022-07-13T17:37:54.058003",
     "exception": false,
     "start_time": "2022-07-13T17:37:54.047996",
     "status": "completed"
    },
    "tags": []
   },
   "source": [
    "In this exercise, you will use your new knowledge to propose a solution to a real-world scenario.  To succeed, you will need to import data into Python, answer questions using the data, and generate **scatter plots** to understand patterns in the data.\n",
    "\n",
    "## Scenario\n",
    "\n",
    "You work for a major candy producer, and your goal is to write a report that your company can use to guide the design of its next product.  Soon after starting your research, you stumble across this [very interesting dataset](https://fivethirtyeight.com/features/the-ultimate-halloween-candy-power-ranking/) containing results from a fun survey to crowdsource favorite candies.\n",
    "\n",
    "## Setup\n",
    "\n",
    "Run the next cell to import and configure the Python libraries that you need to complete the exercise."
   ]
  },
  {
   "cell_type": "code",
   "execution_count": 1,
   "id": "e041da06",
   "metadata": {
    "execution": {
     "iopub.execute_input": "2022-07-13T17:37:54.082950Z",
     "iopub.status.busy": "2022-07-13T17:37:54.081652Z",
     "iopub.status.idle": "2022-07-13T17:37:55.362766Z",
     "shell.execute_reply": "2022-07-13T17:37:55.361203Z"
    },
    "papermill": {
     "duration": 1.297807,
     "end_time": "2022-07-13T17:37:55.366593",
     "exception": false,
     "start_time": "2022-07-13T17:37:54.068786",
     "status": "completed"
    },
    "tags": []
   },
   "outputs": [
    {
     "name": "stdout",
     "output_type": "stream",
     "text": [
      "Setup Complete\n"
     ]
    }
   ],
   "source": [
    "import pandas as pd\n",
    "pd.plotting.register_matplotlib_converters()\n",
    "import matplotlib.pyplot as plt\n",
    "%matplotlib inline\n",
    "import seaborn as sns\n",
    "print(\"Setup Complete\")"
   ]
  },
  {
   "cell_type": "markdown",
   "id": "572f1f90",
   "metadata": {
    "papermill": {
     "duration": 0.010647,
     "end_time": "2022-07-13T17:37:55.388726",
     "exception": false,
     "start_time": "2022-07-13T17:37:55.378079",
     "status": "completed"
    },
    "tags": []
   },
   "source": [
    "The questions below will give you feedback on your work. Run the following cell to set up our feedback system."
   ]
  },
  {
   "cell_type": "code",
   "execution_count": 2,
   "id": "ebdf9ebb",
   "metadata": {
    "execution": {
     "iopub.execute_input": "2022-07-13T17:37:55.411903Z",
     "iopub.status.busy": "2022-07-13T17:37:55.410924Z",
     "iopub.status.idle": "2022-07-13T17:37:55.487736Z",
     "shell.execute_reply": "2022-07-13T17:37:55.486196Z"
    },
    "papermill": {
     "duration": 0.091445,
     "end_time": "2022-07-13T17:37:55.490692",
     "exception": false,
     "start_time": "2022-07-13T17:37:55.399247",
     "status": "completed"
    },
    "tags": []
   },
   "outputs": [
    {
     "name": "stdout",
     "output_type": "stream",
     "text": [
      "Setup Complete\n"
     ]
    }
   ],
   "source": [
    "# Set up code checking\n",
    "import os\n",
    "if not os.path.exists(\"../input/candy.csv\"):\n",
    "    os.symlink(\"../input/data-for-datavis/candy.csv\", \"../input/candy.csv\") \n",
    "from learntools.core import binder\n",
    "binder.bind(globals())\n",
    "from learntools.data_viz_to_coder.ex4 import *\n",
    "print(\"Setup Complete\")"
   ]
  },
  {
   "cell_type": "markdown",
   "id": "5d7a59e1",
   "metadata": {
    "papermill": {
     "duration": 0.010199,
     "end_time": "2022-07-13T17:37:55.511910",
     "exception": false,
     "start_time": "2022-07-13T17:37:55.501711",
     "status": "completed"
    },
    "tags": []
   },
   "source": [
    "## Step 1: Load the Data\n",
    "\n",
    "Read the candy data file into `candy_data`.  Use the `\"id\"` column to label the rows."
   ]
  },
  {
   "cell_type": "code",
   "execution_count": 3,
   "id": "f853d479",
   "metadata": {
    "execution": {
     "iopub.execute_input": "2022-07-13T17:37:55.535314Z",
     "iopub.status.busy": "2022-07-13T17:37:55.534468Z",
     "iopub.status.idle": "2022-07-13T17:37:55.550383Z",
     "shell.execute_reply": "2022-07-13T17:37:55.549506Z"
    },
    "papermill": {
     "duration": 0.030036,
     "end_time": "2022-07-13T17:37:55.552570",
     "exception": false,
     "start_time": "2022-07-13T17:37:55.522534",
     "status": "completed"
    },
    "tags": []
   },
   "outputs": [
    {
     "data": {
      "application/javascript": [
       "parent.postMessage({\"jupyterEvent\": \"custom.exercise_interaction\", \"data\": {\"outcomeType\": 1, \"valueTowardsCompletion\": 0.3333333333333333, \"interactionType\": 1, \"questionType\": 1, \"questionId\": \"1_LoadData\", \"learnToolsVersion\": \"0.3.4\", \"failureMessage\": \"\", \"exceptionClass\": \"\", \"trace\": \"\"}}, \"*\")"
      ],
      "text/plain": [
       "<IPython.core.display.Javascript object>"
      ]
     },
     "metadata": {},
     "output_type": "display_data"
    },
    {
     "data": {
      "text/markdown": [
       "<span style=\"color:#33cc33\">Correct</span>"
      ],
      "text/plain": [
       "Correct"
      ]
     },
     "metadata": {},
     "output_type": "display_data"
    }
   ],
   "source": [
    "# Path of the file to read\n",
    "candy_filepath = \"../input/candy.csv\"\n",
    "\n",
    "# Fill in the line below to read the file into a variable candy_data\n",
    "candy_data = pd.read_csv(candy_filepath, index_col=\"id\")\n",
    "\n",
    "# Run the line below with no changes to check that you've loaded the data correctly\n",
    "step_1.check()"
   ]
  },
  {
   "cell_type": "code",
   "execution_count": 4,
   "id": "8d1156f8",
   "metadata": {
    "execution": {
     "iopub.execute_input": "2022-07-13T17:37:55.576494Z",
     "iopub.status.busy": "2022-07-13T17:37:55.576075Z",
     "iopub.status.idle": "2022-07-13T17:37:55.580518Z",
     "shell.execute_reply": "2022-07-13T17:37:55.579353Z"
    },
    "papermill": {
     "duration": 0.019462,
     "end_time": "2022-07-13T17:37:55.583115",
     "exception": false,
     "start_time": "2022-07-13T17:37:55.563653",
     "status": "completed"
    },
    "tags": []
   },
   "outputs": [],
   "source": [
    "# Lines below will give you a hint or solution code\n",
    "#step_1.hint()\n",
    "#step_1.solution()"
   ]
  },
  {
   "cell_type": "markdown",
   "id": "4a057598",
   "metadata": {
    "papermill": {
     "duration": 0.011013,
     "end_time": "2022-07-13T17:37:55.605816",
     "exception": false,
     "start_time": "2022-07-13T17:37:55.594803",
     "status": "completed"
    },
    "tags": []
   },
   "source": [
    "## Step 2: Review the data\n",
    "\n",
    "Use a Python command to print the first five rows of the data."
   ]
  },
  {
   "cell_type": "code",
   "execution_count": 5,
   "id": "7b7dfbaf",
   "metadata": {
    "execution": {
     "iopub.execute_input": "2022-07-13T17:37:55.631069Z",
     "iopub.status.busy": "2022-07-13T17:37:55.630220Z",
     "iopub.status.idle": "2022-07-13T17:37:55.654637Z",
     "shell.execute_reply": "2022-07-13T17:37:55.653429Z"
    },
    "papermill": {
     "duration": 0.039829,
     "end_time": "2022-07-13T17:37:55.657150",
     "exception": false,
     "start_time": "2022-07-13T17:37:55.617321",
     "status": "completed"
    },
    "tags": []
   },
   "outputs": [
    {
     "data": {
      "text/html": [
       "<div>\n",
       "<style scoped>\n",
       "    .dataframe tbody tr th:only-of-type {\n",
       "        vertical-align: middle;\n",
       "    }\n",
       "\n",
       "    .dataframe tbody tr th {\n",
       "        vertical-align: top;\n",
       "    }\n",
       "\n",
       "    .dataframe thead th {\n",
       "        text-align: right;\n",
       "    }\n",
       "</style>\n",
       "<table border=\"1\" class=\"dataframe\">\n",
       "  <thead>\n",
       "    <tr style=\"text-align: right;\">\n",
       "      <th></th>\n",
       "      <th>competitorname</th>\n",
       "      <th>chocolate</th>\n",
       "      <th>fruity</th>\n",
       "      <th>caramel</th>\n",
       "      <th>peanutyalmondy</th>\n",
       "      <th>nougat</th>\n",
       "      <th>crispedricewafer</th>\n",
       "      <th>hard</th>\n",
       "      <th>bar</th>\n",
       "      <th>pluribus</th>\n",
       "      <th>sugarpercent</th>\n",
       "      <th>pricepercent</th>\n",
       "      <th>winpercent</th>\n",
       "    </tr>\n",
       "    <tr>\n",
       "      <th>id</th>\n",
       "      <th></th>\n",
       "      <th></th>\n",
       "      <th></th>\n",
       "      <th></th>\n",
       "      <th></th>\n",
       "      <th></th>\n",
       "      <th></th>\n",
       "      <th></th>\n",
       "      <th></th>\n",
       "      <th></th>\n",
       "      <th></th>\n",
       "      <th></th>\n",
       "      <th></th>\n",
       "    </tr>\n",
       "  </thead>\n",
       "  <tbody>\n",
       "    <tr>\n",
       "      <th>0</th>\n",
       "      <td>100 Grand</td>\n",
       "      <td>Yes</td>\n",
       "      <td>No</td>\n",
       "      <td>Yes</td>\n",
       "      <td>No</td>\n",
       "      <td>No</td>\n",
       "      <td>Yes</td>\n",
       "      <td>No</td>\n",
       "      <td>Yes</td>\n",
       "      <td>No</td>\n",
       "      <td>0.732</td>\n",
       "      <td>0.860</td>\n",
       "      <td>66.971725</td>\n",
       "    </tr>\n",
       "    <tr>\n",
       "      <th>1</th>\n",
       "      <td>3 Musketeers</td>\n",
       "      <td>Yes</td>\n",
       "      <td>No</td>\n",
       "      <td>No</td>\n",
       "      <td>No</td>\n",
       "      <td>Yes</td>\n",
       "      <td>No</td>\n",
       "      <td>No</td>\n",
       "      <td>Yes</td>\n",
       "      <td>No</td>\n",
       "      <td>0.604</td>\n",
       "      <td>0.511</td>\n",
       "      <td>67.602936</td>\n",
       "    </tr>\n",
       "    <tr>\n",
       "      <th>2</th>\n",
       "      <td>Air Heads</td>\n",
       "      <td>No</td>\n",
       "      <td>Yes</td>\n",
       "      <td>No</td>\n",
       "      <td>No</td>\n",
       "      <td>No</td>\n",
       "      <td>No</td>\n",
       "      <td>No</td>\n",
       "      <td>No</td>\n",
       "      <td>No</td>\n",
       "      <td>0.906</td>\n",
       "      <td>0.511</td>\n",
       "      <td>52.341465</td>\n",
       "    </tr>\n",
       "    <tr>\n",
       "      <th>3</th>\n",
       "      <td>Almond Joy</td>\n",
       "      <td>Yes</td>\n",
       "      <td>No</td>\n",
       "      <td>No</td>\n",
       "      <td>Yes</td>\n",
       "      <td>No</td>\n",
       "      <td>No</td>\n",
       "      <td>No</td>\n",
       "      <td>Yes</td>\n",
       "      <td>No</td>\n",
       "      <td>0.465</td>\n",
       "      <td>0.767</td>\n",
       "      <td>50.347546</td>\n",
       "    </tr>\n",
       "    <tr>\n",
       "      <th>4</th>\n",
       "      <td>Baby Ruth</td>\n",
       "      <td>Yes</td>\n",
       "      <td>No</td>\n",
       "      <td>Yes</td>\n",
       "      <td>Yes</td>\n",
       "      <td>Yes</td>\n",
       "      <td>No</td>\n",
       "      <td>No</td>\n",
       "      <td>Yes</td>\n",
       "      <td>No</td>\n",
       "      <td>0.604</td>\n",
       "      <td>0.767</td>\n",
       "      <td>56.914547</td>\n",
       "    </tr>\n",
       "  </tbody>\n",
       "</table>\n",
       "</div>"
      ],
      "text/plain": [
       "   competitorname chocolate fruity caramel peanutyalmondy nougat  \\\n",
       "id                                                                 \n",
       "0       100 Grand       Yes     No     Yes             No     No   \n",
       "1    3 Musketeers       Yes     No      No             No    Yes   \n",
       "2       Air Heads        No    Yes      No             No     No   \n",
       "3      Almond Joy       Yes     No      No            Yes     No   \n",
       "4       Baby Ruth       Yes     No     Yes            Yes    Yes   \n",
       "\n",
       "   crispedricewafer hard  bar pluribus  sugarpercent  pricepercent  winpercent  \n",
       "id                                                                              \n",
       "0               Yes   No  Yes       No         0.732         0.860   66.971725  \n",
       "1                No   No  Yes       No         0.604         0.511   67.602936  \n",
       "2                No   No   No       No         0.906         0.511   52.341465  \n",
       "3                No   No  Yes       No         0.465         0.767   50.347546  \n",
       "4                No   No  Yes       No         0.604         0.767   56.914547  "
      ]
     },
     "execution_count": 5,
     "metadata": {},
     "output_type": "execute_result"
    }
   ],
   "source": [
    "# Print the first five rows of the data\n",
    "candy_data.head()# Your code here"
   ]
  },
  {
   "cell_type": "markdown",
   "id": "9c0ac05a",
   "metadata": {
    "papermill": {
     "duration": 0.011359,
     "end_time": "2022-07-13T17:37:55.679700",
     "exception": false,
     "start_time": "2022-07-13T17:37:55.668341",
     "status": "completed"
    },
    "tags": []
   },
   "source": [
    "The dataset contains 83 rows, where each corresponds to a different candy bar.  There are 13 columns:\n",
    "- `'competitorname'` contains the name of the candy bar. \n",
    "- the next **9** columns (from `'chocolate'` to `'pluribus'`) describe the candy.  For instance, rows with chocolate candies have `\"Yes\"` in the `'chocolate'` column (and candies without chocolate have `\"No\"` in the same column).\n",
    "- `'sugarpercent'` provides some indication of the amount of sugar, where higher values signify higher sugar content.\n",
    "- `'pricepercent'` shows the price per unit, relative to the other candies in the dataset.\n",
    "- `'winpercent'` is calculated from the survey results; higher values indicate that the candy was more popular with survey respondents.\n",
    "\n",
    "Use the first five rows of the data to answer the questions below."
   ]
  },
  {
   "cell_type": "code",
   "execution_count": 6,
   "id": "c3a39c65",
   "metadata": {
    "execution": {
     "iopub.execute_input": "2022-07-13T17:37:55.705106Z",
     "iopub.status.busy": "2022-07-13T17:37:55.704257Z",
     "iopub.status.idle": "2022-07-13T17:37:55.714346Z",
     "shell.execute_reply": "2022-07-13T17:37:55.713456Z"
    },
    "papermill": {
     "duration": 0.025441,
     "end_time": "2022-07-13T17:37:55.716635",
     "exception": false,
     "start_time": "2022-07-13T17:37:55.691194",
     "status": "completed"
    },
    "tags": []
   },
   "outputs": [
    {
     "data": {
      "application/javascript": [
       "parent.postMessage({\"jupyterEvent\": \"custom.exercise_interaction\", \"data\": {\"outcomeType\": 1, \"valueTowardsCompletion\": 0.3333333333333333, \"interactionType\": 1, \"questionType\": 1, \"questionId\": \"2_ReviewData\", \"learnToolsVersion\": \"0.3.4\", \"failureMessage\": \"\", \"exceptionClass\": \"\", \"trace\": \"\"}}, \"*\")"
      ],
      "text/plain": [
       "<IPython.core.display.Javascript object>"
      ]
     },
     "metadata": {},
     "output_type": "display_data"
    },
    {
     "data": {
      "text/markdown": [
       "<span style=\"color:#33cc33\">Correct</span>"
      ],
      "text/plain": [
       "Correct"
      ]
     },
     "metadata": {},
     "output_type": "display_data"
    }
   ],
   "source": [
    "# Fill in the line below: Which candy was more popular with survey respondents:\n",
    "# '3 Musketeers' or 'Almond Joy'?  (Please enclose your answer in single quotes.)\n",
    "more_popular = \"3 Musketeers\"\n",
    "\n",
    "# Fill in the line below: Which candy has higher sugar content: 'Air Heads'\n",
    "# or 'Baby Ruth'? (Please enclose your answer in single quotes.)\n",
    "more_sugar = \"Air Heads\"\n",
    "\n",
    "# Check your answers\n",
    "step_2.check()"
   ]
  },
  {
   "cell_type": "code",
   "execution_count": 7,
   "id": "cbdc7822",
   "metadata": {
    "execution": {
     "iopub.execute_input": "2022-07-13T17:37:55.742199Z",
     "iopub.status.busy": "2022-07-13T17:37:55.741224Z",
     "iopub.status.idle": "2022-07-13T17:37:55.746176Z",
     "shell.execute_reply": "2022-07-13T17:37:55.745364Z"
    },
    "papermill": {
     "duration": 0.020282,
     "end_time": "2022-07-13T17:37:55.748590",
     "exception": false,
     "start_time": "2022-07-13T17:37:55.728308",
     "status": "completed"
    },
    "tags": []
   },
   "outputs": [],
   "source": [
    "# Lines below will give you a hint or solution code\n",
    "#step_2.hint()\n",
    "#step_2.solution()"
   ]
  },
  {
   "cell_type": "markdown",
   "id": "39f294a1",
   "metadata": {
    "papermill": {
     "duration": 0.01109,
     "end_time": "2022-07-13T17:37:55.771216",
     "exception": false,
     "start_time": "2022-07-13T17:37:55.760126",
     "status": "completed"
    },
    "tags": []
   },
   "source": [
    "## Step 3: The role of sugar\n",
    "\n",
    "Do people tend to prefer candies with higher sugar content?  \n",
    "\n",
    "#### Part A\n",
    "\n",
    "Create a scatter plot that shows the relationship between `'sugarpercent'` (on the horizontal x-axis) and `'winpercent'` (on the vertical y-axis).  _Don't add a regression line just yet -- you'll do that in the next step!_"
   ]
  },
  {
   "cell_type": "code",
   "execution_count": 8,
   "id": "90f5fcde",
   "metadata": {
    "execution": {
     "iopub.execute_input": "2022-07-13T17:37:55.797082Z",
     "iopub.status.busy": "2022-07-13T17:37:55.796265Z",
     "iopub.status.idle": "2022-07-13T17:37:56.024023Z",
     "shell.execute_reply": "2022-07-13T17:37:56.023026Z"
    },
    "papermill": {
     "duration": 0.244068,
     "end_time": "2022-07-13T17:37:56.026772",
     "exception": false,
     "start_time": "2022-07-13T17:37:55.782704",
     "status": "completed"
    },
    "tags": []
   },
   "outputs": [
    {
     "data": {
      "application/javascript": [
       "parent.postMessage({\"jupyterEvent\": \"custom.exercise_interaction\", \"data\": {\"outcomeType\": 1, \"valueTowardsCompletion\": 0.3333333333333333, \"interactionType\": 1, \"questionType\": 2, \"questionId\": \"3.1_PlotBlueScatter\", \"learnToolsVersion\": \"0.3.4\", \"failureMessage\": \"\", \"exceptionClass\": \"\", \"trace\": \"\"}}, \"*\")"
      ],
      "text/plain": [
       "<IPython.core.display.Javascript object>"
      ]
     },
     "metadata": {},
     "output_type": "display_data"
    },
    {
     "data": {
      "text/markdown": [
       "<span style=\"color:#33cc33\">Correct</span>"
      ],
      "text/plain": [
       "Correct"
      ]
     },
     "metadata": {},
     "output_type": "display_data"
    },
    {
     "data": {
      "image/png": "[encoded data removed]",
      "text/plain": [
       "<Figure size 432x288 with 1 Axes>"
      ]
     },
     "metadata": {
      "needs_background": "light"
     },
     "output_type": "display_data"
    }
   ],
   "source": [
    "# Scatter plot showing the relationship between 'sugarpercent' and 'winpercent'\n",
    " # Your code here\n",
    "sns.scatterplot(x=candy_data['sugarpercent'],y=candy_data['winpercent'])\n",
    "# Check your answer\n",
    "step_3.a.check()"
   ]
  },
  {
   "cell_type": "code",
   "execution_count": 9,
   "id": "e8a9f280",
   "metadata": {
    "execution": {
     "iopub.execute_input": "2022-07-13T17:37:56.054194Z",
     "iopub.status.busy": "2022-07-13T17:37:56.053365Z",
     "iopub.status.idle": "2022-07-13T17:37:56.058979Z",
     "shell.execute_reply": "2022-07-13T17:37:56.057713Z"
    },
    "papermill": {
     "duration": 0.022536,
     "end_time": "2022-07-13T17:37:56.061561",
     "exception": false,
     "start_time": "2022-07-13T17:37:56.039025",
     "status": "completed"
    },
    "tags": []
   },
   "outputs": [],
   "source": [
    "# Lines below will give you a hint or solution code\n",
    "#step_3.a.hint()\n",
    "#step_3.a.solution_plot()"
   ]
  },
  {
   "cell_type": "markdown",
   "id": "881f12ac",
   "metadata": {
    "papermill": {
     "duration": 0.011638,
     "end_time": "2022-07-13T17:37:56.085254",
     "exception": false,
     "start_time": "2022-07-13T17:37:56.073616",
     "status": "completed"
    },
    "tags": []
   },
   "source": [
    "#### Part B\n",
    "\n",
    "Does the scatter plot show a **strong** correlation between the two variables?  If so, are candies with more sugar relatively more or less popular with the survey respondents?"
   ]
  },
  {
   "cell_type": "code",
   "execution_count": 10,
   "id": "e5ce1541",
   "metadata": {
    "execution": {
     "iopub.execute_input": "2022-07-13T17:37:56.111300Z",
     "iopub.status.busy": "2022-07-13T17:37:56.110653Z",
     "iopub.status.idle": "2022-07-13T17:37:56.115720Z",
     "shell.execute_reply": "2022-07-13T17:37:56.114760Z"
    },
    "papermill": {
     "duration": 0.02095,
     "end_time": "2022-07-13T17:37:56.118248",
     "exception": false,
     "start_time": "2022-07-13T17:37:56.097298",
     "status": "completed"
    },
    "tags": []
   },
   "outputs": [],
   "source": [
    "#step_3.b.hint()"
   ]
  },
  {
   "cell_type": "markdown",
   "id": "d80e87f8",
   "metadata": {
    "papermill": {
     "duration": 0.0117,
     "end_time": "2022-07-13T17:37:56.142448",
     "exception": false,
     "start_time": "2022-07-13T17:37:56.130748",
     "status": "completed"
    },
    "tags": []
   },
   "source": []
  },
  {
   "cell_type": "code",
   "execution_count": 11,
   "id": "a21baf68",
   "metadata": {
    "execution": {
     "iopub.execute_input": "2022-07-13T17:37:56.168270Z",
     "iopub.status.busy": "2022-07-13T17:37:56.167324Z",
     "iopub.status.idle": "2022-07-13T17:37:56.172035Z",
     "shell.execute_reply": "2022-07-13T17:37:56.170773Z"
    },
    "papermill": {
     "duration": 0.020292,
     "end_time": "2022-07-13T17:37:56.174640",
     "exception": false,
     "start_time": "2022-07-13T17:37:56.154348",
     "status": "completed"
    },
    "tags": []
   },
   "outputs": [],
   "source": [
    "# Check your answer (Run this code cell to receive credit!)\n",
    "#step_3.b.solution()"
   ]
  },
  {
   "cell_type": "markdown",
   "id": "f7fa2e73",
   "metadata": {
    "papermill": {
     "duration": 0.011454,
     "end_time": "2022-07-13T17:37:56.198162",
     "exception": false,
     "start_time": "2022-07-13T17:37:56.186708",
     "status": "completed"
    },
    "tags": []
   },
   "source": [
    "## Step 4: Take a closer look\n",
    "\n",
    "#### Part A\n",
    "\n",
    "Create the same scatter plot you created in **Step 3**, but now with a regression line!"
   ]
  },
  {
   "cell_type": "code",
   "execution_count": 12,
   "id": "d7511b4c",
   "metadata": {
    "execution": {
     "iopub.execute_input": "2022-07-13T17:37:56.223687Z",
     "iopub.status.busy": "2022-07-13T17:37:56.223255Z",
     "iopub.status.idle": "2022-07-13T17:37:56.497662Z",
     "shell.execute_reply": "2022-07-13T17:37:56.496444Z"
    },
    "papermill": {
     "duration": 0.290143,
     "end_time": "2022-07-13T17:37:56.500174",
     "exception": false,
     "start_time": "2022-07-13T17:37:56.210031",
     "status": "completed"
    },
    "tags": []
   },
   "outputs": [
    {
     "data": {
      "application/javascript": [
       "parent.postMessage({\"jupyterEvent\": \"custom.exercise_interaction\", \"data\": {\"outcomeType\": 1, \"valueTowardsCompletion\": 0.3333333333333333, \"interactionType\": 1, \"questionType\": 2, \"questionId\": \"4.1_PlotBlueReg\", \"learnToolsVersion\": \"0.3.4\", \"failureMessage\": \"\", \"exceptionClass\": \"\", \"trace\": \"\"}}, \"*\")"
      ],
      "text/plain": [
       "<IPython.core.display.Javascript object>"
      ]
     },
     "metadata": {},
     "output_type": "display_data"
    },
    {
     "data": {
      "text/markdown": [
       "<span style=\"color:#33cc33\">Correct</span>"
      ],
      "text/plain": [
       "Correct"
      ]
     },
     "metadata": {},
     "output_type": "display_data"
    },
    {
     "data": {
      "image/png": "[encoded data removed]",
      "text/plain": [
       "<Figure size 432x288 with 1 Axes>"
      ]
     },
     "metadata": {
      "needs_background": "light"
     },
     "output_type": "display_data"
    }
   ],
   "source": [
    "# Scatter plot w/ regression line showing the relationship between 'sugarpercent' and 'winpercent'\n",
    " # Your code here\n",
    "sns.regplot(x=candy_data[\"sugarpercent\"],y=candy_data[\"winpercent\"])\n",
    "\n",
    "# Check your answer\n",
    "step_4.a.check()"
   ]
  },
  {
   "cell_type": "code",
   "execution_count": 13,
   "id": "01d74bd5",
   "metadata": {
    "execution": {
     "iopub.execute_input": "2022-07-13T17:37:56.527897Z",
     "iopub.status.busy": "2022-07-13T17:37:56.527075Z",
     "iopub.status.idle": "2022-07-13T17:37:56.532175Z",
     "shell.execute_reply": "2022-07-13T17:37:56.531044Z"
    },
    "papermill": {
     "duration": 0.02227,
     "end_time": "2022-07-13T17:37:56.535014",
     "exception": false,
     "start_time": "2022-07-13T17:37:56.512744",
     "status": "completed"
    },
    "tags": []
   },
   "outputs": [],
   "source": [
    "# Lines below will give you a hint or solution code\n",
    "#step_4.a.hint()\n",
    "#step_4.a.solution_plot()"
   ]
  },
  {
   "cell_type": "markdown",
   "id": "44a8021c",
   "metadata": {
    "papermill": {
     "duration": 0.012195,
     "end_time": "2022-07-13T17:37:56.559742",
     "exception": false,
     "start_time": "2022-07-13T17:37:56.547547",
     "status": "completed"
    },
    "tags": []
   },
   "source": [
    "#### Part B\n",
    "\n",
    "According to the plot above, is there a **slight** correlation between `'winpercent'` and `'sugarpercent'`?  What does this tell you about the candy that people tend to prefer?"
   ]
  },
  {
   "cell_type": "code",
   "execution_count": 14,
   "id": "fdb907f1",
   "metadata": {
    "execution": {
     "iopub.execute_input": "2022-07-13T17:37:56.587100Z",
     "iopub.status.busy": "2022-07-13T17:37:56.586309Z",
     "iopub.status.idle": "2022-07-13T17:37:56.590894Z",
     "shell.execute_reply": "2022-07-13T17:37:56.590068Z"
    },
    "papermill": {
     "duration": 0.021169,
     "end_time": "2022-07-13T17:37:56.593394",
     "exception": false,
     "start_time": "2022-07-13T17:37:56.572225",
     "status": "completed"
    },
    "tags": []
   },
   "outputs": [],
   "source": [
    "#step_4.b.hint()"
   ]
  },
  {
   "cell_type": "code",
   "execution_count": 15,
   "id": "c591f444",
   "metadata": {
    "execution": {
     "iopub.execute_input": "2022-07-13T17:37:56.621881Z",
     "iopub.status.busy": "2022-07-13T17:37:56.620852Z",
     "iopub.status.idle": "2022-07-13T17:37:56.625178Z",
     "shell.execute_reply": "2022-07-13T17:37:56.624351Z"
    },
    "papermill": {
     "duration": 0.020854,
     "end_time": "2022-07-13T17:37:56.627354",
     "exception": false,
     "start_time": "2022-07-13T17:37:56.606500",
     "status": "completed"
    },
    "tags": []
   },
   "outputs": [],
   "source": [
    "# Check your answer (Run this code cell to receive credit!)\n",
    "#step_4.b.solution()"
   ]
  },
  {
   "cell_type": "markdown",
   "id": "836777d4",
   "metadata": {
    "papermill": {
     "duration": 0.012016,
     "end_time": "2022-07-13T17:37:56.651875",
     "exception": false,
     "start_time": "2022-07-13T17:37:56.639859",
     "status": "completed"
    },
    "tags": []
   },
   "source": [
    "## Step 5: Chocolate!\n",
    "\n",
    "In the code cell below, create a scatter plot to show the relationship between `'pricepercent'` (on the horizontal x-axis) and `'winpercent'` (on the vertical y-axis). Use the `'chocolate'` column to color-code the points.  _Don't add any regression lines just yet -- you'll do that in the next step!_"
   ]
  },
  {
   "cell_type": "code",
   "execution_count": 16,
   "id": "ef87fd2b",
   "metadata": {
    "execution": {
     "iopub.execute_input": "2022-07-13T17:37:56.678622Z",
     "iopub.status.busy": "2022-07-13T17:37:56.677916Z",
     "iopub.status.idle": "2022-07-13T17:37:56.940336Z",
     "shell.execute_reply": "2022-07-13T17:37:56.939347Z"
    },
    "papermill": {
     "duration": 0.278181,
     "end_time": "2022-07-13T17:37:56.942658",
     "exception": false,
     "start_time": "2022-07-13T17:37:56.664477",
     "status": "completed"
    },
    "tags": []
   },
   "outputs": [
    {
     "data": {
      "application/javascript": [
       "parent.postMessage({\"jupyterEvent\": \"custom.exercise_interaction\", \"data\": {\"outcomeType\": 1, \"valueTowardsCompletion\": 0.3333333333333333, \"interactionType\": 1, \"questionType\": 2, \"questionId\": \"5_ColorScatter\", \"learnToolsVersion\": \"0.3.4\", \"failureMessage\": \"\", \"exceptionClass\": \"\", \"trace\": \"\"}}, \"*\")"
      ],
      "text/plain": [
       "<IPython.core.display.Javascript object>"
      ]
     },
     "metadata": {},
     "output_type": "display_data"
    },
    {
     "data": {
      "text/markdown": [
       "<span style=\"color:#33cc33\">Correct</span>"
      ],
      "text/plain": [
       "Correct"
      ]
     },
     "metadata": {},
     "output_type": "display_data"
    },
    {
     "data": {
      "image/png": "[encoded data removed]",
      "text/plain": [
       "<Figure size 432x288 with 1 Axes>"
      ]
     },
     "metadata": {
      "needs_background": "light"
     },
     "output_type": "display_data"
    }
   ],
   "source": [
    "# Scatter plot showing the relationship between 'pricepercent', 'winpercent', and 'chocolate'\n",
    "sns.scatterplot(x=candy_data['pricepercent'],y=candy_data['winpercent'],hue=candy_data['chocolate']) # Your code here\n",
    "\n",
    "# Check your answer\n",
    "step_5.check()"
   ]
  },
  {
   "cell_type": "code",
   "execution_count": 17,
   "id": "95e825b3",
   "metadata": {
    "execution": {
     "iopub.execute_input": "2022-07-13T17:37:56.972578Z",
     "iopub.status.busy": "2022-07-13T17:37:56.971989Z",
     "iopub.status.idle": "2022-07-13T17:37:56.975959Z",
     "shell.execute_reply": "2022-07-13T17:37:56.974902Z"
    },
    "papermill": {
     "duration": 0.021333,
     "end_time": "2022-07-13T17:37:56.978237",
     "exception": false,
     "start_time": "2022-07-13T17:37:56.956904",
     "status": "completed"
    },
    "tags": []
   },
   "outputs": [],
   "source": [
    "# Lines below will give you a hint or solution code\n",
    "#step_5.hint()\n",
    "#step_5.solution_plot()"
   ]
  },
  {
   "cell_type": "markdown",
   "id": "79ab8b2f",
   "metadata": {
    "papermill": {
     "duration": 0.012607,
     "end_time": "2022-07-13T17:37:57.003843",
     "exception": false,
     "start_time": "2022-07-13T17:37:56.991236",
     "status": "completed"
    },
    "tags": []
   },
   "source": [
    "Can you see any interesting patterns in the scatter plot?  We'll investigate this plot further  by adding regression lines in the next step!\n",
    "\n",
    "## Step 6: Investigate chocolate\n",
    "\n",
    "#### Part A\n",
    "\n",
    "Create the same scatter plot you created in **Step 5**, but now with two regression lines, corresponding to (1) chocolate candies and (2) candies without chocolate."
   ]
  },
  {
   "cell_type": "code",
   "execution_count": 18,
   "id": "ed088a15",
   "metadata": {
    "execution": {
     "iopub.execute_input": "2022-07-13T17:37:57.032002Z",
     "iopub.status.busy": "2022-07-13T17:37:57.031290Z",
     "iopub.status.idle": "2022-07-13T17:37:57.650567Z",
     "shell.execute_reply": "2022-07-13T17:37:57.649268Z"
    },
    "papermill": {
     "duration": 0.636701,
     "end_time": "2022-07-13T17:37:57.653534",
     "exception": false,
     "start_time": "2022-07-13T17:37:57.016833",
     "status": "completed"
    },
    "tags": []
   },
   "outputs": [
    {
     "data": {
      "application/javascript": [
       "parent.postMessage({\"jupyterEvent\": \"custom.exercise_interaction\", \"data\": {\"outcomeType\": 1, \"valueTowardsCompletion\": 0.3333333333333333, \"interactionType\": 1, \"questionType\": 2, \"questionId\": \"6.1_PlotColorReg\", \"learnToolsVersion\": \"0.3.4\", \"failureMessage\": \"\", \"exceptionClass\": \"\", \"trace\": \"\"}}, \"*\")"
      ],
      "text/plain": [
       "<IPython.core.display.Javascript object>"
      ]
     },
     "metadata": {},
     "output_type": "display_data"
    },
    {
     "data": {
      "text/markdown": [
       "<span style=\"color:#33cc33\">Correct</span>"
      ],
      "text/plain": [
       "Correct"
      ]
     },
     "metadata": {},
     "output_type": "display_data"
    },
    {
     "data": {
      "image/png": "[encoded data removed]",
      "text/plain": [
       "<Figure size 416.375x360 with 1 Axes>"
      ]
     },
     "metadata": {
      "needs_background": "light"
     },
     "output_type": "display_data"
    }
   ],
   "source": [
    "# Color-coded scatter plot w/ regression lines\n",
    "# Your code here\n",
    "sns.lmplot(x=\"pricepercent\", y=\"winpercent\", hue=\"chocolate\", data=candy_data)\n",
    "\n",
    "# Check your answer\n",
    "step_6.a.check()"
   ]
  },
  {
   "cell_type": "code",
   "execution_count": 19,
   "id": "d6b41a36",
   "metadata": {
    "execution": {
     "iopub.execute_input": "2022-07-13T17:37:57.683729Z",
     "iopub.status.busy": "2022-07-13T17:37:57.682815Z",
     "iopub.status.idle": "2022-07-13T17:37:57.688255Z",
     "shell.execute_reply": "2022-07-13T17:37:57.687144Z"
    },
    "papermill": {
     "duration": 0.023195,
     "end_time": "2022-07-13T17:37:57.690825",
     "exception": false,
     "start_time": "2022-07-13T17:37:57.667630",
     "status": "completed"
    },
    "tags": []
   },
   "outputs": [],
   "source": [
    "# Lines below will give you a hint or solution code\n",
    "#step_6.a.hint()\n",
    "#step_6.a.solution_plot()"
   ]
  },
  {
   "cell_type": "markdown",
   "id": "9eb64ee9",
   "metadata": {
    "papermill": {
     "duration": 0.014454,
     "end_time": "2022-07-13T17:37:57.719600",
     "exception": false,
     "start_time": "2022-07-13T17:37:57.705146",
     "status": "completed"
    },
    "tags": []
   },
   "source": [
    "#### Part B\n",
    "\n",
    "Using the regression lines, what conclusions can you draw about the effects of chocolate and price on candy popularity?"
   ]
  },
  {
   "cell_type": "code",
   "execution_count": 20,
   "id": "7505ce02",
   "metadata": {
    "execution": {
     "iopub.execute_input": "2022-07-13T17:37:57.748708Z",
     "iopub.status.busy": "2022-07-13T17:37:57.748296Z",
     "iopub.status.idle": "2022-07-13T17:37:57.753648Z",
     "shell.execute_reply": "2022-07-13T17:37:57.752366Z"
    },
    "papermill": {
     "duration": 0.02275,
     "end_time": "2022-07-13T17:37:57.756114",
     "exception": false,
     "start_time": "2022-07-13T17:37:57.733364",
     "status": "completed"
    },
    "tags": []
   },
   "outputs": [],
   "source": [
    "#step_6.b.hint()"
   ]
  },
  {
   "cell_type": "code",
   "execution_count": 21,
   "id": "514e3bf9",
   "metadata": {
    "execution": {
     "iopub.execute_input": "2022-07-13T17:37:57.785878Z",
     "iopub.status.busy": "2022-07-13T17:37:57.785471Z",
     "iopub.status.idle": "2022-07-13T17:37:57.795289Z",
     "shell.execute_reply": "2022-07-13T17:37:57.794171Z"
    },
    "papermill": {
     "duration": 0.027722,
     "end_time": "2022-07-13T17:37:57.797729",
     "exception": false,
     "start_time": "2022-07-13T17:37:57.770007",
     "status": "completed"
    },
    "tags": []
   },
   "outputs": [
    {
     "data": {
      "application/javascript": [
       "parent.postMessage({\"jupyterEvent\": \"custom.exercise_interaction\", \"data\": {\"interactionType\": 3, \"questionType\": 4, \"questionId\": \"6.2_ThinkColorReg\", \"learnToolsVersion\": \"0.3.4\", \"valueTowardsCompletion\": 0.0, \"failureMessage\": \"\", \"exceptionClass\": \"\", \"trace\": \"\", \"outcomeType\": 4}}, \"*\")"
      ],
      "text/plain": [
       "<IPython.core.display.Javascript object>"
      ]
     },
     "metadata": {},
     "output_type": "display_data"
    },
    {
     "data": {
      "text/markdown": [
       "<span style=\"color:#33cc99\">Solution:</span> We'll begin with the regression line for chocolate candies. Since this line has a slightly positive slope, we can say that more expensive chocolate candies tend to be more popular (than relatively cheaper chocolate candies).  Likewise, since the regression line for candies without chocolate has a negative slope, we can say that if candies don't contain chocolate, they tend to be more popular when they are cheaper.  One important note, however, is that the dataset is quite small -- so we shouldn't invest too much trust in these patterns!  To inspire more confidence in the results, we should add more candies to the dataset."
      ],
      "text/plain": [
       "Solution: We'll begin with the regression line for chocolate candies. Since this line has a slightly positive slope, we can say that more expensive chocolate candies tend to be more popular (than relatively cheaper chocolate candies).  Likewise, since the regression line for candies without chocolate has a negative slope, we can say that if candies don't contain chocolate, they tend to be more popular when they are cheaper.  One important note, however, is that the dataset is quite small -- so we shouldn't invest too much trust in these patterns!  To inspire more confidence in the results, we should add more candies to the dataset."
      ]
     },
     "metadata": {},
     "output_type": "display_data"
    }
   ],
   "source": [
    "# Check your answer (Run this code cell to receive credit!)\n",
    "step_6.b.solution()"
   ]
  },
  {
   "cell_type": "markdown",
   "id": "61eac606",
   "metadata": {
    "papermill": {
     "duration": 0.013856,
     "end_time": "2022-07-13T17:37:57.825634",
     "exception": false,
     "start_time": "2022-07-13T17:37:57.811778",
     "status": "completed"
    },
    "tags": []
   },
   "source": [
    "## Step 7: Everybody loves chocolate.\n",
    "\n",
    "#### Part A\n",
    "\n",
    "Create a categorical scatter plot to highlight the relationship between `'chocolate'` and `'winpercent'`.  Put `'chocolate'` on the (horizontal) x-axis, and `'winpercent'` on the (vertical) y-axis."
   ]
  },
  {
   "cell_type": "code",
   "execution_count": 22,
   "id": "f3793158",
   "metadata": {
    "execution": {
     "iopub.execute_input": "2022-07-13T17:37:57.856343Z",
     "iopub.status.busy": "2022-07-13T17:37:57.855468Z",
     "iopub.status.idle": "2022-07-13T17:37:58.064055Z",
     "shell.execute_reply": "2022-07-13T17:37:58.062702Z"
    },
    "papermill": {
     "duration": 0.226843,
     "end_time": "2022-07-13T17:37:58.066803",
     "exception": false,
     "start_time": "2022-07-13T17:37:57.839960",
     "status": "completed"
    },
    "tags": []
   },
   "outputs": [
    {
     "data": {
      "application/javascript": [
       "parent.postMessage({\"jupyterEvent\": \"custom.exercise_interaction\", \"data\": {\"outcomeType\": 1, \"valueTowardsCompletion\": 0.3333333333333333, \"interactionType\": 1, \"questionType\": 2, \"questionId\": \"7.1_PlotSwarm\", \"learnToolsVersion\": \"0.3.4\", \"failureMessage\": \"\", \"exceptionClass\": \"\", \"trace\": \"\"}}, \"*\")"
      ],
      "text/plain": [
       "<IPython.core.display.Javascript object>"
      ]
     },
     "metadata": {},
     "output_type": "display_data"
    },
    {
     "data": {
      "text/markdown": [
       "<span style=\"color:#33cc33\">Correct</span>"
      ],
      "text/plain": [
       "Correct"
      ]
     },
     "metadata": {},
     "output_type": "display_data"
    },
    {
     "data": {
      "image/png": "[encoded data removed]",
      "text/plain": [
       "<Figure size 432x288 with 1 Axes>"
      ]
     },
     "metadata": {
      "needs_background": "light"
     },
     "output_type": "display_data"
    }
   ],
   "source": [
    "# Scatter plot showing the relationship between 'chocolate' and 'winpercent'\n",
    "____ # Your code here\n",
    "sns.swarmplot(x=candy_data['chocolate'], y=candy_data['winpercent'])\n",
    "# Check your answer\n",
    "step_7.a.check()"
   ]
  },
  {
   "cell_type": "code",
   "execution_count": 23,
   "id": "5aaaf65a",
   "metadata": {
    "execution": {
     "iopub.execute_input": "2022-07-13T17:37:58.100179Z",
     "iopub.status.busy": "2022-07-13T17:37:58.099440Z",
     "iopub.status.idle": "2022-07-13T17:37:58.105013Z",
     "shell.execute_reply": "2022-07-13T17:37:58.103694Z"
    },
    "papermill": {
     "duration": 0.025472,
     "end_time": "2022-07-13T17:37:58.107609",
     "exception": false,
     "start_time": "2022-07-13T17:37:58.082137",
     "status": "completed"
    },
    "tags": []
   },
   "outputs": [],
   "source": [
    "# Lines below will give you a hint or solution code\n",
    "#step_7.a.hint()\n",
    "#step_7.a.solution_plot()\n"
   ]
  },
  {
   "cell_type": "markdown",
   "id": "d21c6e72",
   "metadata": {
    "papermill": {
     "duration": 0.014847,
     "end_time": "2022-07-13T17:37:58.137118",
     "exception": false,
     "start_time": "2022-07-13T17:37:58.122271",
     "status": "completed"
    },
    "tags": []
   },
   "source": [
    "#### Part B\n",
    "\n",
    "You decide to dedicate a section of your report to the fact that chocolate candies tend to be more popular than candies without chocolate.  Which plot is more appropriate to tell this story: the plot from **Step 6**, or the plot from **Step 7**?"
   ]
  },
  {
   "cell_type": "code",
   "execution_count": 24,
   "id": "e3ae9e0e",
   "metadata": {
    "execution": {
     "iopub.execute_input": "2022-07-13T17:37:58.169071Z",
     "iopub.status.busy": "2022-07-13T17:37:58.167847Z",
     "iopub.status.idle": "2022-07-13T17:37:58.178033Z",
     "shell.execute_reply": "2022-07-13T17:37:58.177177Z"
    },
    "papermill": {
     "duration": 0.028549,
     "end_time": "2022-07-13T17:37:58.180375",
     "exception": false,
     "start_time": "2022-07-13T17:37:58.151826",
     "status": "completed"
    },
    "tags": []
   },
   "outputs": [
    {
     "data": {
      "application/javascript": [
       "parent.postMessage({\"jupyterEvent\": \"custom.exercise_interaction\", \"data\": {\"interactionType\": 2, \"questionType\": 4, \"questionId\": \"7.2_ThinkSwarm\", \"learnToolsVersion\": \"0.3.4\", \"valueTowardsCompletion\": 0.0, \"failureMessage\": \"\", \"exceptionClass\": \"\", \"trace\": \"\", \"outcomeType\": 4}}, \"*\")"
      ],
      "text/plain": [
       "<IPython.core.display.Javascript object>"
      ]
     },
     "metadata": {},
     "output_type": "display_data"
    },
    {
     "data": {
      "text/markdown": [
       "<span style=\"color:#3366cc\">Hint:</span> Which plot communicates more information?  In general, it's good practice to use the simplest plot that tells the entire story of interest."
      ],
      "text/plain": [
       "Hint: Which plot communicates more information?  In general, it's good practice to use the simplest plot that tells the entire story of interest."
      ]
     },
     "metadata": {},
     "output_type": "display_data"
    }
   ],
   "source": [
    "step_7.b.hint()\n",
    "#step_7.b.solution()\n"
   ]
  },
  {
   "cell_type": "code",
   "execution_count": 25,
   "id": "b6fc28fb",
   "metadata": {
    "execution": {
     "iopub.execute_input": "2022-07-13T17:37:58.212657Z",
     "iopub.status.busy": "2022-07-13T17:37:58.211466Z",
     "iopub.status.idle": "2022-07-13T17:37:58.221209Z",
     "shell.execute_reply": "2022-07-13T17:37:58.220342Z"
    },
    "papermill": {
     "duration": 0.028544,
     "end_time": "2022-07-13T17:37:58.223711",
     "exception": false,
     "start_time": "2022-07-13T17:37:58.195167",
     "status": "completed"
    },
    "tags": []
   },
   "outputs": [
    {
     "data": {
      "application/javascript": [
       "parent.postMessage({\"jupyterEvent\": \"custom.exercise_interaction\", \"data\": {\"interactionType\": 3, \"questionType\": 4, \"questionId\": \"7.2_ThinkSwarm\", \"learnToolsVersion\": \"0.3.4\", \"valueTowardsCompletion\": 0.0, \"failureMessage\": \"\", \"exceptionClass\": \"\", \"trace\": \"\", \"outcomeType\": 4}}, \"*\")"
      ],
      "text/plain": [
       "<IPython.core.display.Javascript object>"
      ]
     },
     "metadata": {},
     "output_type": "display_data"
    },
    {
     "data": {
      "text/markdown": [
       "<span style=\"color:#33cc99\">Solution:</span> In this case, the categorical scatter plot from **Step 7** is the more appropriate plot. While both plots tell the desired story, the plot from **Step 6** conveys far more information that could distract from the main point."
      ],
      "text/plain": [
       "Solution: In this case, the categorical scatter plot from **Step 7** is the more appropriate plot. While both plots tell the desired story, the plot from **Step 6** conveys far more information that could distract from the main point."
      ]
     },
     "metadata": {},
     "output_type": "display_data"
    }
   ],
   "source": [
    "# Check your answer (Run this code cell to receive credit!)\n",
    "step_7.b.solution()"
   ]
  },
  {
   "cell_type": "markdown",
   "id": "33061b25",
   "metadata": {
    "papermill": {
     "duration": 0.014867,
     "end_time": "2022-07-13T17:37:58.253914",
     "exception": false,
     "start_time": "2022-07-13T17:37:58.239047",
     "status": "completed"
    },
    "tags": []
   },
   "source": [
    "## Keep going\n",
    "\n",
    "Explore **[histograms and density plots](https://www.kaggle.com/alexisbcook/distributions)**."
   ]
  },
  {
   "cell_type": "markdown",
   "id": "5cfe9901",
   "metadata": {
    "papermill": {
     "duration": 0.014808,
     "end_time": "2022-07-13T17:37:58.283955",
     "exception": false,
     "start_time": "2022-07-13T17:37:58.269147",
     "status": "completed"
    },
    "tags": []
   },
   "source": [
    "---\n",
    "\n",
    "\n",
    "\n",
    "\n",
    "*Have questions or comments? Visit the [course discussion forum](https://www.kaggle.com/learn/data-visualization/discussion) to chat with other learners.*"
   ]
  }
 ],
 "metadata": {
  "kernelspec": {
   "display_name": "Python 3",
   "language": "python",
   "name": "python3"
  },
  "language_info": {
   "codemirror_mode": {
    "name": "ipython",
    "version": 3
   },
   "file_extension": ".py",
   "mimetype": "text/x-python",
   "name": "python",
   "nbconvert_exporter": "python",
   "pygments_lexer": "ipython3",
   "version": "3.7.12"
  },
  "papermill": {
   "default_parameters": {},
   "duration": 16.544191,
   "end_time": "2022-07-13T17:37:59.122218",
   "environment_variables": {},
   "exception": null,
   "input_path": "__notebook__.ipynb",
   "output_path": "__notebook__.ipynb",
   "parameters": {},
   "start_time": "2022-07-13T17:37:42.578027",
   "version": "2.3.4"
  }
 },
 "nbformat": 4,
 "nbformat_minor": 5
}
