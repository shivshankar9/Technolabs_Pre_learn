{
 "cells": [
  {
   "cell_type": "markdown",
   "id": "aa40f90d",
   "metadata": {
    "papermill": {
     "duration": 0.010491,
     "end_time": "2022-07-13T07:18:21.357209",
     "exception": false,
     "start_time": "2022-07-13T07:18:21.346718",
     "status": "completed"
    },
    "tags": []
   },
   "source": [
    "**This notebook is an exercise in the [Data Visualization](https://www.kaggle.com/learn/data-visualization) course.  You can reference the tutorial at [this link](https://www.kaggle.com/alexisbcook/scatter-plots).**\n",
    "\n",
    "---\n"
   ]
  },
  {
   "cell_type": "markdown",
   "id": "c9e3dd6b",
   "metadata": {
    "papermill": {
     "duration": 0.006909,
     "end_time": "2022-07-13T07:18:21.371621",
     "exception": false,
     "start_time": "2022-07-13T07:18:21.364712",
     "status": "completed"
    },
    "tags": []
   },
   "source": [
    "In this exercise, you will use your new knowledge to propose a solution to a real-world scenario.  To succeed, you will need to import data into Python, answer questions using the data, and generate **scatter plots** to understand patterns in the data.\n",
    "\n",
    "## Scenario\n",
    "\n",
    "You work for a major candy producer, and your goal is to write a report that your company can use to guide the design of its next product.  Soon after starting your research, you stumble across this [very interesting dataset](https://fivethirtyeight.com/features/the-ultimate-halloween-candy-power-ranking/) containing results from a fun survey to crowdsource favorite candies.\n",
    "\n",
    "## Setup\n",
    "\n",
    "Run the next cell to import and configure the Python libraries that you need to complete the exercise."
   ]
  },
  {
   "cell_type": "code",
   "execution_count": 1,
   "id": "a292352b",
   "metadata": {
    "execution": {
     "iopub.execute_input": "2022-07-13T07:18:21.388505Z",
     "iopub.status.busy": "2022-07-13T07:18:21.387801Z",
     "iopub.status.idle": "2022-07-13T07:18:22.584690Z",
     "shell.execute_reply": "2022-07-13T07:18:22.583415Z"
    },
    "papermill": {
     "duration": 1.208716,
     "end_time": "2022-07-13T07:18:22.587825",
     "exception": false,
     "start_time": "2022-07-13T07:18:21.379109",
     "status": "completed"
    },
    "tags": []
   },
   "outputs": [
    {
     "name": "stdout",
     "output_type": "stream",
     "text": [
      "Setup Complete\n"
     ]
    }
   ],
   "source": [
    "import pandas as pd\n",
    "pd.plotting.register_matplotlib_converters()\n",
    "import matplotlib.pyplot as plt\n",
    "%matplotlib inline\n",
    "import seaborn as sns\n",
    "print(\"Setup Complete\")"
   ]
  },
  {
   "cell_type": "markdown",
   "id": "4cd94a14",
   "metadata": {
    "papermill": {
     "duration": 0.012082,
     "end_time": "2022-07-13T07:18:22.612341",
     "exception": false,
     "start_time": "2022-07-13T07:18:22.600259",
     "status": "completed"
    },
    "tags": []
   },
   "source": [
    "The questions below will give you feedback on your work. Run the following cell to set up our feedback system."
   ]
  },
  {
   "cell_type": "code",
   "execution_count": 2,
   "id": "2ba64a89",
   "metadata": {
    "execution": {
     "iopub.execute_input": "2022-07-13T07:18:22.638971Z",
     "iopub.status.busy": "2022-07-13T07:18:22.638649Z",
     "iopub.status.idle": "2022-07-13T07:18:22.701121Z",
     "shell.execute_reply": "2022-07-13T07:18:22.699849Z"
    },
    "papermill": {
     "duration": 0.078593,
     "end_time": "2022-07-13T07:18:22.703562",
     "exception": false,
     "start_time": "2022-07-13T07:18:22.624969",
     "status": "completed"
    },
    "tags": []
   },
   "outputs": [
    {
     "name": "stdout",
     "output_type": "stream",
     "text": [
      "Setup Complete\n"
     ]
    }
   ],
   "source": [
    "# Set up code checking\n",
    "import os\n",
    "if not os.path.exists(\"../input/candy.csv\"):\n",
    "    os.symlink(\"../input/data-for-datavis/candy.csv\", \"../input/candy.csv\") \n",
    "from learntools.core import binder\n",
    "binder.bind(globals())\n",
    "from learntools.data_viz_to_coder.ex4 import *\n",
    "print(\"Setup Complete\")"
   ]
  },
  {
   "cell_type": "markdown",
   "id": "b9408652",
   "metadata": {
    "papermill": {
     "duration": 0.01211,
     "end_time": "2022-07-13T07:18:22.728346",
     "exception": false,
     "start_time": "2022-07-13T07:18:22.716236",
     "status": "completed"
    },
    "tags": []
   },
   "source": [
    "## Step 1: Load the Data\n",
    "\n",
    "Read the candy data file into `candy_data`.  Use the `\"id\"` column to label the rows."
   ]
  },
  {
   "cell_type": "code",
   "execution_count": 3,
   "id": "63870cf3",
   "metadata": {
    "execution": {
     "iopub.execute_input": "2022-07-13T07:18:22.755767Z",
     "iopub.status.busy": "2022-07-13T07:18:22.754524Z",
     "iopub.status.idle": "2022-07-13T07:18:22.770952Z",
     "shell.execute_reply": "2022-07-13T07:18:22.769857Z"
    },
    "papermill": {
     "duration": 0.032404,
     "end_time": "2022-07-13T07:18:22.773233",
     "exception": false,
     "start_time": "2022-07-13T07:18:22.740829",
     "status": "completed"
    },
    "tags": []
   },
   "outputs": [
    {
     "data": {
      "application/javascript": [
       "parent.postMessage({\"jupyterEvent\": \"custom.exercise_interaction\", \"data\": {\"outcomeType\": 1, \"valueTowardsCompletion\": 0.3333333333333333, \"interactionType\": 1, \"questionType\": 1, \"questionId\": \"1_LoadData\", \"learnToolsVersion\": \"0.3.4\", \"failureMessage\": \"\", \"exceptionClass\": \"\", \"trace\": \"\"}}, \"*\")"
      ],
      "text/plain": [
       "<IPython.core.display.Javascript object>"
      ]
     },
     "metadata": {},
     "output_type": "display_data"
    },
    {
     "data": {
      "text/markdown": [
       "<span style=\"color:#33cc33\">Correct</span>"
      ],
      "text/plain": [
       "Correct"
      ]
     },
     "metadata": {},
     "output_type": "display_data"
    }
   ],
   "source": [
    "# Path of the file to read\n",
    "candy_filepath = \"../input/candy.csv\"\n",
    "\n",
    "# Fill in the line below to read the file into a variable candy_data\n",
    "candy_data = pd.read_csv(candy_filepath, index_col=\"id\")\n",
    "\n",
    "# Run the line below with no changes to check that you've loaded the data correctly\n",
    "step_1.check()"
   ]
  },
  {
   "cell_type": "code",
   "execution_count": 4,
   "id": "fd78d947",
   "metadata": {
    "execution": {
     "iopub.execute_input": "2022-07-13T07:18:22.801379Z",
     "iopub.status.busy": "2022-07-13T07:18:22.800433Z",
     "iopub.status.idle": "2022-07-13T07:18:22.804444Z",
     "shell.execute_reply": "2022-07-13T07:18:22.803768Z"
    },
    "papermill": {
     "duration": 0.019844,
     "end_time": "2022-07-13T07:18:22.806302",
     "exception": false,
     "start_time": "2022-07-13T07:18:22.786458",
     "status": "completed"
    },
    "tags": []
   },
   "outputs": [],
   "source": [
    "# Lines below will give you a hint or solution code\n",
    "#step_1.hint()\n",
    "#step_1.solution()"
   ]
  },
  {
   "cell_type": "markdown",
   "id": "5c37c294",
   "metadata": {
    "papermill": {
     "duration": 0.012061,
     "end_time": "2022-07-13T07:18:22.831672",
     "exception": false,
     "start_time": "2022-07-13T07:18:22.819611",
     "status": "completed"
    },
    "tags": []
   },
   "source": [
    "## Step 2: Review the data\n",
    "\n",
    "Use a Python command to print the first five rows of the data."
   ]
  },
  {
   "cell_type": "code",
   "execution_count": 5,
   "id": "105a35f1",
   "metadata": {
    "execution": {
     "iopub.execute_input": "2022-07-13T07:18:22.857649Z",
     "iopub.status.busy": "2022-07-13T07:18:22.856980Z",
     "iopub.status.idle": "2022-07-13T07:18:22.878462Z",
     "shell.execute_reply": "2022-07-13T07:18:22.877725Z"
    },
    "papermill": {
     "duration": 0.036672,
     "end_time": "2022-07-13T07:18:22.880527",
     "exception": false,
     "start_time": "2022-07-13T07:18:22.843855",
     "status": "completed"
    },
    "tags": []
   },
   "outputs": [
    {
     "data": {
      "text/html": [
       "<div>\n",
       "<style scoped>\n",
       "    .dataframe tbody tr th:only-of-type {\n",
       "        vertical-align: middle;\n",
       "    }\n",
       "\n",
       "    .dataframe tbody tr th {\n",
       "        vertical-align: top;\n",
       "    }\n",
       "\n",
       "    .dataframe thead th {\n",
       "        text-align: right;\n",
       "    }\n",
       "</style>\n",
       "<table border=\"1\" class=\"dataframe\">\n",
       "  <thead>\n",
       "    <tr style=\"text-align: right;\">\n",
       "      <th></th>\n",
       "      <th>competitorname</th>\n",
       "      <th>chocolate</th>\n",
       "      <th>fruity</th>\n",
       "      <th>caramel</th>\n",
       "      <th>peanutyalmondy</th>\n",
       "      <th>nougat</th>\n",
       "      <th>crispedricewafer</th>\n",
       "      <th>hard</th>\n",
       "      <th>bar</th>\n",
       "      <th>pluribus</th>\n",
       "      <th>sugarpercent</th>\n",
       "      <th>pricepercent</th>\n",
       "      <th>winpercent</th>\n",
       "    </tr>\n",
       "    <tr>\n",
       "      <th>id</th>\n",
       "      <th></th>\n",
       "      <th></th>\n",
       "      <th></th>\n",
       "      <th></th>\n",
       "      <th></th>\n",
       "      <th></th>\n",
       "      <th></th>\n",
       "      <th></th>\n",
       "      <th></th>\n",
       "      <th></th>\n",
       "      <th></th>\n",
       "      <th></th>\n",
       "      <th></th>\n",
       "    </tr>\n",
       "  </thead>\n",
       "  <tbody>\n",
       "    <tr>\n",
       "      <th>0</th>\n",
       "      <td>100 Grand</td>\n",
       "      <td>Yes</td>\n",
       "      <td>No</td>\n",
       "      <td>Yes</td>\n",
       "      <td>No</td>\n",
       "      <td>No</td>\n",
       "      <td>Yes</td>\n",
       "      <td>No</td>\n",
       "      <td>Yes</td>\n",
       "      <td>No</td>\n",
       "      <td>0.732</td>\n",
       "      <td>0.860</td>\n",
       "      <td>66.971725</td>\n",
       "    </tr>\n",
       "    <tr>\n",
       "      <th>1</th>\n",
       "      <td>3 Musketeers</td>\n",
       "      <td>Yes</td>\n",
       "      <td>No</td>\n",
       "      <td>No</td>\n",
       "      <td>No</td>\n",
       "      <td>Yes</td>\n",
       "      <td>No</td>\n",
       "      <td>No</td>\n",
       "      <td>Yes</td>\n",
       "      <td>No</td>\n",
       "      <td>0.604</td>\n",
       "      <td>0.511</td>\n",
       "      <td>67.602936</td>\n",
       "    </tr>\n",
       "    <tr>\n",
       "      <th>2</th>\n",
       "      <td>Air Heads</td>\n",
       "      <td>No</td>\n",
       "      <td>Yes</td>\n",
       "      <td>No</td>\n",
       "      <td>No</td>\n",
       "      <td>No</td>\n",
       "      <td>No</td>\n",
       "      <td>No</td>\n",
       "      <td>No</td>\n",
       "      <td>No</td>\n",
       "      <td>0.906</td>\n",
       "      <td>0.511</td>\n",
       "      <td>52.341465</td>\n",
       "    </tr>\n",
       "    <tr>\n",
       "      <th>3</th>\n",
       "      <td>Almond Joy</td>\n",
       "      <td>Yes</td>\n",
       "      <td>No</td>\n",
       "      <td>No</td>\n",
       "      <td>Yes</td>\n",
       "      <td>No</td>\n",
       "      <td>No</td>\n",
       "      <td>No</td>\n",
       "      <td>Yes</td>\n",
       "      <td>No</td>\n",
       "      <td>0.465</td>\n",
       "      <td>0.767</td>\n",
       "      <td>50.347546</td>\n",
       "    </tr>\n",
       "    <tr>\n",
       "      <th>4</th>\n",
       "      <td>Baby Ruth</td>\n",
       "      <td>Yes</td>\n",
       "      <td>No</td>\n",
       "      <td>Yes</td>\n",
       "      <td>Yes</td>\n",
       "      <td>Yes</td>\n",
       "      <td>No</td>\n",
       "      <td>No</td>\n",
       "      <td>Yes</td>\n",
       "      <td>No</td>\n",
       "      <td>0.604</td>\n",
       "      <td>0.767</td>\n",
       "      <td>56.914547</td>\n",
       "    </tr>\n",
       "  </tbody>\n",
       "</table>\n",
       "</div>"
      ],
      "text/plain": [
       "   competitorname chocolate fruity caramel peanutyalmondy nougat  \\\n",
       "id                                                                 \n",
       "0       100 Grand       Yes     No     Yes             No     No   \n",
       "1    3 Musketeers       Yes     No      No             No    Yes   \n",
       "2       Air Heads        No    Yes      No             No     No   \n",
       "3      Almond Joy       Yes     No      No            Yes     No   \n",
       "4       Baby Ruth       Yes     No     Yes            Yes    Yes   \n",
       "\n",
       "   crispedricewafer hard  bar pluribus  sugarpercent  pricepercent  winpercent  \n",
       "id                                                                              \n",
       "0               Yes   No  Yes       No         0.732         0.860   66.971725  \n",
       "1                No   No  Yes       No         0.604         0.511   67.602936  \n",
       "2                No   No   No       No         0.906         0.511   52.341465  \n",
       "3                No   No  Yes       No         0.465         0.767   50.347546  \n",
       "4                No   No  Yes       No         0.604         0.767   56.914547  "
      ]
     },
     "execution_count": 5,
     "metadata": {},
     "output_type": "execute_result"
    }
   ],
   "source": [
    "# Print the first five rows of the data\n",
    "candy_data.head()# Your code here"
   ]
  },
  {
   "cell_type": "markdown",
   "id": "b6c4f22f",
   "metadata": {
    "papermill": {
     "duration": 0.012263,
     "end_time": "2022-07-13T07:18:22.905318",
     "exception": false,
     "start_time": "2022-07-13T07:18:22.893055",
     "status": "completed"
    },
    "tags": []
   },
   "source": [
    "The dataset contains 83 rows, where each corresponds to a different candy bar.  There are 13 columns:\n",
    "- `'competitorname'` contains the name of the candy bar. \n",
    "- the next **9** columns (from `'chocolate'` to `'pluribus'`) describe the candy.  For instance, rows with chocolate candies have `\"Yes\"` in the `'chocolate'` column (and candies without chocolate have `\"No\"` in the same column).\n",
    "- `'sugarpercent'` provides some indication of the amount of sugar, where higher values signify higher sugar content.\n",
    "- `'pricepercent'` shows the price per unit, relative to the other candies in the dataset.\n",
    "- `'winpercent'` is calculated from the survey results; higher values indicate that the candy was more popular with survey respondents.\n",
    "\n",
    "Use the first five rows of the data to answer the questions below."
   ]
  },
  {
   "cell_type": "code",
   "execution_count": 6,
   "id": "6e6840b0",
   "metadata": {
    "execution": {
     "iopub.execute_input": "2022-07-13T07:18:22.932638Z",
     "iopub.status.busy": "2022-07-13T07:18:22.932130Z",
     "iopub.status.idle": "2022-07-13T07:18:22.937899Z",
     "shell.execute_reply": "2022-07-13T07:18:22.937378Z"
    },
    "papermill": {
     "duration": 0.022047,
     "end_time": "2022-07-13T07:18:22.939875",
     "exception": false,
     "start_time": "2022-07-13T07:18:22.917828",
     "status": "completed"
    },
    "tags": []
   },
   "outputs": [
    {
     "data": {
      "application/javascript": [
       "parent.postMessage({\"jupyterEvent\": \"custom.exercise_interaction\", \"data\": {\"outcomeType\": 1, \"valueTowardsCompletion\": 0.3333333333333333, \"interactionType\": 1, \"questionType\": 1, \"questionId\": \"2_ReviewData\", \"learnToolsVersion\": \"0.3.4\", \"failureMessage\": \"\", \"exceptionClass\": \"\", \"trace\": \"\"}}, \"*\")"
      ],
      "text/plain": [
       "<IPython.core.display.Javascript object>"
      ]
     },
     "metadata": {},
     "output_type": "display_data"
    },
    {
     "data": {
      "text/markdown": [
       "<span style=\"color:#33cc33\">Correct</span>"
      ],
      "text/plain": [
       "Correct"
      ]
     },
     "metadata": {},
     "output_type": "display_data"
    }
   ],
   "source": [
    "# Fill in the line below: Which candy was more popular with survey respondents:\n",
    "# '3 Musketeers' or 'Almond Joy'?  (Please enclose your answer in single quotes.)\n",
    "more_popular = \"3 Musketeers\"\n",
    "\n",
    "# Fill in the line below: Which candy has higher sugar content: 'Air Heads'\n",
    "# or 'Baby Ruth'? (Please enclose your answer in single quotes.)\n",
    "more_sugar = \"Air Heads\"\n",
    "\n",
    "# Check your answers\n",
    "step_2.check()"
   ]
  },
  {
   "cell_type": "code",
   "execution_count": 7,
   "id": "1ca5c53a",
   "metadata": {
    "execution": {
     "iopub.execute_input": "2022-07-13T07:18:22.969672Z",
     "iopub.status.busy": "2022-07-13T07:18:22.968729Z",
     "iopub.status.idle": "2022-07-13T07:18:22.972452Z",
     "shell.execute_reply": "2022-07-13T07:18:22.971667Z"
    },
    "papermill": {
     "duration": 0.020909,
     "end_time": "2022-07-13T07:18:22.974767",
     "exception": false,
     "start_time": "2022-07-13T07:18:22.953858",
     "status": "completed"
    },
    "tags": []
   },
   "outputs": [],
   "source": [
    "# Lines below will give you a hint or solution code\n",
    "#step_2.hint()\n",
    "#step_2.solution()"
   ]
  },
  {
   "cell_type": "markdown",
   "id": "5c494d87",
   "metadata": {
    "papermill": {
     "duration": 0.013205,
     "end_time": "2022-07-13T07:18:23.002030",
     "exception": false,
     "start_time": "2022-07-13T07:18:22.988825",
     "status": "completed"
    },
    "tags": []
   },
   "source": [
    "## Step 3: The role of sugar\n",
    "\n",
    "Do people tend to prefer candies with higher sugar content?  \n",
    "\n",
    "#### Part A\n",
    "\n",
    "Create a scatter plot that shows the relationship between `'sugarpercent'` (on the horizontal x-axis) and `'winpercent'` (on the vertical y-axis).  _Don't add a regression line just yet -- you'll do that in the next step!_"
   ]
  },
  {
   "cell_type": "code",
   "execution_count": 8,
   "id": "a2828202",
   "metadata": {
    "execution": {
     "iopub.execute_input": "2022-07-13T07:18:23.031136Z",
     "iopub.status.busy": "2022-07-13T07:18:23.030629Z",
     "iopub.status.idle": "2022-07-13T07:18:23.250405Z",
     "shell.execute_reply": "2022-07-13T07:18:23.249411Z"
    },
    "papermill": {
     "duration": 0.236651,
     "end_time": "2022-07-13T07:18:23.252402",
     "exception": false,
     "start_time": "2022-07-13T07:18:23.015751",
     "status": "completed"
    },
    "tags": []
   },
   "outputs": [
    {
     "data": {
      "application/javascript": [
       "parent.postMessage({\"jupyterEvent\": \"custom.exercise_interaction\", \"data\": {\"outcomeType\": 1, \"valueTowardsCompletion\": 0.3333333333333333, \"interactionType\": 1, \"questionType\": 2, \"questionId\": \"3.1_PlotBlueScatter\", \"learnToolsVersion\": \"0.3.4\", \"failureMessage\": \"\", \"exceptionClass\": \"\", \"trace\": \"\"}}, \"*\")"
      ],
      "text/plain": [
       "<IPython.core.display.Javascript object>"
      ]
     },
     "metadata": {},
     "output_type": "display_data"
    },
    {
     "data": {
      "text/markdown": [
       "<span style=\"color:#33cc33\">Correct</span>"
      ],
      "text/plain": [
       "Correct"
      ]
     },
     "metadata": {},
     "output_type": "display_data"
    },
    {
     "data": {
      "image/png": "[encoded data removed]",
      "text/plain": [
       "<Figure size 432x288 with 1 Axes>"
      ]
     },
     "metadata": {
      "needs_background": "light"
     },
     "output_type": "display_data"
    }
   ],
   "source": [
    "# Scatter plot showing the relationship between 'sugarpercent' and 'winpercent'\n",
    " # Your code here\n",
    "sns.scatterplot(x=candy_data['sugarpercent'],y=candy_data['winpercent'])\n",
    "# Check your answer\n",
    "step_3.a.check()"
   ]
  },
  {
   "cell_type": "code",
   "execution_count": 9,
   "id": "4b833852",
   "metadata": {
    "execution": {
     "iopub.execute_input": "2022-07-13T07:18:23.280855Z",
     "iopub.status.busy": "2022-07-13T07:18:23.280480Z",
     "iopub.status.idle": "2022-07-13T07:18:23.285037Z",
     "shell.execute_reply": "2022-07-13T07:18:23.283985Z"
    },
    "papermill": {
     "duration": 0.021053,
     "end_time": "2022-07-13T07:18:23.287104",
     "exception": false,
     "start_time": "2022-07-13T07:18:23.266051",
     "status": "completed"
    },
    "tags": []
   },
   "outputs": [],
   "source": [
    "# Lines below will give you a hint or solution code\n",
    "#step_3.a.hint()\n",
    "#step_3.a.solution_plot()"
   ]
  },
  {
   "cell_type": "markdown",
   "id": "74abb2e6",
   "metadata": {
    "papermill": {
     "duration": 0.013577,
     "end_time": "2022-07-13T07:18:23.314315",
     "exception": false,
     "start_time": "2022-07-13T07:18:23.300738",
     "status": "completed"
    },
    "tags": []
   },
   "source": [
    "#### Part B\n",
    "\n",
    "Does the scatter plot show a **strong** correlation between the two variables?  If so, are candies with more sugar relatively more or less popular with the survey respondents?"
   ]
  },
  {
   "cell_type": "code",
   "execution_count": 10,
   "id": "46995bc0",
   "metadata": {
    "execution": {
     "iopub.execute_input": "2022-07-13T07:18:23.345522Z",
     "iopub.status.busy": "2022-07-13T07:18:23.344715Z",
     "iopub.status.idle": "2022-07-13T07:18:23.349963Z",
     "shell.execute_reply": "2022-07-13T07:18:23.349084Z"
    },
    "papermill": {
     "duration": 0.023776,
     "end_time": "2022-07-13T07:18:23.352554",
     "exception": false,
     "start_time": "2022-07-13T07:18:23.328778",
     "status": "completed"
    },
    "tags": []
   },
   "outputs": [],
   "source": [
    "#step_3.b.hint()"
   ]
  },
  {
   "cell_type": "markdown",
   "id": "6a6e6fdd",
   "metadata": {
    "papermill": {
     "duration": 0.013753,
     "end_time": "2022-07-13T07:18:23.380552",
     "exception": false,
     "start_time": "2022-07-13T07:18:23.366799",
     "status": "completed"
    },
    "tags": []
   },
   "source": []
  },
  {
   "cell_type": "code",
   "execution_count": 11,
   "id": "2f3de247",
   "metadata": {
    "execution": {
     "iopub.execute_input": "2022-07-13T07:18:23.410944Z",
     "iopub.status.busy": "2022-07-13T07:18:23.410255Z",
     "iopub.status.idle": "2022-07-13T07:18:23.414928Z",
     "shell.execute_reply": "2022-07-13T07:18:23.413758Z"
    },
    "papermill": {
     "duration": 0.022562,
     "end_time": "2022-07-13T07:18:23.417458",
     "exception": false,
     "start_time": "2022-07-13T07:18:23.394896",
     "status": "completed"
    },
    "tags": []
   },
   "outputs": [],
   "source": [
    "# Check your answer (Run this code cell to receive credit!)\n",
    "#step_3.b.solution()"
   ]
  },
  {
   "cell_type": "markdown",
   "id": "9412ae84",
   "metadata": {
    "papermill": {
     "duration": 0.013309,
     "end_time": "2022-07-13T07:18:23.444796",
     "exception": false,
     "start_time": "2022-07-13T07:18:23.431487",
     "status": "completed"
    },
    "tags": []
   },
   "source": [
    "## Step 4: Take a closer look\n",
    "\n",
    "#### Part A\n",
    "\n",
    "Create the same scatter plot you created in **Step 3**, but now with a regression line!"
   ]
  },
  {
   "cell_type": "code",
   "execution_count": 12,
   "id": "381df88d",
   "metadata": {
    "execution": {
     "iopub.execute_input": "2022-07-13T07:18:23.475078Z",
     "iopub.status.busy": "2022-07-13T07:18:23.474426Z",
     "iopub.status.idle": "2022-07-13T07:18:23.747317Z",
     "shell.execute_reply": "2022-07-13T07:18:23.745770Z"
    },
    "papermill": {
     "duration": 0.290992,
     "end_time": "2022-07-13T07:18:23.749884",
     "exception": false,
     "start_time": "2022-07-13T07:18:23.458892",
     "status": "completed"
    },
    "tags": []
   },
   "outputs": [
    {
     "data": {
      "application/javascript": [
       "parent.postMessage({\"jupyterEvent\": \"custom.exercise_interaction\", \"data\": {\"outcomeType\": 1, \"valueTowardsCompletion\": 0.3333333333333333, \"interactionType\": 1, \"questionType\": 2, \"questionId\": \"4.1_PlotBlueReg\", \"learnToolsVersion\": \"0.3.4\", \"failureMessage\": \"\", \"exceptionClass\": \"\", \"trace\": \"\"}}, \"*\")"
      ],
      "text/plain": [
       "<IPython.core.display.Javascript object>"
      ]
     },
     "metadata": {},
     "output_type": "display_data"
    },
    {
     "data": {
      "text/markdown": [
       "<span style=\"color:#33cc33\">Correct</span>"
      ],
      "text/plain": [
       "Correct"
      ]
     },
     "metadata": {},
     "output_type": "display_data"
    },
    {
     "data": {
      "image/png": "[encoded data removed]",
      "text/plain": [
       "<Figure size 432x288 with 1 Axes>"
      ]
     },
     "metadata": {
      "needs_background": "light"
     },
     "output_type": "display_data"
    }
   ],
   "source": [
    "# Scatter plot w/ regression line showing the relationship between 'sugarpercent' and 'winpercent'\n",
    " # Your code here\n",
    "sns.regplot(x=candy_data[\"sugarpercent\"],y=candy_data[\"winpercent\"])\n",
    "\n",
    "# Check your answer\n",
    "step_4.a.check()"
   ]
  },
  {
   "cell_type": "code",
   "execution_count": 13,
   "id": "fafc9fad",
   "metadata": {
    "execution": {
     "iopub.execute_input": "2022-07-13T07:18:23.781422Z",
     "iopub.status.busy": "2022-07-13T07:18:23.781075Z",
     "iopub.status.idle": "2022-07-13T07:18:23.785811Z",
     "shell.execute_reply": "2022-07-13T07:18:23.784309Z"
    },
    "papermill": {
     "duration": 0.023504,
     "end_time": "2022-07-13T07:18:23.788419",
     "exception": false,
     "start_time": "2022-07-13T07:18:23.764915",
     "status": "completed"
    },
    "tags": []
   },
   "outputs": [],
   "source": [
    "# Lines below will give you a hint or solution code\n",
    "#step_4.a.hint()\n",
    "#step_4.a.solution_plot()"
   ]
  },
  {
   "cell_type": "markdown",
   "id": "c66a44b7",
   "metadata": {
    "papermill": {
     "duration": 0.014277,
     "end_time": "2022-07-13T07:18:23.817589",
     "exception": false,
     "start_time": "2022-07-13T07:18:23.803312",
     "status": "completed"
    },
    "tags": []
   },
   "source": [
    "#### Part B\n",
    "\n",
    "According to the plot above, is there a **slight** correlation between `'winpercent'` and `'sugarpercent'`?  What does this tell you about the candy that people tend to prefer?"
   ]
  },
  {
   "cell_type": "code",
   "execution_count": 14,
   "id": "c5732b6e",
   "metadata": {
    "execution": {
     "iopub.execute_input": "2022-07-13T07:18:23.849238Z",
     "iopub.status.busy": "2022-07-13T07:18:23.848517Z",
     "iopub.status.idle": "2022-07-13T07:18:23.853086Z",
     "shell.execute_reply": "2022-07-13T07:18:23.852292Z"
    },
    "papermill": {
     "duration": 0.023031,
     "end_time": "2022-07-13T07:18:23.855485",
     "exception": false,
     "start_time": "2022-07-13T07:18:23.832454",
     "status": "completed"
    },
    "tags": []
   },
   "outputs": [],
   "source": [
    "#step_4.b.hint()"
   ]
  },
  {
   "cell_type": "code",
   "execution_count": 15,
   "id": "fa2500e2",
   "metadata": {
    "execution": {
     "iopub.execute_input": "2022-07-13T07:18:23.886635Z",
     "iopub.status.busy": "2022-07-13T07:18:23.885965Z",
     "iopub.status.idle": "2022-07-13T07:18:23.891109Z",
     "shell.execute_reply": "2022-07-13T07:18:23.889760Z"
    },
    "papermill": {
     "duration": 0.023684,
     "end_time": "2022-07-13T07:18:23.893750",
     "exception": false,
     "start_time": "2022-07-13T07:18:23.870066",
     "status": "completed"
    },
    "tags": []
   },
   "outputs": [],
   "source": [
    "# Check your answer (Run this code cell to receive credit!)\n",
    "#step_4.b.solution()"
   ]
  },
  {
   "cell_type": "markdown",
   "id": "bf67ef8b",
   "metadata": {
    "papermill": {
     "duration": 0.014169,
     "end_time": "2022-07-13T07:18:23.922476",
     "exception": false,
     "start_time": "2022-07-13T07:18:23.908307",
     "status": "completed"
    },
    "tags": []
   },
   "source": [
    "## Step 5: Chocolate!\n",
    "\n",
    "In the code cell below, create a scatter plot to show the relationship between `'pricepercent'` (on the horizontal x-axis) and `'winpercent'` (on the vertical y-axis). Use the `'chocolate'` column to color-code the points.  _Don't add any regression lines just yet -- you'll do that in the next step!_"
   ]
  },
  {
   "cell_type": "code",
   "execution_count": 16,
   "id": "17051b9f",
   "metadata": {
    "execution": {
     "iopub.execute_input": "2022-07-13T07:18:23.953318Z",
     "iopub.status.busy": "2022-07-13T07:18:23.952522Z",
     "iopub.status.idle": "2022-07-13T07:18:24.177378Z",
     "shell.execute_reply": "2022-07-13T07:18:24.175666Z"
    },
    "papermill": {
     "duration": 0.242706,
     "end_time": "2022-07-13T07:18:24.179807",
     "exception": false,
     "start_time": "2022-07-13T07:18:23.937101",
     "status": "completed"
    },
    "tags": []
   },
   "outputs": [
    {
     "data": {
      "application/javascript": [
       "parent.postMessage({\"jupyterEvent\": \"custom.exercise_interaction\", \"data\": {\"outcomeType\": 1, \"valueTowardsCompletion\": 0.3333333333333333, \"interactionType\": 1, \"questionType\": 2, \"questionId\": \"5_ColorScatter\", \"learnToolsVersion\": \"0.3.4\", \"failureMessage\": \"\", \"exceptionClass\": \"\", \"trace\": \"\"}}, \"*\")"
      ],
      "text/plain": [
       "<IPython.core.display.Javascript object>"
      ]
     },
     "metadata": {},
     "output_type": "display_data"
    },
    {
     "data": {
      "text/markdown": [
       "<span style=\"color:#33cc33\">Correct</span>"
      ],
      "text/plain": [
       "Correct"
      ]
     },
     "metadata": {},
     "output_type": "display_data"
    },
    {
     "data": {
      "image/png": "[encoded data removed]",
      "text/plain": [
       "<Figure size 432x288 with 1 Axes>"
      ]
     },
     "metadata": {
      "needs_background": "light"
     },
     "output_type": "display_data"
    }
   ],
   "source": [
    "# Scatter plot showing the relationship between 'pricepercent', 'winpercent', and 'chocolate'\n",
    "sns.scatterplot(x=candy_data['pricepercent'],y=candy_data['winpercent'],hue=candy_data['chocolate']) # Your code here\n",
    "\n",
    "# Check your answer\n",
    "step_5.check()"
   ]
  },
  {
   "cell_type": "code",
   "execution_count": 17,
   "id": "e94a92e3",
   "metadata": {
    "execution": {
     "iopub.execute_input": "2022-07-13T07:18:24.213649Z",
     "iopub.status.busy": "2022-07-13T07:18:24.212253Z",
     "iopub.status.idle": "2022-07-13T07:18:24.217202Z",
     "shell.execute_reply": "2022-07-13T07:18:24.216513Z"
    },
    "papermill": {
     "duration": 0.023707,
     "end_time": "2022-07-13T07:18:24.219329",
     "exception": false,
     "start_time": "2022-07-13T07:18:24.195622",
     "status": "completed"
    },
    "tags": []
   },
   "outputs": [],
   "source": [
    "# Lines below will give you a hint or solution code\n",
    "#step_5.hint()\n",
    "#step_5.solution_plot()"
   ]
  },
  {
   "cell_type": "markdown",
   "id": "75360b2d",
   "metadata": {
    "papermill": {
     "duration": 0.014472,
     "end_time": "2022-07-13T07:18:24.250098",
     "exception": false,
     "start_time": "2022-07-13T07:18:24.235626",
     "status": "completed"
    },
    "tags": []
   },
   "source": [
    "Can you see any interesting patterns in the scatter plot?  We'll investigate this plot further  by adding regression lines in the next step!\n",
    "\n",
    "## Step 6: Investigate chocolate\n",
    "\n",
    "#### Part A\n",
    "\n",
    "Create the same scatter plot you created in **Step 5**, but now with two regression lines, corresponding to (1) chocolate candies and (2) candies without chocolate."
   ]
  },
  {
   "cell_type": "code",
   "execution_count": 18,
   "id": "8c356bf1",
   "metadata": {
    "execution": {
     "iopub.execute_input": "2022-07-13T07:18:24.281053Z",
     "iopub.status.busy": "2022-07-13T07:18:24.280419Z",
     "iopub.status.idle": "2022-07-13T07:18:24.859383Z",
     "shell.execute_reply": "2022-07-13T07:18:24.858167Z"
    },
    "papermill": {
     "duration": 0.596993,
     "end_time": "2022-07-13T07:18:24.861605",
     "exception": false,
     "start_time": "2022-07-13T07:18:24.264612",
     "status": "completed"
    },
    "tags": []
   },
   "outputs": [
    {
     "data": {
      "application/javascript": [
       "parent.postMessage({\"jupyterEvent\": \"custom.exercise_interaction\", \"data\": {\"outcomeType\": 1, \"valueTowardsCompletion\": 0.3333333333333333, \"interactionType\": 1, \"questionType\": 2, \"questionId\": \"6.1_PlotColorReg\", \"learnToolsVersion\": \"0.3.4\", \"failureMessage\": \"\", \"exceptionClass\": \"\", \"trace\": \"\"}}, \"*\")"
      ],
      "text/plain": [
       "<IPython.core.display.Javascript object>"
      ]
     },
     "metadata": {},
     "output_type": "display_data"
    },
    {
     "data": {
      "text/markdown": [
       "<span style=\"color:#33cc33\">Correct</span>"
      ],
      "text/plain": [
       "Correct"
      ]
     },
     "metadata": {},
     "output_type": "display_data"
    },
    {
     "data": {
      "image/png": "[encoded data removed]",
      "text/plain": [
       "<Figure size 416.375x360 with 1 Axes>"
      ]
     },
     "metadata": {
      "needs_background": "light"
     },
     "output_type": "display_data"
    }
   ],
   "source": [
    "# Color-coded scatter plot w/ regression lines\n",
    "# Your code here\n",
    "sns.lmplot(x=\"pricepercent\", y=\"winpercent\", hue=\"chocolate\", data=candy_data)\n",
    "\n",
    "# Check your answer\n",
    "step_6.a.check()"
   ]
  },
  {
   "cell_type": "code",
   "execution_count": 19,
   "id": "2c44e6e6",
   "metadata": {
    "execution": {
     "iopub.execute_input": "2022-07-13T07:18:24.896086Z",
     "iopub.status.busy": "2022-07-13T07:18:24.894980Z",
     "iopub.status.idle": "2022-07-13T07:18:24.900255Z",
     "shell.execute_reply": "2022-07-13T07:18:24.898859Z"
    },
    "papermill": {
     "duration": 0.025498,
     "end_time": "2022-07-13T07:18:24.902933",
     "exception": false,
     "start_time": "2022-07-13T07:18:24.877435",
     "status": "completed"
    },
    "tags": []
   },
   "outputs": [],
   "source": [
    "# Lines below will give you a hint or solution code\n",
    "#step_6.a.hint()\n",
    "#step_6.a.solution_plot()"
   ]
  },
  {
   "cell_type": "markdown",
   "id": "ec78bab0",
   "metadata": {
    "papermill": {
     "duration": 0.01571,
     "end_time": "2022-07-13T07:18:24.934841",
     "exception": false,
     "start_time": "2022-07-13T07:18:24.919131",
     "status": "completed"
    },
    "tags": []
   },
   "source": [
    "#### Part B\n",
    "\n",
    "Using the regression lines, what conclusions can you draw about the effects of chocolate and price on candy popularity?"
   ]
  },
  {
   "cell_type": "code",
   "execution_count": 20,
   "id": "a9c40461",
   "metadata": {
    "execution": {
     "iopub.execute_input": "2022-07-13T07:18:24.968622Z",
     "iopub.status.busy": "2022-07-13T07:18:24.968251Z",
     "iopub.status.idle": "2022-07-13T07:18:24.973076Z",
     "shell.execute_reply": "2022-07-13T07:18:24.971916Z"
    },
    "papermill": {
     "duration": 0.024476,
     "end_time": "2022-07-13T07:18:24.975467",
     "exception": false,
     "start_time": "2022-07-13T07:18:24.950991",
     "status": "completed"
    },
    "tags": []
   },
   "outputs": [],
   "source": [
    "#step_6.b.hint()"
   ]
  },
  {
   "cell_type": "code",
   "execution_count": 21,
   "id": "804415d3",
   "metadata": {
    "execution": {
     "iopub.execute_input": "2022-07-13T07:18:25.009670Z",
     "iopub.status.busy": "2022-07-13T07:18:25.009294Z",
     "iopub.status.idle": "2022-07-13T07:18:25.016034Z",
     "shell.execute_reply": "2022-07-13T07:18:25.015408Z"
    },
    "papermill": {
     "duration": 0.026383,
     "end_time": "2022-07-13T07:18:25.018013",
     "exception": false,
     "start_time": "2022-07-13T07:18:24.991630",
     "status": "completed"
    },
    "tags": []
   },
   "outputs": [
    {
     "data": {
      "application/javascript": [
       "parent.postMessage({\"jupyterEvent\": \"custom.exercise_interaction\", \"data\": {\"interactionType\": 3, \"questionType\": 4, \"questionId\": \"6.2_ThinkColorReg\", \"learnToolsVersion\": \"0.3.4\", \"valueTowardsCompletion\": 0.0, \"failureMessage\": \"\", \"exceptionClass\": \"\", \"trace\": \"\", \"outcomeType\": 4}}, \"*\")"
      ],
      "text/plain": [
       "<IPython.core.display.Javascript object>"
      ]
     },
     "metadata": {},
     "output_type": "display_data"
    },
    {
     "data": {
      "text/markdown": [
       "<span style=\"color:#33cc99\">Solution:</span> We'll begin with the regression line for chocolate candies. Since this line has a slightly positive slope, we can say that more expensive chocolate candies tend to be more popular (than relatively cheaper chocolate candies).  Likewise, since the regression line for candies without chocolate has a negative slope, we can say that if candies don't contain chocolate, they tend to be more popular when they are cheaper.  One important note, however, is that the dataset is quite small -- so we shouldn't invest too much trust in these patterns!  To inspire more confidence in the results, we should add more candies to the dataset."
      ],
      "text/plain": [
       "Solution: We'll begin with the regression line for chocolate candies. Since this line has a slightly positive slope, we can say that more expensive chocolate candies tend to be more popular (than relatively cheaper chocolate candies).  Likewise, since the regression line for candies without chocolate has a negative slope, we can say that if candies don't contain chocolate, they tend to be more popular when they are cheaper.  One important note, however, is that the dataset is quite small -- so we shouldn't invest too much trust in these patterns!  To inspire more confidence in the results, we should add more candies to the dataset."
      ]
     },
     "metadata": {},
     "output_type": "display_data"
    }
   ],
   "source": [
    "# Check your answer (Run this code cell to receive credit!)\n",
    "step_6.b.solution()"
   ]
  },
  {
   "cell_type": "markdown",
   "id": "549a427e",
   "metadata": {
    "papermill": {
     "duration": 0.016237,
     "end_time": "2022-07-13T07:18:25.050216",
     "exception": false,
     "start_time": "2022-07-13T07:18:25.033979",
     "status": "completed"
    },
    "tags": []
   },
   "source": [
    "## Step 7: Everybody loves chocolate.\n",
    "\n",
    "#### Part A\n",
    "\n",
    "Create a categorical scatter plot to highlight the relationship between `'chocolate'` and `'winpercent'`.  Put `'chocolate'` on the (horizontal) x-axis, and `'winpercent'` on the (vertical) y-axis."
   ]
  },
  {
   "cell_type": "code",
   "execution_count": 22,
   "id": "1d306d50",
   "metadata": {
    "execution": {
     "iopub.execute_input": "2022-07-13T07:18:25.084779Z",
     "iopub.status.busy": "2022-07-13T07:18:25.084477Z",
     "iopub.status.idle": "2022-07-13T07:18:25.219067Z",
     "shell.execute_reply": "2022-07-13T07:18:25.218257Z"
    },
    "papermill": {
     "duration": 0.15445,
     "end_time": "2022-07-13T07:18:25.221325",
     "exception": false,
     "start_time": "2022-07-13T07:18:25.066875",
     "status": "completed"
    },
    "tags": []
   },
   "outputs": [
    {
     "data": {
      "application/javascript": [
       "parent.postMessage({\"jupyterEvent\": \"custom.exercise_interaction\", \"data\": {\"outcomeType\": 1, \"valueTowardsCompletion\": 0.3333333333333333, \"interactionType\": 1, \"questionType\": 2, \"questionId\": \"7.1_PlotSwarm\", \"learnToolsVersion\": \"0.3.4\", \"failureMessage\": \"\", \"exceptionClass\": \"\", \"trace\": \"\"}}, \"*\")"
      ],
      "text/plain": [
       "<IPython.core.display.Javascript object>"
      ]
     },
     "metadata": {},
     "output_type": "display_data"
    },
    {
     "data": {
      "text/markdown": [
       "<span style=\"color:#33cc33\">Correct</span>"
      ],
      "text/plain": [
       "Correct"
      ]
     },
     "metadata": {},
     "output_type": "display_data"
    },
    {
     "data": {
      "image/png": "[encoded data removed]",
      "text/plain": [
       "<Figure size 432x288 with 1 Axes>"
      ]
     },
     "metadata": {
      "needs_background": "light"
     },
     "output_type": "display_data"
    }
   ],
   "source": [
    "# Scatter plot showing the relationship between 'chocolate' and 'winpercent'\n",
    "____ # Your code here\n",
    "sns.swarmplot(x=candy_data['chocolate'], y=candy_data['winpercent'])\n",
    "# Check your answer\n",
    "step_7.a.check()"
   ]
  },
  {
   "cell_type": "code",
   "execution_count": 23,
   "id": "2cc367ca",
   "metadata": {
    "execution": {
     "iopub.execute_input": "2022-07-13T07:18:25.258633Z",
     "iopub.status.busy": "2022-07-13T07:18:25.257300Z",
     "iopub.status.idle": "2022-07-13T07:18:25.262394Z",
     "shell.execute_reply": "2022-07-13T07:18:25.261334Z"
    },
    "papermill": {
     "duration": 0.025774,
     "end_time": "2022-07-13T07:18:25.264559",
     "exception": false,
     "start_time": "2022-07-13T07:18:25.238785",
     "status": "completed"
    },
    "tags": []
   },
   "outputs": [],
   "source": [
    "# Lines below will give you a hint or solution code\n",
    "#step_7.a.hint()\n",
    "#step_7.a.solution_plot()"
   ]
  },
  {
   "cell_type": "markdown",
   "id": "0367ffdf",
   "metadata": {
    "papermill": {
     "duration": 0.016527,
     "end_time": "2022-07-13T07:18:25.298036",
     "exception": false,
     "start_time": "2022-07-13T07:18:25.281509",
     "status": "completed"
    },
    "tags": []
   },
   "source": [
    "#### Part B\n",
    "\n",
    "You decide to dedicate a section of your report to the fact that chocolate candies tend to be more popular than candies without chocolate.  Which plot is more appropriate to tell this story: the plot from **Step 6**, or the plot from **Step 7**?"
   ]
  },
  {
   "cell_type": "code",
   "execution_count": 24,
   "id": "bc4c477d",
   "metadata": {
    "execution": {
     "iopub.execute_input": "2022-07-13T07:18:25.333245Z",
     "iopub.status.busy": "2022-07-13T07:18:25.332912Z",
     "iopub.status.idle": "2022-07-13T07:18:25.337395Z",
     "shell.execute_reply": "2022-07-13T07:18:25.336031Z"
    },
    "papermill": {
     "duration": 0.024863,
     "end_time": "2022-07-13T07:18:25.339732",
     "exception": false,
     "start_time": "2022-07-13T07:18:25.314869",
     "status": "completed"
    },
    "tags": []
   },
   "outputs": [],
   "source": [
    "#step_7.b.hint()"
   ]
  },
  {
   "cell_type": "code",
   "execution_count": 25,
   "id": "1420d5cc",
   "metadata": {
    "execution": {
     "iopub.execute_input": "2022-07-13T07:18:25.375696Z",
     "iopub.status.busy": "2022-07-13T07:18:25.374681Z",
     "iopub.status.idle": "2022-07-13T07:18:25.378685Z",
     "shell.execute_reply": "2022-07-13T07:18:25.377993Z"
    },
    "papermill": {
     "duration": 0.024087,
     "end_time": "2022-07-13T07:18:25.380592",
     "exception": false,
     "start_time": "2022-07-13T07:18:25.356505",
     "status": "completed"
    },
    "tags": []
   },
   "outputs": [],
   "source": [
    "# Check your answer (Run this code cell to receive credit!)\n",
    "#step_7.b.solution()"
   ]
  },
  {
   "cell_type": "markdown",
   "id": "3c99747a",
   "metadata": {
    "papermill": {
     "duration": 0.016595,
     "end_time": "2022-07-13T07:18:25.413869",
     "exception": false,
     "start_time": "2022-07-13T07:18:25.397274",
     "status": "completed"
    },
    "tags": []
   },
   "source": [
    "## Keep going\n",
    "\n",
    "Explore **[histograms and density plots](https://www.kaggle.com/alexisbcook/distributions)**."
   ]
  },
  {
   "cell_type": "markdown",
   "id": "88dfa5a2",
   "metadata": {
    "papermill": {
     "duration": 0.016484,
     "end_time": "2022-07-13T07:18:25.447297",
     "exception": false,
     "start_time": "2022-07-13T07:18:25.430813",
     "status": "completed"
    },
    "tags": []
   },
   "source": [
    "---\n",
    "\n",
    "\n",
    "\n",
    "\n",
    "*Have questions or comments? Visit the [course discussion forum](https://www.kaggle.com/learn/data-visualization/discussion) to chat with other learners.*"
   ]
  }
 ],
 "metadata": {
  "kernelspec": {
   "display_name": "Python 3",
   "language": "python",
   "name": "python3"
  },
  "language_info": {
   "codemirror_mode": {
    "name": "ipython",
    "version": 3
   },
   "file_extension": ".py",
   "mimetype": "text/x-python",
   "name": "python",
   "nbconvert_exporter": "python",
   "pygments_lexer": "ipython3",
   "version": "3.7.12"
  },
  "papermill": {
   "default_parameters": {},
   "duration": 16.954078,
   "end_time": "2022-07-13T07:18:26.486134",
   "environment_variables": {},
   "exception": null,
   "input_path": "__notebook__.ipynb",
   "output_path": "__notebook__.ipynb",
   "parameters": {},
   "start_time": "2022-07-13T07:18:09.532056",
   "version": "2.3.4"
  }
 },
 "nbformat": 4,
 "nbformat_minor": 5
}
