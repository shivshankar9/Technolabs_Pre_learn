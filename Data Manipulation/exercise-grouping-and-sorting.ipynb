{
 "cells": [
  {
   "cell_type": "markdown",
   "id": "18e3dee7",
   "metadata": {
    "papermill": {
     "duration": 0.008343,
     "end_time": "2022-07-14T17:01:18.934895",
     "exception": false,
     "start_time": "2022-07-14T17:01:18.926552",
     "status": "completed"
    },
    "tags": []
   },
   "source": [
    "**This notebook is an exercise in the [Pandas](https://www.kaggle.com/learn/pandas) course.  You can reference the tutorial at [this link](https://www.kaggle.com/residentmario/grouping-and-sorting).**\n",
    "\n",
    "---\n"
   ]
  },
  {
   "cell_type": "markdown",
   "id": "056948f3",
   "metadata": {
    "papermill": {
     "duration": 0.0068,
     "end_time": "2022-07-14T17:01:18.948777",
     "exception": false,
     "start_time": "2022-07-14T17:01:18.941977",
     "status": "completed"
    },
    "tags": []
   },
   "source": [
    "# Introduction\n",
    "\n",
    "In these exercises we'll apply groupwise analysis to our dataset.\n",
    "\n",
    "Run the code cell below to load the data before running the exercises."
   ]
  },
  {
   "cell_type": "code",
   "execution_count": 1,
   "id": "4df09352",
   "metadata": {
    "execution": {
     "iopub.execute_input": "2022-07-14T17:01:18.965860Z",
     "iopub.status.busy": "2022-07-14T17:01:18.964488Z",
     "iopub.status.idle": "2022-07-14T17:01:21.954972Z",
     "shell.execute_reply": "2022-07-14T17:01:21.953324Z"
    },
    "papermill": {
     "duration": 3.001714,
     "end_time": "2022-07-14T17:01:21.957749",
     "exception": false,
     "start_time": "2022-07-14T17:01:18.956035",
     "status": "completed"
    },
    "tags": []
   },
   "outputs": [
    {
     "name": "stdout",
     "output_type": "stream",
     "text": [
      "Setup complete.\n"
     ]
    }
   ],
   "source": [
    "import pandas as pd\n",
    "\n",
    "reviews = pd.read_csv(\"../input/wine-reviews/winemag-data-130k-v2.csv\", index_col=0)\n",
    "#pd.set_option(\"display.max_rows\", 5)\n",
    "\n",
    "from learntools.core import binder; binder.bind(globals())\n",
    "from learntools.pandas.grouping_and_sorting import *\n",
    "print(\"Setup complete.\")"
   ]
  },
  {
   "cell_type": "markdown",
   "id": "f17192c5",
   "metadata": {
    "papermill": {
     "duration": 0.007164,
     "end_time": "2022-07-14T17:01:21.972018",
     "exception": false,
     "start_time": "2022-07-14T17:01:21.964854",
     "status": "completed"
    },
    "tags": []
   },
   "source": [
    "# Exercises"
   ]
  },
  {
   "cell_type": "markdown",
   "id": "3a1d3c76",
   "metadata": {
    "papermill": {
     "duration": 0.006421,
     "end_time": "2022-07-14T17:01:21.985261",
     "exception": false,
     "start_time": "2022-07-14T17:01:21.978840",
     "status": "completed"
    },
    "tags": []
   },
   "source": [
    "## 1.\n",
    "Who are the most common wine reviewers in the dataset? Create a `Series` whose index is the `taster_twitter_handle` category from the dataset, and whose values count how many reviews each person wrote."
   ]
  },
  {
   "cell_type": "code",
   "execution_count": 2,
   "id": "045fe93c",
   "metadata": {
    "execution": {
     "iopub.execute_input": "2022-07-14T17:01:22.000525Z",
     "iopub.status.busy": "2022-07-14T17:01:22.000102Z",
     "iopub.status.idle": "2022-07-14T17:01:22.032425Z",
     "shell.execute_reply": "2022-07-14T17:01:22.031350Z"
    },
    "papermill": {
     "duration": 0.042732,
     "end_time": "2022-07-14T17:01:22.034652",
     "exception": false,
     "start_time": "2022-07-14T17:01:21.991920",
     "status": "completed"
    },
    "tags": []
   },
   "outputs": [
    {
     "data": {
      "application/javascript": [
       "parent.postMessage({\"jupyterEvent\": \"custom.exercise_interaction\", \"data\": {\"outcomeType\": 1, \"valueTowardsCompletion\": 0.16666666666666666, \"interactionType\": 1, \"questionType\": 1, \"questionId\": \"1_ReviewsWritten\", \"learnToolsVersion\": \"0.3.4\", \"failureMessage\": \"\", \"exceptionClass\": \"\", \"trace\": \"\"}}, \"*\")"
      ],
      "text/plain": [
       "<IPython.core.display.Javascript object>"
      ]
     },
     "metadata": {},
     "output_type": "display_data"
    },
    {
     "data": {
      "text/markdown": [
       "<span style=\"color:#33cc33\">Correct:</span> \n",
       "\n",
       "\n",
       "```python\n",
       "reviews_written = reviews.groupby('taster_twitter_handle').size()\n",
       "```\n",
       "or\n",
       "```python\n",
       "reviews_written = reviews.groupby('taster_twitter_handle').taster_twitter_handle.count()\n",
       "```\n"
      ],
      "text/plain": [
       "Correct: \n",
       "\n",
       "\n",
       "```python\n",
       "reviews_written = reviews.groupby('taster_twitter_handle').size()\n",
       "```\n",
       "or\n",
       "```python\n",
       "reviews_written = reviews.groupby('taster_twitter_handle').taster_twitter_handle.count()\n",
       "```"
      ]
     },
     "metadata": {},
     "output_type": "display_data"
    }
   ],
   "source": [
    "# Your code here\n",
    "reviews_written = reviews.groupby('taster_twitter_handle').size()\n",
    "\n",
    "# Check your answer\n",
    "q1.check()"
   ]
  },
  {
   "cell_type": "code",
   "execution_count": 3,
   "id": "eade0f03",
   "metadata": {
    "execution": {
     "iopub.execute_input": "2022-07-14T17:01:22.050033Z",
     "iopub.status.busy": "2022-07-14T17:01:22.049664Z",
     "iopub.status.idle": "2022-07-14T17:01:22.053206Z",
     "shell.execute_reply": "2022-07-14T17:01:22.052431Z"
    },
    "papermill": {
     "duration": 0.013905,
     "end_time": "2022-07-14T17:01:22.055357",
     "exception": false,
     "start_time": "2022-07-14T17:01:22.041452",
     "status": "completed"
    },
    "tags": []
   },
   "outputs": [],
   "source": [
    "#q1.hint()\n",
    "#q1.solution()"
   ]
  },
  {
   "cell_type": "markdown",
   "id": "e32660a7",
   "metadata": {
    "papermill": {
     "duration": 0.006515,
     "end_time": "2022-07-14T17:01:22.068614",
     "exception": false,
     "start_time": "2022-07-14T17:01:22.062099",
     "status": "completed"
    },
    "tags": []
   },
   "source": [
    "## 2.\n",
    "What is the best wine I can buy for a given amount of money? Create a `Series` whose index is wine prices and whose values is the maximum number of points a wine costing that much was given in a review. Sort the values by price, ascending (so that `4.0` dollars is at the top and `3300.0` dollars is at the bottom)."
   ]
  },
  {
   "cell_type": "code",
   "execution_count": 4,
   "id": "12b4903a",
   "metadata": {
    "execution": {
     "iopub.execute_input": "2022-07-14T17:01:22.084487Z",
     "iopub.status.busy": "2022-07-14T17:01:22.083690Z",
     "iopub.status.idle": "2022-07-14T17:01:22.098432Z",
     "shell.execute_reply": "2022-07-14T17:01:22.097581Z"
    },
    "papermill": {
     "duration": 0.025583,
     "end_time": "2022-07-14T17:01:22.100924",
     "exception": false,
     "start_time": "2022-07-14T17:01:22.075341",
     "status": "completed"
    },
    "tags": []
   },
   "outputs": [
    {
     "data": {
      "application/javascript": [
       "parent.postMessage({\"jupyterEvent\": \"custom.exercise_interaction\", \"data\": {\"outcomeType\": 1, \"valueTowardsCompletion\": 0.16666666666666666, \"interactionType\": 1, \"questionType\": 1, \"questionId\": \"2_BestRatingPerPrice\", \"learnToolsVersion\": \"0.3.4\", \"failureMessage\": \"\", \"exceptionClass\": \"\", \"trace\": \"\"}}, \"*\")"
      ],
      "text/plain": [
       "<IPython.core.display.Javascript object>"
      ]
     },
     "metadata": {},
     "output_type": "display_data"
    },
    {
     "data": {
      "text/markdown": [
       "<span style=\"color:#33cc33\">Correct</span>"
      ],
      "text/plain": [
       "Correct"
      ]
     },
     "metadata": {},
     "output_type": "display_data"
    }
   ],
   "source": [
    "best_rating_per_price = reviews.groupby('price')['points'].max().sort_index()\n",
    "\n",
    "# Check your answer\n",
    "q2.check()"
   ]
  },
  {
   "cell_type": "code",
   "execution_count": 5,
   "id": "7167d575",
   "metadata": {
    "execution": {
     "iopub.execute_input": "2022-07-14T17:01:22.116538Z",
     "iopub.status.busy": "2022-07-14T17:01:22.116117Z",
     "iopub.status.idle": "2022-07-14T17:01:22.120626Z",
     "shell.execute_reply": "2022-07-14T17:01:22.119400Z"
    },
    "papermill": {
     "duration": 0.014888,
     "end_time": "2022-07-14T17:01:22.122853",
     "exception": false,
     "start_time": "2022-07-14T17:01:22.107965",
     "status": "completed"
    },
    "tags": []
   },
   "outputs": [],
   "source": [
    "#q2.hint()\n",
    "#q2.solution()"
   ]
  },
  {
   "cell_type": "markdown",
   "id": "d112012d",
   "metadata": {
    "papermill": {
     "duration": 0.006666,
     "end_time": "2022-07-14T17:01:22.136557",
     "exception": false,
     "start_time": "2022-07-14T17:01:22.129891",
     "status": "completed"
    },
    "tags": []
   },
   "source": [
    "## 3.\n",
    "What are the minimum and maximum prices for each `variety` of wine? Create a `DataFrame` whose index is the `variety` category from the dataset and whose values are the `min` and `max` values thereof."
   ]
  },
  {
   "cell_type": "code",
   "execution_count": 6,
   "id": "b7542b9c",
   "metadata": {
    "execution": {
     "iopub.execute_input": "2022-07-14T17:01:22.152875Z",
     "iopub.status.busy": "2022-07-14T17:01:22.152080Z",
     "iopub.status.idle": "2022-07-14T17:01:22.187958Z",
     "shell.execute_reply": "2022-07-14T17:01:22.186689Z"
    },
    "papermill": {
     "duration": 0.047084,
     "end_time": "2022-07-14T17:01:22.190611",
     "exception": false,
     "start_time": "2022-07-14T17:01:22.143527",
     "status": "completed"
    },
    "tags": []
   },
   "outputs": [
    {
     "data": {
      "application/javascript": [
       "parent.postMessage({\"jupyterEvent\": \"custom.exercise_interaction\", \"data\": {\"outcomeType\": 1, \"valueTowardsCompletion\": 0.16666666666666666, \"interactionType\": 1, \"questionType\": 1, \"questionId\": \"3_PriceExtremes\", \"learnToolsVersion\": \"0.3.4\", \"failureMessage\": \"\", \"exceptionClass\": \"\", \"trace\": \"\"}}, \"*\")"
      ],
      "text/plain": [
       "<IPython.core.display.Javascript object>"
      ]
     },
     "metadata": {},
     "output_type": "display_data"
    },
    {
     "data": {
      "text/markdown": [
       "<span style=\"color:#33cc33\">Correct</span>"
      ],
      "text/plain": [
       "Correct"
      ]
     },
     "metadata": {},
     "output_type": "display_data"
    }
   ],
   "source": [
    "price_extremes = reviews.groupby('variety').price.agg([min, max])\n",
    "\n",
    "# Check your answer\n",
    "q3.check()"
   ]
  },
  {
   "cell_type": "code",
   "execution_count": 7,
   "id": "dbe46c3d",
   "metadata": {
    "execution": {
     "iopub.execute_input": "2022-07-14T17:01:22.207487Z",
     "iopub.status.busy": "2022-07-14T17:01:22.207080Z",
     "iopub.status.idle": "2022-07-14T17:01:22.211740Z",
     "shell.execute_reply": "2022-07-14T17:01:22.210589Z"
    },
    "papermill": {
     "duration": 0.016376,
     "end_time": "2022-07-14T17:01:22.214242",
     "exception": false,
     "start_time": "2022-07-14T17:01:22.197866",
     "status": "completed"
    },
    "tags": []
   },
   "outputs": [],
   "source": [
    "#q3.hint()\n",
    "#q3.solution()"
   ]
  },
  {
   "cell_type": "markdown",
   "id": "7ad0446c",
   "metadata": {
    "papermill": {
     "duration": 0.007137,
     "end_time": "2022-07-14T17:01:22.229105",
     "exception": false,
     "start_time": "2022-07-14T17:01:22.221968",
     "status": "completed"
    },
    "tags": []
   },
   "source": [
    "## 4.\n",
    "What are the most expensive wine varieties? Create a variable `sorted_varieties` containing a copy of the dataframe from the previous question where varieties are sorted in descending order based on minimum price, then on maximum price (to break ties)."
   ]
  },
  {
   "cell_type": "code",
   "execution_count": 8,
   "id": "40334862",
   "metadata": {
    "execution": {
     "iopub.execute_input": "2022-07-14T17:01:22.245614Z",
     "iopub.status.busy": "2022-07-14T17:01:22.245204Z",
     "iopub.status.idle": "2022-07-14T17:01:22.257149Z",
     "shell.execute_reply": "2022-07-14T17:01:22.256305Z"
    },
    "papermill": {
     "duration": 0.022652,
     "end_time": "2022-07-14T17:01:22.259349",
     "exception": false,
     "start_time": "2022-07-14T17:01:22.236697",
     "status": "completed"
    },
    "tags": []
   },
   "outputs": [
    {
     "data": {
      "application/javascript": [
       "parent.postMessage({\"jupyterEvent\": \"custom.exercise_interaction\", \"data\": {\"outcomeType\": 1, \"valueTowardsCompletion\": 0.16666666666666666, \"interactionType\": 1, \"questionType\": 1, \"questionId\": \"4_SortedVarieties\", \"learnToolsVersion\": \"0.3.4\", \"failureMessage\": \"\", \"exceptionClass\": \"\", \"trace\": \"\"}}, \"*\")"
      ],
      "text/plain": [
       "<IPython.core.display.Javascript object>"
      ]
     },
     "metadata": {},
     "output_type": "display_data"
    },
    {
     "data": {
      "text/markdown": [
       "<span style=\"color:#33cc33\">Correct</span>"
      ],
      "text/plain": [
       "Correct"
      ]
     },
     "metadata": {},
     "output_type": "display_data"
    }
   ],
   "source": [
    "sorted_varieties = price_extremes.sort_values(by=['min', 'max'], ascending=False)\n",
    "\n",
    "# Check your answer\n",
    "q4.check()"
   ]
  },
  {
   "cell_type": "code",
   "execution_count": 9,
   "id": "b4dec98c",
   "metadata": {
    "execution": {
     "iopub.execute_input": "2022-07-14T17:01:22.277602Z",
     "iopub.status.busy": "2022-07-14T17:01:22.276840Z",
     "iopub.status.idle": "2022-07-14T17:01:22.281394Z",
     "shell.execute_reply": "2022-07-14T17:01:22.280651Z"
    },
    "papermill": {
     "duration": 0.015839,
     "end_time": "2022-07-14T17:01:22.283552",
     "exception": false,
     "start_time": "2022-07-14T17:01:22.267713",
     "status": "completed"
    },
    "tags": []
   },
   "outputs": [],
   "source": [
    "#q4.hint()\n",
    "#q4.solution()"
   ]
  },
  {
   "cell_type": "markdown",
   "id": "ba467080",
   "metadata": {
    "papermill": {
     "duration": 0.007393,
     "end_time": "2022-07-14T17:01:22.298525",
     "exception": false,
     "start_time": "2022-07-14T17:01:22.291132",
     "status": "completed"
    },
    "tags": []
   },
   "source": [
    "## 5.\n",
    "Create a `Series` whose index is reviewers and whose values is the average review score given out by that reviewer. Hint: you will need the `taster_name` and `points` columns."
   ]
  },
  {
   "cell_type": "code",
   "execution_count": 10,
   "id": "c29755ae",
   "metadata": {
    "execution": {
     "iopub.execute_input": "2022-07-14T17:01:22.315037Z",
     "iopub.status.busy": "2022-07-14T17:01:22.314645Z",
     "iopub.status.idle": "2022-07-14T17:01:22.346458Z",
     "shell.execute_reply": "2022-07-14T17:01:22.345209Z"
    },
    "papermill": {
     "duration": 0.042771,
     "end_time": "2022-07-14T17:01:22.348894",
     "exception": false,
     "start_time": "2022-07-14T17:01:22.306123",
     "status": "completed"
    },
    "tags": []
   },
   "outputs": [
    {
     "data": {
      "application/javascript": [
       "parent.postMessage({\"jupyterEvent\": \"custom.exercise_interaction\", \"data\": {\"outcomeType\": 1, \"valueTowardsCompletion\": 0.16666666666666666, \"interactionType\": 1, \"questionType\": 1, \"questionId\": \"5_ReviewerMeanRatings\", \"learnToolsVersion\": \"0.3.4\", \"failureMessage\": \"\", \"exceptionClass\": \"\", \"trace\": \"\"}}, \"*\")"
      ],
      "text/plain": [
       "<IPython.core.display.Javascript object>"
      ]
     },
     "metadata": {},
     "output_type": "display_data"
    },
    {
     "data": {
      "text/markdown": [
       "<span style=\"color:#33cc33\">Correct</span>"
      ],
      "text/plain": [
       "Correct"
      ]
     },
     "metadata": {},
     "output_type": "display_data"
    }
   ],
   "source": [
    "reviewer_mean_ratings = reviews.groupby('taster_name').points.mean()\n",
    "\n",
    "# Check your answer\n",
    "q5.check()"
   ]
  },
  {
   "cell_type": "code",
   "execution_count": 11,
   "id": "41dc8d72",
   "metadata": {
    "execution": {
     "iopub.execute_input": "2022-07-14T17:01:22.366824Z",
     "iopub.status.busy": "2022-07-14T17:01:22.366041Z",
     "iopub.status.idle": "2022-07-14T17:01:22.370394Z",
     "shell.execute_reply": "2022-07-14T17:01:22.369715Z"
    },
    "papermill": {
     "duration": 0.015781,
     "end_time": "2022-07-14T17:01:22.372569",
     "exception": false,
     "start_time": "2022-07-14T17:01:22.356788",
     "status": "completed"
    },
    "tags": []
   },
   "outputs": [],
   "source": [
    "#q5.hint()\n",
    "#q5.solution()"
   ]
  },
  {
   "cell_type": "markdown",
   "id": "43a990c2",
   "metadata": {
    "papermill": {
     "duration": 0.007596,
     "end_time": "2022-07-14T17:01:22.388090",
     "exception": false,
     "start_time": "2022-07-14T17:01:22.380494",
     "status": "completed"
    },
    "tags": []
   },
   "source": [
    "Are there significant differences in the average scores assigned by the various reviewers? Run the cell below to use the `describe()` method to see a summary of the range of values."
   ]
  },
  {
   "cell_type": "code",
   "execution_count": 12,
   "id": "9cdabfe1",
   "metadata": {
    "execution": {
     "iopub.execute_input": "2022-07-14T17:01:22.406636Z",
     "iopub.status.busy": "2022-07-14T17:01:22.405895Z",
     "iopub.status.idle": "2022-07-14T17:01:22.425613Z",
     "shell.execute_reply": "2022-07-14T17:01:22.424409Z"
    },
    "papermill": {
     "duration": 0.031428,
     "end_time": "2022-07-14T17:01:22.427882",
     "exception": false,
     "start_time": "2022-07-14T17:01:22.396454",
     "status": "completed"
    },
    "tags": []
   },
   "outputs": [
    {
     "data": {
      "text/plain": [
       "count    19.000000\n",
       "mean     88.233026\n",
       "std       1.243610\n",
       "min      85.855422\n",
       "25%      87.323501\n",
       "50%      88.536235\n",
       "75%      88.975256\n",
       "max      90.562551\n",
       "Name: points, dtype: float64"
      ]
     },
     "execution_count": 12,
     "metadata": {},
     "output_type": "execute_result"
    }
   ],
   "source": [
    "reviewer_mean_ratings.describe()"
   ]
  },
  {
   "cell_type": "markdown",
   "id": "3604d3dc",
   "metadata": {
    "papermill": {
     "duration": 0.007978,
     "end_time": "2022-07-14T17:01:22.443840",
     "exception": false,
     "start_time": "2022-07-14T17:01:22.435862",
     "status": "completed"
    },
    "tags": []
   },
   "source": [
    "## 6.\n",
    "What combination of countries and varieties are most common? Create a `Series` whose index is a `MultiIndex`of `{country, variety}` pairs. For example, a pinot noir produced in the US should map to `{\"US\", \"Pinot Noir\"}`. Sort the values in the `Series` in descending order based on wine count."
   ]
  },
  {
   "cell_type": "code",
   "execution_count": 13,
   "id": "57091744",
   "metadata": {
    "execution": {
     "iopub.execute_input": "2022-07-14T17:01:22.462784Z",
     "iopub.status.busy": "2022-07-14T17:01:22.461847Z",
     "iopub.status.idle": "2022-07-14T17:01:22.523020Z",
     "shell.execute_reply": "2022-07-14T17:01:22.521929Z"
    },
    "papermill": {
     "duration": 0.073464,
     "end_time": "2022-07-14T17:01:22.525459",
     "exception": false,
     "start_time": "2022-07-14T17:01:22.451995",
     "status": "completed"
    },
    "tags": []
   },
   "outputs": [
    {
     "data": {
      "application/javascript": [
       "parent.postMessage({\"jupyterEvent\": \"custom.exercise_interaction\", \"data\": {\"outcomeType\": 1, \"valueTowardsCompletion\": 0.16666666666666666, \"interactionType\": 1, \"questionType\": 1, \"questionId\": \"6_GroupbyCountryVariety\", \"learnToolsVersion\": \"0.3.4\", \"failureMessage\": \"\", \"exceptionClass\": \"\", \"trace\": \"\"}}, \"*\")"
      ],
      "text/plain": [
       "<IPython.core.display.Javascript object>"
      ]
     },
     "metadata": {},
     "output_type": "display_data"
    },
    {
     "data": {
      "text/markdown": [
       "<span style=\"color:#33cc33\">Correct</span>"
      ],
      "text/plain": [
       "Correct"
      ]
     },
     "metadata": {},
     "output_type": "display_data"
    }
   ],
   "source": [
    "country_variety_counts = reviews.groupby(['country', 'variety']).size().sort_values(ascending=False)\n",
    "\n",
    "# Check your answer\n",
    "q6.check()"
   ]
  },
  {
   "cell_type": "code",
   "execution_count": 14,
   "id": "68ce3d81",
   "metadata": {
    "execution": {
     "iopub.execute_input": "2022-07-14T17:01:22.544890Z",
     "iopub.status.busy": "2022-07-14T17:01:22.544082Z",
     "iopub.status.idle": "2022-07-14T17:01:22.548618Z",
     "shell.execute_reply": "2022-07-14T17:01:22.547834Z"
    },
    "papermill": {
     "duration": 0.016802,
     "end_time": "2022-07-14T17:01:22.550796",
     "exception": false,
     "start_time": "2022-07-14T17:01:22.533994",
     "status": "completed"
    },
    "tags": []
   },
   "outputs": [],
   "source": [
    "#q6.hint()\n",
    "#q6.solution()"
   ]
  },
  {
   "cell_type": "markdown",
   "id": "4da33652",
   "metadata": {
    "papermill": {
     "duration": 0.007972,
     "end_time": "2022-07-14T17:01:22.566873",
     "exception": false,
     "start_time": "2022-07-14T17:01:22.558901",
     "status": "completed"
    },
    "tags": []
   },
   "source": [
    "# Keep going\n",
    "\n",
    "Move on to the [**data types and missing data**](https://www.kaggle.com/residentmario/data-types-and-missing-values)."
   ]
  },
  {
   "cell_type": "markdown",
   "id": "4b80947e",
   "metadata": {
    "papermill": {
     "duration": 0.007861,
     "end_time": "2022-07-14T17:01:22.583189",
     "exception": false,
     "start_time": "2022-07-14T17:01:22.575328",
     "status": "completed"
    },
    "tags": []
   },
   "source": [
    "---\n",
    "\n",
    "\n",
    "\n",
    "\n",
    "*Have questions or comments? Visit the [course discussion forum](https://www.kaggle.com/learn/pandas/discussion) to chat with other learners.*"
   ]
  }
 ],
 "metadata": {
  "kernelspec": {
   "display_name": "Python 3",
   "language": "python",
   "name": "python3"
  },
  "language_info": {
   "codemirror_mode": {
    "name": "ipython",
    "version": 3
   },
   "file_extension": ".py",
   "mimetype": "text/x-python",
   "name": "python",
   "nbconvert_exporter": "python",
   "pygments_lexer": "ipython3",
   "version": "3.7.12"
  },
  "papermill": {
   "default_parameters": {},
   "duration": 15.221986,
   "end_time": "2022-07-14T17:01:23.313795",
   "environment_variables": {},
   "exception": null,
   "input_path": "__notebook__.ipynb",
   "output_path": "__notebook__.ipynb",
   "parameters": {},
   "start_time": "2022-07-14T17:01:08.091809",
   "version": "2.3.4"
  }
 },
 "nbformat": 4,
 "nbformat_minor": 5
}
