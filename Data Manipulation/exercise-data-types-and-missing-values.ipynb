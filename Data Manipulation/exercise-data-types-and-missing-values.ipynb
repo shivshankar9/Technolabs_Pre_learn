{
 "cells": [
  {
   "cell_type": "markdown",
   "id": "2a0fe5d3",
   "metadata": {
    "papermill": {
     "duration": 0.005831,
     "end_time": "2022-07-15T02:45:56.703029",
     "exception": false,
     "start_time": "2022-07-15T02:45:56.697198",
     "status": "completed"
    },
    "tags": []
   },
   "source": [
    "**This notebook is an exercise in the [Pandas](https://www.kaggle.com/learn/pandas) course.  You can reference the tutorial at [this link](https://www.kaggle.com/residentmario/data-types-and-missing-values).**\n",
    "\n",
    "---\n"
   ]
  },
  {
   "cell_type": "markdown",
   "id": "79ce50ad",
   "metadata": {
    "papermill": {
     "duration": 0.004497,
     "end_time": "2022-07-15T02:45:56.712637",
     "exception": false,
     "start_time": "2022-07-15T02:45:56.708140",
     "status": "completed"
    },
    "tags": []
   },
   "source": [
    "# Introduction\n",
    "\n",
    "Run the following cell to load your data and some utility functions."
   ]
  },
  {
   "cell_type": "code",
   "execution_count": 1,
   "id": "8b01da57",
   "metadata": {
    "execution": {
     "iopub.execute_input": "2022-07-15T02:45:56.724568Z",
     "iopub.status.busy": "2022-07-15T02:45:56.723963Z",
     "iopub.status.idle": "2022-07-15T02:45:59.814863Z",
     "shell.execute_reply": "2022-07-15T02:45:59.813819Z"
    },
    "papermill": {
     "duration": 3.100753,
     "end_time": "2022-07-15T02:45:59.818038",
     "exception": false,
     "start_time": "2022-07-15T02:45:56.717285",
     "status": "completed"
    },
    "tags": []
   },
   "outputs": [
    {
     "name": "stdout",
     "output_type": "stream",
     "text": [
      "Setup complete.\n"
     ]
    }
   ],
   "source": [
    "import pandas as pd\n",
    "\n",
    "reviews = pd.read_csv(\"../input/wine-reviews/winemag-data-130k-v2.csv\", index_col=0)\n",
    "\n",
    "from learntools.core import binder; binder.bind(globals())\n",
    "from learntools.pandas.data_types_and_missing_data import *\n",
    "print(\"Setup complete.\")"
   ]
  },
  {
   "cell_type": "markdown",
   "id": "6bb9508a",
   "metadata": {
    "papermill": {
     "duration": 0.004512,
     "end_time": "2022-07-15T02:45:59.827762",
     "exception": false,
     "start_time": "2022-07-15T02:45:59.823250",
     "status": "completed"
    },
    "tags": []
   },
   "source": [
    "# Exercises"
   ]
  },
  {
   "cell_type": "markdown",
   "id": "d4c38075",
   "metadata": {
    "papermill": {
     "duration": 0.004663,
     "end_time": "2022-07-15T02:45:59.837225",
     "exception": false,
     "start_time": "2022-07-15T02:45:59.832562",
     "status": "completed"
    },
    "tags": []
   },
   "source": [
    "## 1. \n",
    "What is the data type of the `points` column in the dataset?"
   ]
  },
  {
   "cell_type": "code",
   "execution_count": 2,
   "id": "7266a0a2",
   "metadata": {
    "execution": {
     "iopub.execute_input": "2022-07-15T02:45:59.849968Z",
     "iopub.status.busy": "2022-07-15T02:45:59.848715Z",
     "iopub.status.idle": "2022-07-15T02:45:59.861643Z",
     "shell.execute_reply": "2022-07-15T02:45:59.860813Z"
    },
    "papermill": {
     "duration": 0.021509,
     "end_time": "2022-07-15T02:45:59.863950",
     "exception": false,
     "start_time": "2022-07-15T02:45:59.842441",
     "status": "completed"
    },
    "tags": []
   },
   "outputs": [
    {
     "data": {
      "application/javascript": [
       "parent.postMessage({\"jupyterEvent\": \"custom.exercise_interaction\", \"data\": {\"outcomeType\": 1, \"valueTowardsCompletion\": 0.25, \"interactionType\": 1, \"questionType\": 1, \"questionId\": \"1_PointsDtype\", \"learnToolsVersion\": \"0.3.4\", \"failureMessage\": \"\", \"exceptionClass\": \"\", \"trace\": \"\"}}, \"*\")"
      ],
      "text/plain": [
       "<IPython.core.display.Javascript object>"
      ]
     },
     "metadata": {},
     "output_type": "display_data"
    },
    {
     "data": {
      "text/markdown": [
       "<span style=\"color:#33cc33\">Correct</span>"
      ],
      "text/plain": [
       "Correct"
      ]
     },
     "metadata": {},
     "output_type": "display_data"
    }
   ],
   "source": [
    "# Your code here\n",
    "dtype = reviews.points.dtype\n",
    "\n",
    "# Check your answer\n",
    "q1.check()"
   ]
  },
  {
   "cell_type": "code",
   "execution_count": 3,
   "id": "f9b8d639",
   "metadata": {
    "execution": {
     "iopub.execute_input": "2022-07-15T02:45:59.876980Z",
     "iopub.status.busy": "2022-07-15T02:45:59.875809Z",
     "iopub.status.idle": "2022-07-15T02:45:59.880170Z",
     "shell.execute_reply": "2022-07-15T02:45:59.879204Z"
    },
    "papermill": {
     "duration": 0.013093,
     "end_time": "2022-07-15T02:45:59.882410",
     "exception": false,
     "start_time": "2022-07-15T02:45:59.869317",
     "status": "completed"
    },
    "tags": []
   },
   "outputs": [],
   "source": [
    "#q1.hint()\n",
    "#q1.solution()"
   ]
  },
  {
   "cell_type": "markdown",
   "id": "bd0530bf",
   "metadata": {
    "papermill": {
     "duration": 0.005058,
     "end_time": "2022-07-15T02:45:59.892813",
     "exception": false,
     "start_time": "2022-07-15T02:45:59.887755",
     "status": "completed"
    },
    "tags": []
   },
   "source": [
    "## 2. \n",
    "Create a Series from entries in the `points` column, but convert the entries to strings. Hint: strings are `str` in native Python."
   ]
  },
  {
   "cell_type": "code",
   "execution_count": 4,
   "id": "aede00bc",
   "metadata": {
    "execution": {
     "iopub.execute_input": "2022-07-15T02:45:59.905404Z",
     "iopub.status.busy": "2022-07-15T02:45:59.905044Z",
     "iopub.status.idle": "2022-07-15T02:46:00.040021Z",
     "shell.execute_reply": "2022-07-15T02:46:00.038787Z"
    },
    "papermill": {
     "duration": 0.14398,
     "end_time": "2022-07-15T02:46:00.042395",
     "exception": false,
     "start_time": "2022-07-15T02:45:59.898415",
     "status": "completed"
    },
    "tags": []
   },
   "outputs": [
    {
     "data": {
      "application/javascript": [
       "parent.postMessage({\"jupyterEvent\": \"custom.exercise_interaction\", \"data\": {\"outcomeType\": 1, \"valueTowardsCompletion\": 0.25, \"interactionType\": 1, \"questionType\": 1, \"questionId\": \"2_StrPoints\", \"learnToolsVersion\": \"0.3.4\", \"failureMessage\": \"\", \"exceptionClass\": \"\", \"trace\": \"\"}}, \"*\")"
      ],
      "text/plain": [
       "<IPython.core.display.Javascript object>"
      ]
     },
     "metadata": {},
     "output_type": "display_data"
    },
    {
     "data": {
      "text/markdown": [
       "<span style=\"color:#33cc33\">Correct</span>"
      ],
      "text/plain": [
       "Correct"
      ]
     },
     "metadata": {},
     "output_type": "display_data"
    }
   ],
   "source": [
    "point_strings = reviews.points.astype(str)\n",
    "\n",
    "# Check your answer\n",
    "q2.check()"
   ]
  },
  {
   "cell_type": "code",
   "execution_count": 5,
   "id": "b2dd6336",
   "metadata": {
    "execution": {
     "iopub.execute_input": "2022-07-15T02:46:00.055208Z",
     "iopub.status.busy": "2022-07-15T02:46:00.054556Z",
     "iopub.status.idle": "2022-07-15T02:46:00.058950Z",
     "shell.execute_reply": "2022-07-15T02:46:00.057802Z"
    },
    "papermill": {
     "duration": 0.013287,
     "end_time": "2022-07-15T02:46:00.061194",
     "exception": false,
     "start_time": "2022-07-15T02:46:00.047907",
     "status": "completed"
    },
    "tags": []
   },
   "outputs": [],
   "source": [
    "#q2.hint()\n",
    "#q2.solution()"
   ]
  },
  {
   "cell_type": "markdown",
   "id": "9303b0ed",
   "metadata": {
    "papermill": {
     "duration": 0.005071,
     "end_time": "2022-07-15T02:46:00.071654",
     "exception": false,
     "start_time": "2022-07-15T02:46:00.066583",
     "status": "completed"
    },
    "tags": []
   },
   "source": [
    "## 3.\n",
    "Sometimes the price column is null. How many reviews in the dataset are missing a price?"
   ]
  },
  {
   "cell_type": "code",
   "execution_count": 6,
   "id": "0b632451",
   "metadata": {
    "execution": {
     "iopub.execute_input": "2022-07-15T02:46:00.084307Z",
     "iopub.status.busy": "2022-07-15T02:46:00.083433Z",
     "iopub.status.idle": "2022-07-15T02:46:00.100618Z",
     "shell.execute_reply": "2022-07-15T02:46:00.099843Z"
    },
    "papermill": {
     "duration": 0.025569,
     "end_time": "2022-07-15T02:46:00.102630",
     "exception": false,
     "start_time": "2022-07-15T02:46:00.077061",
     "status": "completed"
    },
    "tags": []
   },
   "outputs": [
    {
     "data": {
      "application/javascript": [
       "parent.postMessage({\"jupyterEvent\": \"custom.exercise_interaction\", \"data\": {\"outcomeType\": 1, \"valueTowardsCompletion\": 0.25, \"interactionType\": 1, \"questionType\": 1, \"questionId\": \"3_CountMissingPrices\", \"learnToolsVersion\": \"0.3.4\", \"failureMessage\": \"\", \"exceptionClass\": \"\", \"trace\": \"\"}}, \"*\")"
      ],
      "text/plain": [
       "<IPython.core.display.Javascript object>"
      ]
     },
     "metadata": {},
     "output_type": "display_data"
    },
    {
     "data": {
      "text/markdown": [
       "<span style=\"color:#33cc33\">Correct</span>"
      ],
      "text/plain": [
       "Correct"
      ]
     },
     "metadata": {},
     "output_type": "display_data"
    }
   ],
   "source": [
    "n_missing_prices = missing_price_reviews = reviews[reviews.price.isnull()]\n",
    "n_missing_prices = len(missing_price_reviews)\n",
    "# Cute alternative solution: if we sum a boolean series, True is treated as 1 and False as 0\n",
    "n_missing_prices = reviews.price.isnull().sum()\n",
    "# or equivalently:\n",
    "n_missing_prices = pd.isnull(reviews.price).sum()\n",
    "\n",
    "# Check your answer\n",
    "q3.check()"
   ]
  },
  {
   "cell_type": "code",
   "execution_count": 7,
   "id": "56e2449f",
   "metadata": {
    "execution": {
     "iopub.execute_input": "2022-07-15T02:46:00.115536Z",
     "iopub.status.busy": "2022-07-15T02:46:00.115111Z",
     "iopub.status.idle": "2022-07-15T02:46:00.119285Z",
     "shell.execute_reply": "2022-07-15T02:46:00.118284Z"
    },
    "papermill": {
     "duration": 0.013057,
     "end_time": "2022-07-15T02:46:00.121349",
     "exception": false,
     "start_time": "2022-07-15T02:46:00.108292",
     "status": "completed"
    },
    "tags": []
   },
   "outputs": [],
   "source": [
    "#q3.hint()\n",
    "#q3.solution()"
   ]
  },
  {
   "cell_type": "markdown",
   "id": "3b78f432",
   "metadata": {
    "papermill": {
     "duration": 0.005482,
     "end_time": "2022-07-15T02:46:00.132689",
     "exception": false,
     "start_time": "2022-07-15T02:46:00.127207",
     "status": "completed"
    },
    "tags": []
   },
   "source": [
    "## 4.\n",
    "What are the most common wine-producing regions? Create a Series counting the number of times each value occurs in the `region_1` field. This field is often missing data, so replace missing values with `Unknown`. Sort in descending order.  Your output should look something like this:\n",
    "\n",
    "```\n",
    "Unknown                    21247\n",
    "Napa Valley                 4480\n",
    "                           ...  \n",
    "Bardolino Superiore            1\n",
    "Primitivo del Tarantino        1\n",
    "Name: region_1, Length: 1230, dtype: int64\n",
    "```"
   ]
  },
  {
   "cell_type": "code",
   "execution_count": 8,
   "id": "0c490955",
   "metadata": {
    "execution": {
     "iopub.execute_input": "2022-07-15T02:46:00.145921Z",
     "iopub.status.busy": "2022-07-15T02:46:00.145208Z",
     "iopub.status.idle": "2022-07-15T02:46:00.223423Z",
     "shell.execute_reply": "2022-07-15T02:46:00.222366Z"
    },
    "papermill": {
     "duration": 0.087506,
     "end_time": "2022-07-15T02:46:00.225798",
     "exception": false,
     "start_time": "2022-07-15T02:46:00.138292",
     "status": "completed"
    },
    "tags": []
   },
   "outputs": [
    {
     "data": {
      "application/javascript": [
       "parent.postMessage({\"jupyterEvent\": \"custom.exercise_interaction\", \"data\": {\"outcomeType\": 1, \"valueTowardsCompletion\": 0.25, \"interactionType\": 1, \"questionType\": 2, \"questionId\": \"4_ReviewsPerRegion\", \"learnToolsVersion\": \"0.3.4\", \"failureMessage\": \"\", \"exceptionClass\": \"\", \"trace\": \"\"}}, \"*\")"
      ],
      "text/plain": [
       "<IPython.core.display.Javascript object>"
      ]
     },
     "metadata": {},
     "output_type": "display_data"
    },
    {
     "data": {
      "text/markdown": [
       "<span style=\"color:#33cc33\">Correct</span>"
      ],
      "text/plain": [
       "Correct"
      ]
     },
     "metadata": {},
     "output_type": "display_data"
    }
   ],
   "source": [
    "reviews_per_region = reviews.region_1.fillna('Unknown').value_counts().sort_values(ascending=False)\n",
    "\n",
    "# Check your answer\n",
    "q4.check()"
   ]
  },
  {
   "cell_type": "code",
   "execution_count": 9,
   "id": "8b749958",
   "metadata": {
    "execution": {
     "iopub.execute_input": "2022-07-15T02:46:00.240351Z",
     "iopub.status.busy": "2022-07-15T02:46:00.239685Z",
     "iopub.status.idle": "2022-07-15T02:46:00.244034Z",
     "shell.execute_reply": "2022-07-15T02:46:00.242964Z"
    },
    "papermill": {
     "duration": 0.014128,
     "end_time": "2022-07-15T02:46:00.246199",
     "exception": false,
     "start_time": "2022-07-15T02:46:00.232071",
     "status": "completed"
    },
    "tags": []
   },
   "outputs": [],
   "source": [
    "#q4.hint()\n",
    "#q4.solution()"
   ]
  },
  {
   "cell_type": "markdown",
   "id": "b5aa3390",
   "metadata": {
    "papermill": {
     "duration": 0.006053,
     "end_time": "2022-07-15T02:46:00.258483",
     "exception": false,
     "start_time": "2022-07-15T02:46:00.252430",
     "status": "completed"
    },
    "tags": []
   },
   "source": [
    "# Keep going\n",
    "\n",
    "Move on to **[renaming and combining](https://www.kaggle.com/residentmario/renaming-and-combining)**."
   ]
  },
  {
   "cell_type": "markdown",
   "id": "47ed1d9c",
   "metadata": {
    "papermill": {
     "duration": 0.005951,
     "end_time": "2022-07-15T02:46:00.270668",
     "exception": false,
     "start_time": "2022-07-15T02:46:00.264717",
     "status": "completed"
    },
    "tags": []
   },
   "source": [
    "---\n",
    "\n",
    "\n",
    "\n",
    "\n",
    "*Have questions or comments? Visit the [course discussion forum](https://www.kaggle.com/learn/pandas/discussion) to chat with other learners.*"
   ]
  }
 ],
 "metadata": {
  "kernelspec": {
   "display_name": "Python 3",
   "language": "python",
   "name": "python3"
  },
  "language_info": {
   "codemirror_mode": {
    "name": "ipython",
    "version": 3
   },
   "file_extension": ".py",
   "mimetype": "text/x-python",
   "name": "python",
   "nbconvert_exporter": "python",
   "pygments_lexer": "ipython3",
   "version": "3.7.12"
  },
  "papermill": {
   "default_parameters": {},
   "duration": 13.874666,
   "end_time": "2022-07-15T02:46:00.998913",
   "environment_variables": {},
   "exception": null,
   "input_path": "__notebook__.ipynb",
   "output_path": "__notebook__.ipynb",
   "parameters": {},
   "start_time": "2022-07-15T02:45:47.124247",
   "version": "2.3.4"
  }
 },
 "nbformat": 4,
 "nbformat_minor": 5
}
