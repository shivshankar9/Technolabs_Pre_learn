{
 "cells": [
  {
   "cell_type": "markdown",
   "id": "0eaee81a",
   "metadata": {
    "papermill": {
     "duration": 0.008687,
     "end_time": "2022-07-14T16:46:12.571559",
     "exception": false,
     "start_time": "2022-07-14T16:46:12.562872",
     "status": "completed"
    },
    "tags": []
   },
   "source": [
    "**This notebook is an exercise in the [Pandas](https://www.kaggle.com/learn/pandas) course.  You can reference the tutorial at [this link](https://www.kaggle.com/residentmario/summary-functions-and-maps).**\n",
    "\n",
    "---\n"
   ]
  },
  {
   "cell_type": "markdown",
   "id": "3d752078",
   "metadata": {
    "papermill": {
     "duration": 0.006866,
     "end_time": "2022-07-14T16:46:12.585711",
     "exception": false,
     "start_time": "2022-07-14T16:46:12.578845",
     "status": "completed"
    },
    "tags": []
   },
   "source": [
    "# Introduction\n",
    "\n",
    "Now you are ready to get a deeper understanding of your data.\n",
    "\n",
    "Run the following cell to load your data and some utility functions (including code to check your answers)."
   ]
  },
  {
   "cell_type": "code",
   "execution_count": 1,
   "id": "8cc3ad9d",
   "metadata": {
    "execution": {
     "iopub.execute_input": "2022-07-14T16:46:12.603244Z",
     "iopub.status.busy": "2022-07-14T16:46:12.601672Z",
     "iopub.status.idle": "2022-07-14T16:46:20.921106Z",
     "shell.execute_reply": "2022-07-14T16:46:20.919480Z"
    },
    "papermill": {
     "duration": 8.333129,
     "end_time": "2022-07-14T16:46:20.925900",
     "exception": false,
     "start_time": "2022-07-14T16:46:12.592771",
     "status": "completed"
    },
    "tags": []
   },
   "outputs": [
    {
     "name": "stdout",
     "output_type": "stream",
     "text": [
      "Setup complete.\n"
     ]
    },
    {
     "data": {
      "text/html": [
       "<div>\n",
       "<style scoped>\n",
       "    .dataframe tbody tr th:only-of-type {\n",
       "        vertical-align: middle;\n",
       "    }\n",
       "\n",
       "    .dataframe tbody tr th {\n",
       "        vertical-align: top;\n",
       "    }\n",
       "\n",
       "    .dataframe thead th {\n",
       "        text-align: right;\n",
       "    }\n",
       "</style>\n",
       "<table border=\"1\" class=\"dataframe\">\n",
       "  <thead>\n",
       "    <tr style=\"text-align: right;\">\n",
       "      <th></th>\n",
       "      <th>country</th>\n",
       "      <th>description</th>\n",
       "      <th>designation</th>\n",
       "      <th>points</th>\n",
       "      <th>price</th>\n",
       "      <th>province</th>\n",
       "      <th>region_1</th>\n",
       "      <th>region_2</th>\n",
       "      <th>taster_name</th>\n",
       "      <th>taster_twitter_handle</th>\n",
       "      <th>title</th>\n",
       "      <th>variety</th>\n",
       "      <th>winery</th>\n",
       "    </tr>\n",
       "  </thead>\n",
       "  <tbody>\n",
       "    <tr>\n",
       "      <th>0</th>\n",
       "      <td>Italy</td>\n",
       "      <td>Aromas include tropical fruit, broom, brimston...</td>\n",
       "      <td>Vulkà Bianco</td>\n",
       "      <td>87</td>\n",
       "      <td>NaN</td>\n",
       "      <td>Sicily &amp; Sardinia</td>\n",
       "      <td>Etna</td>\n",
       "      <td>NaN</td>\n",
       "      <td>Kerin O’Keefe</td>\n",
       "      <td>@kerinokeefe</td>\n",
       "      <td>Nicosia 2013 Vulkà Bianco  (Etna)</td>\n",
       "      <td>White Blend</td>\n",
       "      <td>Nicosia</td>\n",
       "    </tr>\n",
       "    <tr>\n",
       "      <th>1</th>\n",
       "      <td>Portugal</td>\n",
       "      <td>This is ripe and fruity, a wine that is smooth...</td>\n",
       "      <td>Avidagos</td>\n",
       "      <td>87</td>\n",
       "      <td>15.0</td>\n",
       "      <td>Douro</td>\n",
       "      <td>NaN</td>\n",
       "      <td>NaN</td>\n",
       "      <td>Roger Voss</td>\n",
       "      <td>@vossroger</td>\n",
       "      <td>Quinta dos Avidagos 2011 Avidagos Red (Douro)</td>\n",
       "      <td>Portuguese Red</td>\n",
       "      <td>Quinta dos Avidagos</td>\n",
       "    </tr>\n",
       "    <tr>\n",
       "      <th>2</th>\n",
       "      <td>US</td>\n",
       "      <td>Tart and snappy, the flavors of lime flesh and...</td>\n",
       "      <td>NaN</td>\n",
       "      <td>87</td>\n",
       "      <td>14.0</td>\n",
       "      <td>Oregon</td>\n",
       "      <td>Willamette Valley</td>\n",
       "      <td>Willamette Valley</td>\n",
       "      <td>Paul Gregutt</td>\n",
       "      <td>@paulgwine</td>\n",
       "      <td>Rainstorm 2013 Pinot Gris (Willamette Valley)</td>\n",
       "      <td>Pinot Gris</td>\n",
       "      <td>Rainstorm</td>\n",
       "    </tr>\n",
       "    <tr>\n",
       "      <th>3</th>\n",
       "      <td>US</td>\n",
       "      <td>Pineapple rind, lemon pith and orange blossom ...</td>\n",
       "      <td>Reserve Late Harvest</td>\n",
       "      <td>87</td>\n",
       "      <td>13.0</td>\n",
       "      <td>Michigan</td>\n",
       "      <td>Lake Michigan Shore</td>\n",
       "      <td>NaN</td>\n",
       "      <td>Alexander Peartree</td>\n",
       "      <td>NaN</td>\n",
       "      <td>St. Julian 2013 Reserve Late Harvest Riesling ...</td>\n",
       "      <td>Riesling</td>\n",
       "      <td>St. Julian</td>\n",
       "    </tr>\n",
       "    <tr>\n",
       "      <th>4</th>\n",
       "      <td>US</td>\n",
       "      <td>Much like the regular bottling from 2012, this...</td>\n",
       "      <td>Vintner's Reserve Wild Child Block</td>\n",
       "      <td>87</td>\n",
       "      <td>65.0</td>\n",
       "      <td>Oregon</td>\n",
       "      <td>Willamette Valley</td>\n",
       "      <td>Willamette Valley</td>\n",
       "      <td>Paul Gregutt</td>\n",
       "      <td>@paulgwine</td>\n",
       "      <td>Sweet Cheeks 2012 Vintner's Reserve Wild Child...</td>\n",
       "      <td>Pinot Noir</td>\n",
       "      <td>Sweet Cheeks</td>\n",
       "    </tr>\n",
       "  </tbody>\n",
       "</table>\n",
       "</div>"
      ],
      "text/plain": [
       "    country                                        description  \\\n",
       "0     Italy  Aromas include tropical fruit, broom, brimston...   \n",
       "1  Portugal  This is ripe and fruity, a wine that is smooth...   \n",
       "2        US  Tart and snappy, the flavors of lime flesh and...   \n",
       "3        US  Pineapple rind, lemon pith and orange blossom ...   \n",
       "4        US  Much like the regular bottling from 2012, this...   \n",
       "\n",
       "                          designation  points  price           province  \\\n",
       "0                        Vulkà Bianco      87    NaN  Sicily & Sardinia   \n",
       "1                            Avidagos      87   15.0              Douro   \n",
       "2                                 NaN      87   14.0             Oregon   \n",
       "3                Reserve Late Harvest      87   13.0           Michigan   \n",
       "4  Vintner's Reserve Wild Child Block      87   65.0             Oregon   \n",
       "\n",
       "              region_1           region_2         taster_name  \\\n",
       "0                 Etna                NaN       Kerin O’Keefe   \n",
       "1                  NaN                NaN          Roger Voss   \n",
       "2    Willamette Valley  Willamette Valley        Paul Gregutt   \n",
       "3  Lake Michigan Shore                NaN  Alexander Peartree   \n",
       "4    Willamette Valley  Willamette Valley        Paul Gregutt   \n",
       "\n",
       "  taster_twitter_handle                                              title  \\\n",
       "0          @kerinokeefe                  Nicosia 2013 Vulkà Bianco  (Etna)   \n",
       "1            @vossroger      Quinta dos Avidagos 2011 Avidagos Red (Douro)   \n",
       "2           @paulgwine       Rainstorm 2013 Pinot Gris (Willamette Valley)   \n",
       "3                   NaN  St. Julian 2013 Reserve Late Harvest Riesling ...   \n",
       "4           @paulgwine   Sweet Cheeks 2012 Vintner's Reserve Wild Child...   \n",
       "\n",
       "          variety               winery  \n",
       "0     White Blend              Nicosia  \n",
       "1  Portuguese Red  Quinta dos Avidagos  \n",
       "2      Pinot Gris            Rainstorm  \n",
       "3        Riesling           St. Julian  \n",
       "4      Pinot Noir         Sweet Cheeks  "
      ]
     },
     "execution_count": 1,
     "metadata": {},
     "output_type": "execute_result"
    }
   ],
   "source": [
    "import pandas as pd\n",
    "pd.set_option(\"display.max_rows\", 5)\n",
    "reviews = pd.read_csv(\"../input/wine-reviews/winemag-data-130k-v2.csv\", index_col=0)\n",
    "\n",
    "from learntools.core import binder; binder.bind(globals())\n",
    "from learntools.pandas.summary_functions_and_maps import *\n",
    "print(\"Setup complete.\")\n",
    "\n",
    "reviews.head()"
   ]
  },
  {
   "cell_type": "markdown",
   "id": "905ba111",
   "metadata": {
    "papermill": {
     "duration": 0.007665,
     "end_time": "2022-07-14T16:46:20.941587",
     "exception": false,
     "start_time": "2022-07-14T16:46:20.933922",
     "status": "completed"
    },
    "tags": []
   },
   "source": [
    "# Exercises"
   ]
  },
  {
   "cell_type": "markdown",
   "id": "9935bac7",
   "metadata": {
    "papermill": {
     "duration": 0.008071,
     "end_time": "2022-07-14T16:46:20.958291",
     "exception": false,
     "start_time": "2022-07-14T16:46:20.950220",
     "status": "completed"
    },
    "tags": []
   },
   "source": [
    "## 1.\n",
    "\n",
    "What is the median of the `points` column in the `reviews` DataFrame?"
   ]
  },
  {
   "cell_type": "code",
   "execution_count": 2,
   "id": "11e09af8",
   "metadata": {
    "execution": {
     "iopub.execute_input": "2022-07-14T16:46:20.976672Z",
     "iopub.status.busy": "2022-07-14T16:46:20.976254Z",
     "iopub.status.idle": "2022-07-14T16:46:20.988940Z",
     "shell.execute_reply": "2022-07-14T16:46:20.987647Z"
    },
    "papermill": {
     "duration": 0.025042,
     "end_time": "2022-07-14T16:46:20.991416",
     "exception": false,
     "start_time": "2022-07-14T16:46:20.966374",
     "status": "completed"
    },
    "tags": []
   },
   "outputs": [
    {
     "data": {
      "application/javascript": [
       "parent.postMessage({\"jupyterEvent\": \"custom.exercise_interaction\", \"data\": {\"outcomeType\": 1, \"valueTowardsCompletion\": 0.14285714285714285, \"interactionType\": 1, \"questionType\": 1, \"questionId\": \"1_MedianPoints\", \"learnToolsVersion\": \"0.3.4\", \"failureMessage\": \"\", \"exceptionClass\": \"\", \"trace\": \"\"}}, \"*\")"
      ],
      "text/plain": [
       "<IPython.core.display.Javascript object>"
      ]
     },
     "metadata": {},
     "output_type": "display_data"
    },
    {
     "data": {
      "text/markdown": [
       "<span style=\"color:#33cc33\">Correct</span>"
      ],
      "text/plain": [
       "Correct"
      ]
     },
     "metadata": {},
     "output_type": "display_data"
    }
   ],
   "source": [
    "median_points = reviews.points.median()\n",
    "\n",
    "# Check your answer\n",
    "q1.check()"
   ]
  },
  {
   "cell_type": "code",
   "execution_count": 3,
   "id": "58390caa",
   "metadata": {
    "execution": {
     "iopub.execute_input": "2022-07-14T16:46:21.011910Z",
     "iopub.status.busy": "2022-07-14T16:46:21.011536Z",
     "iopub.status.idle": "2022-07-14T16:46:21.015894Z",
     "shell.execute_reply": "2022-07-14T16:46:21.014748Z"
    },
    "papermill": {
     "duration": 0.018884,
     "end_time": "2022-07-14T16:46:21.018055",
     "exception": false,
     "start_time": "2022-07-14T16:46:20.999171",
     "status": "completed"
    },
    "tags": []
   },
   "outputs": [],
   "source": [
    "#q1.hint()\n",
    "#q1.solution()"
   ]
  },
  {
   "cell_type": "markdown",
   "id": "cefffb53",
   "metadata": {
    "papermill": {
     "duration": 0.007441,
     "end_time": "2022-07-14T16:46:21.033148",
     "exception": false,
     "start_time": "2022-07-14T16:46:21.025707",
     "status": "completed"
    },
    "tags": []
   },
   "source": [
    "## 2. \n",
    "What countries are represented in the dataset? (Your answer should not include any duplicates.)"
   ]
  },
  {
   "cell_type": "code",
   "execution_count": 4,
   "id": "3fdefc98",
   "metadata": {
    "execution": {
     "iopub.execute_input": "2022-07-14T16:46:21.050736Z",
     "iopub.status.busy": "2022-07-14T16:46:21.049925Z",
     "iopub.status.idle": "2022-07-14T16:46:21.072302Z",
     "shell.execute_reply": "2022-07-14T16:46:21.071429Z"
    },
    "papermill": {
     "duration": 0.033786,
     "end_time": "2022-07-14T16:46:21.074505",
     "exception": false,
     "start_time": "2022-07-14T16:46:21.040719",
     "status": "completed"
    },
    "tags": []
   },
   "outputs": [
    {
     "data": {
      "application/javascript": [
       "parent.postMessage({\"jupyterEvent\": \"custom.exercise_interaction\", \"data\": {\"outcomeType\": 1, \"valueTowardsCompletion\": 0.14285714285714285, \"interactionType\": 1, \"questionType\": 2, \"questionId\": \"2_UniqueCountries\", \"learnToolsVersion\": \"0.3.4\", \"failureMessage\": \"\", \"exceptionClass\": \"\", \"trace\": \"\"}}, \"*\")"
      ],
      "text/plain": [
       "<IPython.core.display.Javascript object>"
      ]
     },
     "metadata": {},
     "output_type": "display_data"
    },
    {
     "data": {
      "text/markdown": [
       "<span style=\"color:#33cc33\">Correct</span>"
      ],
      "text/plain": [
       "Correct"
      ]
     },
     "metadata": {},
     "output_type": "display_data"
    }
   ],
   "source": [
    "countries = reviews.country.unique()\n",
    "\n",
    "# Check your answer\n",
    "q2.check()"
   ]
  },
  {
   "cell_type": "code",
   "execution_count": 5,
   "id": "7f68c95b",
   "metadata": {
    "execution": {
     "iopub.execute_input": "2022-07-14T16:46:21.092462Z",
     "iopub.status.busy": "2022-07-14T16:46:21.091716Z",
     "iopub.status.idle": "2022-07-14T16:46:21.096212Z",
     "shell.execute_reply": "2022-07-14T16:46:21.095397Z"
    },
    "papermill": {
     "duration": 0.01609,
     "end_time": "2022-07-14T16:46:21.098447",
     "exception": false,
     "start_time": "2022-07-14T16:46:21.082357",
     "status": "completed"
    },
    "tags": []
   },
   "outputs": [],
   "source": [
    "#q2.hint()\n",
    "#q2.solution()"
   ]
  },
  {
   "cell_type": "markdown",
   "id": "db7c259f",
   "metadata": {
    "papermill": {
     "duration": 0.007634,
     "end_time": "2022-07-14T16:46:21.113947",
     "exception": false,
     "start_time": "2022-07-14T16:46:21.106313",
     "status": "completed"
    },
    "tags": []
   },
   "source": [
    "## 3.\n",
    "How often does each country appear in the dataset? Create a Series `reviews_per_country` mapping countries to the count of reviews of wines from that country."
   ]
  },
  {
   "cell_type": "code",
   "execution_count": 6,
   "id": "bc77290a",
   "metadata": {
    "execution": {
     "iopub.execute_input": "2022-07-14T16:46:21.132237Z",
     "iopub.status.busy": "2022-07-14T16:46:21.131478Z",
     "iopub.status.idle": "2022-07-14T16:46:21.160248Z",
     "shell.execute_reply": "2022-07-14T16:46:21.158796Z"
    },
    "papermill": {
     "duration": 0.041821,
     "end_time": "2022-07-14T16:46:21.163863",
     "exception": false,
     "start_time": "2022-07-14T16:46:21.122042",
     "status": "completed"
    },
    "tags": []
   },
   "outputs": [
    {
     "data": {
      "application/javascript": [
       "parent.postMessage({\"jupyterEvent\": \"custom.exercise_interaction\", \"data\": {\"outcomeType\": 1, \"valueTowardsCompletion\": 0.14285714285714285, \"interactionType\": 1, \"questionType\": 1, \"questionId\": \"3_ReviewsPerCountry\", \"learnToolsVersion\": \"0.3.4\", \"failureMessage\": \"\", \"exceptionClass\": \"\", \"trace\": \"\"}}, \"*\")"
      ],
      "text/plain": [
       "<IPython.core.display.Javascript object>"
      ]
     },
     "metadata": {},
     "output_type": "display_data"
    },
    {
     "data": {
      "text/markdown": [
       "<span style=\"color:#33cc33\">Correct</span>"
      ],
      "text/plain": [
       "Correct"
      ]
     },
     "metadata": {},
     "output_type": "display_data"
    }
   ],
   "source": [
    "reviews_per_country = reviews.country.value_counts()\n",
    "\n",
    "# Check your answer\n",
    "q3.check()"
   ]
  },
  {
   "cell_type": "code",
   "execution_count": 7,
   "id": "e577444c",
   "metadata": {
    "execution": {
     "iopub.execute_input": "2022-07-14T16:46:21.183141Z",
     "iopub.status.busy": "2022-07-14T16:46:21.182510Z",
     "iopub.status.idle": "2022-07-14T16:46:21.187316Z",
     "shell.execute_reply": "2022-07-14T16:46:21.186378Z"
    },
    "papermill": {
     "duration": 0.017336,
     "end_time": "2022-07-14T16:46:21.189728",
     "exception": false,
     "start_time": "2022-07-14T16:46:21.172392",
     "status": "completed"
    },
    "tags": []
   },
   "outputs": [],
   "source": [
    "#q3.hint()\n",
    "#q3.solution()"
   ]
  },
  {
   "cell_type": "markdown",
   "id": "8ae90ce3",
   "metadata": {
    "papermill": {
     "duration": 0.008102,
     "end_time": "2022-07-14T16:46:21.206186",
     "exception": false,
     "start_time": "2022-07-14T16:46:21.198084",
     "status": "completed"
    },
    "tags": []
   },
   "source": [
    "## 4.\n",
    "Create variable `centered_price` containing a version of the `price` column with the mean price subtracted.\n",
    "\n",
    "(Note: this 'centering' transformation is a common preprocessing step before applying various machine learning algorithms.) "
   ]
  },
  {
   "cell_type": "code",
   "execution_count": 8,
   "id": "336fd517",
   "metadata": {
    "execution": {
     "iopub.execute_input": "2022-07-14T16:46:21.225163Z",
     "iopub.status.busy": "2022-07-14T16:46:21.224505Z",
     "iopub.status.idle": "2022-07-14T16:46:21.235937Z",
     "shell.execute_reply": "2022-07-14T16:46:21.234937Z"
    },
    "papermill": {
     "duration": 0.024366,
     "end_time": "2022-07-14T16:46:21.238917",
     "exception": false,
     "start_time": "2022-07-14T16:46:21.214551",
     "status": "completed"
    },
    "tags": []
   },
   "outputs": [
    {
     "data": {
      "application/javascript": [
       "parent.postMessage({\"jupyterEvent\": \"custom.exercise_interaction\", \"data\": {\"outcomeType\": 1, \"valueTowardsCompletion\": 0.14285714285714285, \"interactionType\": 1, \"questionType\": 1, \"questionId\": \"4_CenteredPrice\", \"learnToolsVersion\": \"0.3.4\", \"failureMessage\": \"\", \"exceptionClass\": \"\", \"trace\": \"\"}}, \"*\")"
      ],
      "text/plain": [
       "<IPython.core.display.Javascript object>"
      ]
     },
     "metadata": {},
     "output_type": "display_data"
    },
    {
     "data": {
      "text/markdown": [
       "<span style=\"color:#33cc33\">Correct</span>"
      ],
      "text/plain": [
       "Correct"
      ]
     },
     "metadata": {},
     "output_type": "display_data"
    }
   ],
   "source": [
    "centered_price = reviews.price - reviews.price.mean()\n",
    "\n",
    "# Check your answer\n",
    "q4.check()"
   ]
  },
  {
   "cell_type": "code",
   "execution_count": 9,
   "id": "7987cd34",
   "metadata": {
    "execution": {
     "iopub.execute_input": "2022-07-14T16:46:21.259618Z",
     "iopub.status.busy": "2022-07-14T16:46:21.258968Z",
     "iopub.status.idle": "2022-07-14T16:46:21.263966Z",
     "shell.execute_reply": "2022-07-14T16:46:21.262720Z"
    },
    "papermill": {
     "duration": 0.01803,
     "end_time": "2022-07-14T16:46:21.266693",
     "exception": false,
     "start_time": "2022-07-14T16:46:21.248663",
     "status": "completed"
    },
    "tags": []
   },
   "outputs": [],
   "source": [
    "#q4.hint()\n",
    "#q4.solution()"
   ]
  },
  {
   "cell_type": "markdown",
   "id": "49b3388e",
   "metadata": {
    "papermill": {
     "duration": 0.008637,
     "end_time": "2022-07-14T16:46:21.284701",
     "exception": false,
     "start_time": "2022-07-14T16:46:21.276064",
     "status": "completed"
    },
    "tags": []
   },
   "source": [
    "## 5.\n",
    "I'm an economical wine buyer. Which wine is the \"best bargain\"? Create a variable `bargain_wine` with the title of the wine with the highest points-to-price ratio in the dataset."
   ]
  },
  {
   "cell_type": "code",
   "execution_count": 10,
   "id": "f25c6f5f",
   "metadata": {
    "execution": {
     "iopub.execute_input": "2022-07-14T16:46:21.304647Z",
     "iopub.status.busy": "2022-07-14T16:46:21.304245Z",
     "iopub.status.idle": "2022-07-14T16:46:21.318100Z",
     "shell.execute_reply": "2022-07-14T16:46:21.317255Z"
    },
    "papermill": {
     "duration": 0.026916,
     "end_time": "2022-07-14T16:46:21.320658",
     "exception": false,
     "start_time": "2022-07-14T16:46:21.293742",
     "status": "completed"
    },
    "tags": []
   },
   "outputs": [
    {
     "data": {
      "application/javascript": [
       "parent.postMessage({\"jupyterEvent\": \"custom.exercise_interaction\", \"data\": {\"outcomeType\": 1, \"valueTowardsCompletion\": 0.14285714285714285, \"interactionType\": 1, \"questionType\": 2, \"questionId\": \"5_BargainWine\", \"learnToolsVersion\": \"0.3.4\", \"failureMessage\": \"\", \"exceptionClass\": \"\", \"trace\": \"\"}}, \"*\")"
      ],
      "text/plain": [
       "<IPython.core.display.Javascript object>"
      ]
     },
     "metadata": {},
     "output_type": "display_data"
    },
    {
     "data": {
      "text/markdown": [
       "<span style=\"color:#33cc33\">Correct</span>"
      ],
      "text/plain": [
       "Correct"
      ]
     },
     "metadata": {},
     "output_type": "display_data"
    }
   ],
   "source": [
    "bargain_wine = bargain_idx = (reviews.points / reviews.price).idxmax()\n",
    "bargain_wine = reviews.loc[bargain_idx, 'title']\n",
    "\n",
    "# Check your answer\n",
    "q5.check()"
   ]
  },
  {
   "cell_type": "code",
   "execution_count": 11,
   "id": "6c0967a3",
   "metadata": {
    "execution": {
     "iopub.execute_input": "2022-07-14T16:46:21.341068Z",
     "iopub.status.busy": "2022-07-14T16:46:21.340496Z",
     "iopub.status.idle": "2022-07-14T16:46:21.344044Z",
     "shell.execute_reply": "2022-07-14T16:46:21.343204Z"
    },
    "papermill": {
     "duration": 0.016604,
     "end_time": "2022-07-14T16:46:21.346355",
     "exception": false,
     "start_time": "2022-07-14T16:46:21.329751",
     "status": "completed"
    },
    "tags": []
   },
   "outputs": [],
   "source": [
    "#q5.hint()\n",
    "#q5.solution()"
   ]
  },
  {
   "cell_type": "markdown",
   "id": "85320f05",
   "metadata": {
    "papermill": {
     "duration": 0.008744,
     "end_time": "2022-07-14T16:46:21.364735",
     "exception": false,
     "start_time": "2022-07-14T16:46:21.355991",
     "status": "completed"
    },
    "tags": []
   },
   "source": [
    "## 6.\n",
    "There are only so many words you can use when describing a bottle of wine. Is a wine more likely to be \"tropical\" or \"fruity\"? Create a Series `descriptor_counts` counting how many times each of these two words appears in the `description` column in the dataset. (For simplicity, let's ignore the capitalized versions of these words.)"
   ]
  },
  {
   "cell_type": "code",
   "execution_count": 12,
   "id": "85e1bfc1",
   "metadata": {
    "execution": {
     "iopub.execute_input": "2022-07-14T16:46:21.385075Z",
     "iopub.status.busy": "2022-07-14T16:46:21.384473Z",
     "iopub.status.idle": "2022-07-14T16:46:21.540186Z",
     "shell.execute_reply": "2022-07-14T16:46:21.538973Z"
    },
    "papermill": {
     "duration": 0.168909,
     "end_time": "2022-07-14T16:46:21.542728",
     "exception": false,
     "start_time": "2022-07-14T16:46:21.373819",
     "status": "completed"
    },
    "tags": []
   },
   "outputs": [
    {
     "data": {
      "application/javascript": [
       "parent.postMessage({\"jupyterEvent\": \"custom.exercise_interaction\", \"data\": {\"outcomeType\": 1, \"valueTowardsCompletion\": 0.14285714285714285, \"interactionType\": 1, \"questionType\": 1, \"questionId\": \"6_DescriptorCounts\", \"learnToolsVersion\": \"0.3.4\", \"failureMessage\": \"\", \"exceptionClass\": \"\", \"trace\": \"\"}}, \"*\")"
      ],
      "text/plain": [
       "<IPython.core.display.Javascript object>"
      ]
     },
     "metadata": {},
     "output_type": "display_data"
    },
    {
     "data": {
      "text/markdown": [
       "<span style=\"color:#33cc33\">Correct</span>"
      ],
      "text/plain": [
       "Correct"
      ]
     },
     "metadata": {},
     "output_type": "display_data"
    }
   ],
   "source": [
    "descriptor_counts = n_trop = reviews.description.map(lambda desc: \"tropical\" in desc).sum()\n",
    "n_fruity = reviews.description.map(lambda desc: \"fruity\" in desc).sum()\n",
    "descriptor_counts = pd.Series([n_trop, n_fruity], index=['tropical', 'fruity'])\n",
    "\n",
    "# Check your answer\n",
    "q6.check()"
   ]
  },
  {
   "cell_type": "code",
   "execution_count": 13,
   "id": "e387eb96",
   "metadata": {
    "execution": {
     "iopub.execute_input": "2022-07-14T16:46:21.563766Z",
     "iopub.status.busy": "2022-07-14T16:46:21.563085Z",
     "iopub.status.idle": "2022-07-14T16:46:21.567577Z",
     "shell.execute_reply": "2022-07-14T16:46:21.566522Z"
    },
    "papermill": {
     "duration": 0.017943,
     "end_time": "2022-07-14T16:46:21.570180",
     "exception": false,
     "start_time": "2022-07-14T16:46:21.552237",
     "status": "completed"
    },
    "tags": []
   },
   "outputs": [],
   "source": [
    "#q6.hint()\n",
    "#q6.solution()"
   ]
  },
  {
   "cell_type": "markdown",
   "id": "af789dbe",
   "metadata": {
    "papermill": {
     "duration": 0.009315,
     "end_time": "2022-07-14T16:46:21.589096",
     "exception": false,
     "start_time": "2022-07-14T16:46:21.579781",
     "status": "completed"
    },
    "tags": []
   },
   "source": [
    "## 7.\n",
    "We'd like to host these wine reviews on our website, but a rating system ranging from 80 to 100 points is too hard to understand - we'd like to translate them into simple star ratings. A score of 95 or higher counts as 3 stars, a score of at least 85 but less than 95 is 2 stars. Any other score is 1 star.\n",
    "\n",
    "Also, the Canadian Vintners Association bought a lot of ads on the site, so any wines from Canada should automatically get 3 stars, regardless of points.\n",
    "\n",
    "Create a series `star_ratings` with the number of stars corresponding to each review in the dataset."
   ]
  },
  {
   "cell_type": "code",
   "execution_count": 14,
   "id": "6ca96bd7",
   "metadata": {
    "execution": {
     "iopub.execute_input": "2022-07-14T16:46:21.610469Z",
     "iopub.status.busy": "2022-07-14T16:46:21.609797Z",
     "iopub.status.idle": "2022-07-14T16:46:26.659639Z",
     "shell.execute_reply": "2022-07-14T16:46:26.658798Z"
    },
    "papermill": {
     "duration": 5.062972,
     "end_time": "2022-07-14T16:46:26.661770",
     "exception": false,
     "start_time": "2022-07-14T16:46:21.598798",
     "status": "completed"
    },
    "tags": []
   },
   "outputs": [
    {
     "data": {
      "application/javascript": [
       "parent.postMessage({\"jupyterEvent\": \"custom.exercise_interaction\", \"data\": {\"outcomeType\": 1, \"valueTowardsCompletion\": 0.14285714285714285, \"interactionType\": 1, \"questionType\": 1, \"questionId\": \"7_StarRatings\", \"learnToolsVersion\": \"0.3.4\", \"failureMessage\": \"\", \"exceptionClass\": \"\", \"trace\": \"\"}}, \"*\")"
      ],
      "text/plain": [
       "<IPython.core.display.Javascript object>"
      ]
     },
     "metadata": {},
     "output_type": "display_data"
    },
    {
     "data": {
      "text/markdown": [
       "<span style=\"color:#33cc33\">Correct</span>"
      ],
      "text/plain": [
       "Correct"
      ]
     },
     "metadata": {},
     "output_type": "display_data"
    }
   ],
   "source": [
    "def stars(row):\n",
    "    if row.country == 'Canada':\n",
    "        return 3\n",
    "    elif row.points >= 95:\n",
    "        return 3\n",
    "    elif row.points >= 85:\n",
    "        return 2\n",
    "    else:\n",
    "        return 1\n",
    "star_ratings = reviews.apply(stars, axis='columns')\n",
    "\n",
    "# Check your answer\n",
    "q7.check()"
   ]
  },
  {
   "cell_type": "code",
   "execution_count": 15,
   "id": "18cf65f4",
   "metadata": {
    "execution": {
     "iopub.execute_input": "2022-07-14T16:46:26.683224Z",
     "iopub.status.busy": "2022-07-14T16:46:26.682477Z",
     "iopub.status.idle": "2022-07-14T16:46:26.686810Z",
     "shell.execute_reply": "2022-07-14T16:46:26.685572Z"
    },
    "papermill": {
     "duration": 0.018295,
     "end_time": "2022-07-14T16:46:26.689403",
     "exception": false,
     "start_time": "2022-07-14T16:46:26.671108",
     "status": "completed"
    },
    "tags": []
   },
   "outputs": [],
   "source": [
    "#q7.hint()\n",
    "#q7.solution()"
   ]
  },
  {
   "cell_type": "markdown",
   "id": "e1a75b1b",
   "metadata": {
    "papermill": {
     "duration": 0.009085,
     "end_time": "2022-07-14T16:46:26.707797",
     "exception": false,
     "start_time": "2022-07-14T16:46:26.698712",
     "status": "completed"
    },
    "tags": []
   },
   "source": [
    "# Keep going\n",
    "Continue to **[grouping and sorting](https://www.kaggle.com/residentmario/grouping-and-sorting)**."
   ]
  },
  {
   "cell_type": "markdown",
   "id": "1c1e5f38",
   "metadata": {
    "papermill": {
     "duration": 0.010016,
     "end_time": "2022-07-14T16:46:26.727178",
     "exception": false,
     "start_time": "2022-07-14T16:46:26.717162",
     "status": "completed"
    },
    "tags": []
   },
   "source": [
    "---\n",
    "\n",
    "\n",
    "\n",
    "\n",
    "*Have questions or comments? Visit the [course discussion forum](https://www.kaggle.com/learn/pandas/discussion) to chat with other learners.*"
   ]
  }
 ],
 "metadata": {
  "kernelspec": {
   "display_name": "Python 3",
   "language": "python",
   "name": "python3"
  },
  "language_info": {
   "codemirror_mode": {
    "name": "ipython",
    "version": 3
   },
   "file_extension": ".py",
   "mimetype": "text/x-python",
   "name": "python",
   "nbconvert_exporter": "python",
   "pygments_lexer": "ipython3",
   "version": "3.7.12"
  },
  "papermill": {
   "default_parameters": {},
   "duration": 26.347088,
   "end_time": "2022-07-14T16:46:27.662099",
   "environment_variables": {},
   "exception": null,
   "input_path": "__notebook__.ipynb",
   "output_path": "__notebook__.ipynb",
   "parameters": {},
   "start_time": "2022-07-14T16:46:01.315011",
   "version": "2.3.4"
  }
 },
 "nbformat": 4,
 "nbformat_minor": 5
}
