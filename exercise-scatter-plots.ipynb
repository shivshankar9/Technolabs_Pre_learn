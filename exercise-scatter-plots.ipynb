{
 "cells": [
  {
   "cell_type": "markdown",
   "id": "e5e5e67e",
   "metadata": {
    "papermill": {
     "duration": 0.011587,
     "end_time": "2022-07-13T17:37:04.009847",
     "exception": false,
     "start_time": "2022-07-13T17:37:03.998260",
     "status": "completed"
    },
    "tags": []
   },
   "source": [
    "**This notebook is an exercise in the [Data Visualization](https://www.kaggle.com/learn/data-visualization) course.  You can reference the tutorial at [this link](https://www.kaggle.com/alexisbcook/scatter-plots).**\n",
    "\n",
    "---\n"
   ]
  },
  {
   "cell_type": "markdown",
   "id": "e291da3c",
   "metadata": {
    "papermill": {
     "duration": 0.010301,
     "end_time": "2022-07-13T17:37:04.030675",
     "exception": false,
     "start_time": "2022-07-13T17:37:04.020374",
     "status": "completed"
    },
    "tags": []
   },
   "source": [
    "In this exercise, you will use your new knowledge to propose a solution to a real-world scenario.  To succeed, you will need to import data into Python, answer questions using the data, and generate **scatter plots** to understand patterns in the data.\n",
    "\n",
    "## Scenario\n",
    "\n",
    "You work for a major candy producer, and your goal is to write a report that your company can use to guide the design of its next product.  Soon after starting your research, you stumble across this [very interesting dataset](https://fivethirtyeight.com/features/the-ultimate-halloween-candy-power-ranking/) containing results from a fun survey to crowdsource favorite candies.\n",
    "\n",
    "## Setup\n",
    "\n",
    "Run the next cell to import and configure the Python libraries that you need to complete the exercise."
   ]
  },
  {
   "cell_type": "code",
   "execution_count": 1,
   "id": "e13b5ef5",
   "metadata": {
    "execution": {
     "iopub.execute_input": "2022-07-13T17:37:04.054058Z",
     "iopub.status.busy": "2022-07-13T17:37:04.053342Z",
     "iopub.status.idle": "2022-07-13T17:37:05.145885Z",
     "shell.execute_reply": "2022-07-13T17:37:05.144348Z"
    },
    "papermill": {
     "duration": 1.107997,
     "end_time": "2022-07-13T17:37:05.149209",
     "exception": false,
     "start_time": "2022-07-13T17:37:04.041212",
     "status": "completed"
    },
    "tags": []
   },
   "outputs": [
    {
     "name": "stdout",
     "output_type": "stream",
     "text": [
      "Setup Complete\n"
     ]
    }
   ],
   "source": [
    "import pandas as pd\n",
    "pd.plotting.register_matplotlib_converters()\n",
    "import matplotlib.pyplot as plt\n",
    "%matplotlib inline\n",
    "import seaborn as sns\n",
    "print(\"Setup Complete\")"
   ]
  },
  {
   "cell_type": "markdown",
   "id": "0f5600e4",
   "metadata": {
    "papermill": {
     "duration": 0.010372,
     "end_time": "2022-07-13T17:37:05.170555",
     "exception": false,
     "start_time": "2022-07-13T17:37:05.160183",
     "status": "completed"
    },
    "tags": []
   },
   "source": [
    "The questions below will give you feedback on your work. Run the following cell to set up our feedback system."
   ]
  },
  {
   "cell_type": "code",
   "execution_count": 2,
   "id": "f903f36c",
   "metadata": {
    "execution": {
     "iopub.execute_input": "2022-07-13T17:37:05.194423Z",
     "iopub.status.busy": "2022-07-13T17:37:05.193574Z",
     "iopub.status.idle": "2022-07-13T17:37:05.258567Z",
     "shell.execute_reply": "2022-07-13T17:37:05.257308Z"
    },
    "papermill": {
     "duration": 0.07979,
     "end_time": "2022-07-13T17:37:05.261040",
     "exception": false,
     "start_time": "2022-07-13T17:37:05.181250",
     "status": "completed"
    },
    "tags": []
   },
   "outputs": [
    {
     "name": "stdout",
     "output_type": "stream",
     "text": [
      "Setup Complete\n"
     ]
    }
   ],
   "source": [
    "# Set up code checking\n",
    "import os\n",
    "if not os.path.exists(\"../input/candy.csv\"):\n",
    "    os.symlink(\"../input/data-for-datavis/candy.csv\", \"../input/candy.csv\") \n",
    "from learntools.core import binder\n",
    "binder.bind(globals())\n",
    "from learntools.data_viz_to_coder.ex4 import *\n",
    "print(\"Setup Complete\")"
   ]
  },
  {
   "cell_type": "markdown",
   "id": "6f35e328",
   "metadata": {
    "papermill": {
     "duration": 0.010301,
     "end_time": "2022-07-13T17:37:05.282033",
     "exception": false,
     "start_time": "2022-07-13T17:37:05.271732",
     "status": "completed"
    },
    "tags": []
   },
   "source": [
    "## Step 1: Load the Data\n",
    "\n",
    "Read the candy data file into `candy_data`.  Use the `\"id\"` column to label the rows."
   ]
  },
  {
   "cell_type": "code",
   "execution_count": 3,
   "id": "34ac489c",
   "metadata": {
    "execution": {
     "iopub.execute_input": "2022-07-13T17:37:05.306220Z",
     "iopub.status.busy": "2022-07-13T17:37:05.305406Z",
     "iopub.status.idle": "2022-07-13T17:37:05.323961Z",
     "shell.execute_reply": "2022-07-13T17:37:05.322810Z"
    },
    "papermill": {
     "duration": 0.033203,
     "end_time": "2022-07-13T17:37:05.326470",
     "exception": false,
     "start_time": "2022-07-13T17:37:05.293267",
     "status": "completed"
    },
    "tags": []
   },
   "outputs": [
    {
     "data": {
      "application/javascript": [
       "parent.postMessage({\"jupyterEvent\": \"custom.exercise_interaction\", \"data\": {\"outcomeType\": 1, \"valueTowardsCompletion\": 0.3333333333333333, \"interactionType\": 1, \"questionType\": 1, \"questionId\": \"1_LoadData\", \"learnToolsVersion\": \"0.3.4\", \"failureMessage\": \"\", \"exceptionClass\": \"\", \"trace\": \"\"}}, \"*\")"
      ],
      "text/plain": [
       "<IPython.core.display.Javascript object>"
      ]
     },
     "metadata": {},
     "output_type": "display_data"
    },
    {
     "data": {
      "text/markdown": [
       "<span style=\"color:#33cc33\">Correct</span>"
      ],
      "text/plain": [
       "Correct"
      ]
     },
     "metadata": {},
     "output_type": "display_data"
    }
   ],
   "source": [
    "# Path of the file to read\n",
    "candy_filepath = \"../input/candy.csv\"\n",
    "\n",
    "# Fill in the line below to read the file into a variable candy_data\n",
    "candy_data = pd.read_csv(candy_filepath, index_col=\"id\")\n",
    "\n",
    "# Run the line below with no changes to check that you've loaded the data correctly\n",
    "step_1.check()"
   ]
  },
  {
   "cell_type": "code",
   "execution_count": 4,
   "id": "77e3b71a",
   "metadata": {
    "execution": {
     "iopub.execute_input": "2022-07-13T17:37:05.351177Z",
     "iopub.status.busy": "2022-07-13T17:37:05.350374Z",
     "iopub.status.idle": "2022-07-13T17:37:05.355523Z",
     "shell.execute_reply": "2022-07-13T17:37:05.354539Z"
    },
    "papermill": {
     "duration": 0.020411,
     "end_time": "2022-07-13T17:37:05.357961",
     "exception": false,
     "start_time": "2022-07-13T17:37:05.337550",
     "status": "completed"
    },
    "tags": []
   },
   "outputs": [],
   "source": [
    "# Lines below will give you a hint or solution code\n",
    "#step_1.hint()\n",
    "#step_1.solution()"
   ]
  },
  {
   "cell_type": "markdown",
   "id": "4220b3f0",
   "metadata": {
    "papermill": {
     "duration": 0.010374,
     "end_time": "2022-07-13T17:37:05.379866",
     "exception": false,
     "start_time": "2022-07-13T17:37:05.369492",
     "status": "completed"
    },
    "tags": []
   },
   "source": [
    "## Step 2: Review the data\n",
    "\n",
    "Use a Python command to print the first five rows of the data."
   ]
  },
  {
   "cell_type": "code",
   "execution_count": 5,
   "id": "bedd66c6",
   "metadata": {
    "execution": {
     "iopub.execute_input": "2022-07-13T17:37:05.403913Z",
     "iopub.status.busy": "2022-07-13T17:37:05.403091Z",
     "iopub.status.idle": "2022-07-13T17:37:05.427542Z",
     "shell.execute_reply": "2022-07-13T17:37:05.426180Z"
    },
    "papermill": {
     "duration": 0.039288,
     "end_time": "2022-07-13T17:37:05.429992",
     "exception": false,
     "start_time": "2022-07-13T17:37:05.390704",
     "status": "completed"
    },
    "tags": []
   },
   "outputs": [
    {
     "data": {
      "text/html": [
       "<div>\n",
       "<style scoped>\n",
       "    .dataframe tbody tr th:only-of-type {\n",
       "        vertical-align: middle;\n",
       "    }\n",
       "\n",
       "    .dataframe tbody tr th {\n",
       "        vertical-align: top;\n",
       "    }\n",
       "\n",
       "    .dataframe thead th {\n",
       "        text-align: right;\n",
       "    }\n",
       "</style>\n",
       "<table border=\"1\" class=\"dataframe\">\n",
       "  <thead>\n",
       "    <tr style=\"text-align: right;\">\n",
       "      <th></th>\n",
       "      <th>competitorname</th>\n",
       "      <th>chocolate</th>\n",
       "      <th>fruity</th>\n",
       "      <th>caramel</th>\n",
       "      <th>peanutyalmondy</th>\n",
       "      <th>nougat</th>\n",
       "      <th>crispedricewafer</th>\n",
       "      <th>hard</th>\n",
       "      <th>bar</th>\n",
       "      <th>pluribus</th>\n",
       "      <th>sugarpercent</th>\n",
       "      <th>pricepercent</th>\n",
       "      <th>winpercent</th>\n",
       "    </tr>\n",
       "    <tr>\n",
       "      <th>id</th>\n",
       "      <th></th>\n",
       "      <th></th>\n",
       "      <th></th>\n",
       "      <th></th>\n",
       "      <th></th>\n",
       "      <th></th>\n",
       "      <th></th>\n",
       "      <th></th>\n",
       "      <th></th>\n",
       "      <th></th>\n",
       "      <th></th>\n",
       "      <th></th>\n",
       "      <th></th>\n",
       "    </tr>\n",
       "  </thead>\n",
       "  <tbody>\n",
       "    <tr>\n",
       "      <th>0</th>\n",
       "      <td>100 Grand</td>\n",
       "      <td>Yes</td>\n",
       "      <td>No</td>\n",
       "      <td>Yes</td>\n",
       "      <td>No</td>\n",
       "      <td>No</td>\n",
       "      <td>Yes</td>\n",
       "      <td>No</td>\n",
       "      <td>Yes</td>\n",
       "      <td>No</td>\n",
       "      <td>0.732</td>\n",
       "      <td>0.860</td>\n",
       "      <td>66.971725</td>\n",
       "    </tr>\n",
       "    <tr>\n",
       "      <th>1</th>\n",
       "      <td>3 Musketeers</td>\n",
       "      <td>Yes</td>\n",
       "      <td>No</td>\n",
       "      <td>No</td>\n",
       "      <td>No</td>\n",
       "      <td>Yes</td>\n",
       "      <td>No</td>\n",
       "      <td>No</td>\n",
       "      <td>Yes</td>\n",
       "      <td>No</td>\n",
       "      <td>0.604</td>\n",
       "      <td>0.511</td>\n",
       "      <td>67.602936</td>\n",
       "    </tr>\n",
       "    <tr>\n",
       "      <th>2</th>\n",
       "      <td>Air Heads</td>\n",
       "      <td>No</td>\n",
       "      <td>Yes</td>\n",
       "      <td>No</td>\n",
       "      <td>No</td>\n",
       "      <td>No</td>\n",
       "      <td>No</td>\n",
       "      <td>No</td>\n",
       "      <td>No</td>\n",
       "      <td>No</td>\n",
       "      <td>0.906</td>\n",
       "      <td>0.511</td>\n",
       "      <td>52.341465</td>\n",
       "    </tr>\n",
       "    <tr>\n",
       "      <th>3</th>\n",
       "      <td>Almond Joy</td>\n",
       "      <td>Yes</td>\n",
       "      <td>No</td>\n",
       "      <td>No</td>\n",
       "      <td>Yes</td>\n",
       "      <td>No</td>\n",
       "      <td>No</td>\n",
       "      <td>No</td>\n",
       "      <td>Yes</td>\n",
       "      <td>No</td>\n",
       "      <td>0.465</td>\n",
       "      <td>0.767</td>\n",
       "      <td>50.347546</td>\n",
       "    </tr>\n",
       "    <tr>\n",
       "      <th>4</th>\n",
       "      <td>Baby Ruth</td>\n",
       "      <td>Yes</td>\n",
       "      <td>No</td>\n",
       "      <td>Yes</td>\n",
       "      <td>Yes</td>\n",
       "      <td>Yes</td>\n",
       "      <td>No</td>\n",
       "      <td>No</td>\n",
       "      <td>Yes</td>\n",
       "      <td>No</td>\n",
       "      <td>0.604</td>\n",
       "      <td>0.767</td>\n",
       "      <td>56.914547</td>\n",
       "    </tr>\n",
       "  </tbody>\n",
       "</table>\n",
       "</div>"
      ],
      "text/plain": [
       "   competitorname chocolate fruity caramel peanutyalmondy nougat  \\\n",
       "id                                                                 \n",
       "0       100 Grand       Yes     No     Yes             No     No   \n",
       "1    3 Musketeers       Yes     No      No             No    Yes   \n",
       "2       Air Heads        No    Yes      No             No     No   \n",
       "3      Almond Joy       Yes     No      No            Yes     No   \n",
       "4       Baby Ruth       Yes     No     Yes            Yes    Yes   \n",
       "\n",
       "   crispedricewafer hard  bar pluribus  sugarpercent  pricepercent  winpercent  \n",
       "id                                                                              \n",
       "0               Yes   No  Yes       No         0.732         0.860   66.971725  \n",
       "1                No   No  Yes       No         0.604         0.511   67.602936  \n",
       "2                No   No   No       No         0.906         0.511   52.341465  \n",
       "3                No   No  Yes       No         0.465         0.767   50.347546  \n",
       "4                No   No  Yes       No         0.604         0.767   56.914547  "
      ]
     },
     "execution_count": 5,
     "metadata": {},
     "output_type": "execute_result"
    }
   ],
   "source": [
    "# Print the first five rows of the data\n",
    "candy_data.head()# Your code here"
   ]
  },
  {
   "cell_type": "markdown",
   "id": "89829546",
   "metadata": {
    "papermill": {
     "duration": 0.010575,
     "end_time": "2022-07-13T17:37:05.451854",
     "exception": false,
     "start_time": "2022-07-13T17:37:05.441279",
     "status": "completed"
    },
    "tags": []
   },
   "source": [
    "The dataset contains 83 rows, where each corresponds to a different candy bar.  There are 13 columns:\n",
    "- `'competitorname'` contains the name of the candy bar. \n",
    "- the next **9** columns (from `'chocolate'` to `'pluribus'`) describe the candy.  For instance, rows with chocolate candies have `\"Yes\"` in the `'chocolate'` column (and candies without chocolate have `\"No\"` in the same column).\n",
    "- `'sugarpercent'` provides some indication of the amount of sugar, where higher values signify higher sugar content.\n",
    "- `'pricepercent'` shows the price per unit, relative to the other candies in the dataset.\n",
    "- `'winpercent'` is calculated from the survey results; higher values indicate that the candy was more popular with survey respondents.\n",
    "\n",
    "Use the first five rows of the data to answer the questions below."
   ]
  },
  {
   "cell_type": "code",
   "execution_count": 6,
   "id": "8a60aaad",
   "metadata": {
    "execution": {
     "iopub.execute_input": "2022-07-13T17:37:05.476427Z",
     "iopub.status.busy": "2022-07-13T17:37:05.475607Z",
     "iopub.status.idle": "2022-07-13T17:37:05.486090Z",
     "shell.execute_reply": "2022-07-13T17:37:05.485221Z"
    },
    "papermill": {
     "duration": 0.025515,
     "end_time": "2022-07-13T17:37:05.488498",
     "exception": false,
     "start_time": "2022-07-13T17:37:05.462983",
     "status": "completed"
    },
    "tags": []
   },
   "outputs": [
    {
     "data": {
      "application/javascript": [
       "parent.postMessage({\"jupyterEvent\": \"custom.exercise_interaction\", \"data\": {\"outcomeType\": 1, \"valueTowardsCompletion\": 0.3333333333333333, \"interactionType\": 1, \"questionType\": 1, \"questionId\": \"2_ReviewData\", \"learnToolsVersion\": \"0.3.4\", \"failureMessage\": \"\", \"exceptionClass\": \"\", \"trace\": \"\"}}, \"*\")"
      ],
      "text/plain": [
       "<IPython.core.display.Javascript object>"
      ]
     },
     "metadata": {},
     "output_type": "display_data"
    },
    {
     "data": {
      "text/markdown": [
       "<span style=\"color:#33cc33\">Correct</span>"
      ],
      "text/plain": [
       "Correct"
      ]
     },
     "metadata": {},
     "output_type": "display_data"
    }
   ],
   "source": [
    "# Fill in the line below: Which candy was more popular with survey respondents:\n",
    "# '3 Musketeers' or 'Almond Joy'?  (Please enclose your answer in single quotes.)\n",
    "more_popular = \"3 Musketeers\"\n",
    "\n",
    "# Fill in the line below: Which candy has higher sugar content: 'Air Heads'\n",
    "# or 'Baby Ruth'? (Please enclose your answer in single quotes.)\n",
    "more_sugar = \"Air Heads\"\n",
    "\n",
    "# Check your answers\n",
    "step_2.check()"
   ]
  },
  {
   "cell_type": "code",
   "execution_count": 7,
   "id": "b6ec28b2",
   "metadata": {
    "execution": {
     "iopub.execute_input": "2022-07-13T17:37:05.513937Z",
     "iopub.status.busy": "2022-07-13T17:37:05.513136Z",
     "iopub.status.idle": "2022-07-13T17:37:05.518128Z",
     "shell.execute_reply": "2022-07-13T17:37:05.517240Z"
    },
    "papermill": {
     "duration": 0.020611,
     "end_time": "2022-07-13T17:37:05.520598",
     "exception": false,
     "start_time": "2022-07-13T17:37:05.499987",
     "status": "completed"
    },
    "tags": []
   },
   "outputs": [],
   "source": [
    "# Lines below will give you a hint or solution code\n",
    "#step_2.hint()\n",
    "#step_2.solution()"
   ]
  },
  {
   "cell_type": "markdown",
   "id": "9277fca8",
   "metadata": {
    "papermill": {
     "duration": 0.01168,
     "end_time": "2022-07-13T17:37:05.543860",
     "exception": false,
     "start_time": "2022-07-13T17:37:05.532180",
     "status": "completed"
    },
    "tags": []
   },
   "source": [
    "## Step 3: The role of sugar\n",
    "\n",
    "Do people tend to prefer candies with higher sugar content?  \n",
    "\n",
    "#### Part A\n",
    "\n",
    "Create a scatter plot that shows the relationship between `'sugarpercent'` (on the horizontal x-axis) and `'winpercent'` (on the vertical y-axis).  _Don't add a regression line just yet -- you'll do that in the next step!_"
   ]
  },
  {
   "cell_type": "code",
   "execution_count": 8,
   "id": "4166d499",
   "metadata": {
    "execution": {
     "iopub.execute_input": "2022-07-13T17:37:05.570361Z",
     "iopub.status.busy": "2022-07-13T17:37:05.569562Z",
     "iopub.status.idle": "2022-07-13T17:37:05.815850Z",
     "shell.execute_reply": "2022-07-13T17:37:05.814519Z"
    },
    "papermill": {
     "duration": 0.262707,
     "end_time": "2022-07-13T17:37:05.818407",
     "exception": false,
     "start_time": "2022-07-13T17:37:05.555700",
     "status": "completed"
    },
    "tags": []
   },
   "outputs": [
    {
     "data": {
      "application/javascript": [
       "parent.postMessage({\"jupyterEvent\": \"custom.exercise_interaction\", \"data\": {\"outcomeType\": 1, \"valueTowardsCompletion\": 0.3333333333333333, \"interactionType\": 1, \"questionType\": 2, \"questionId\": \"3.1_PlotBlueScatter\", \"learnToolsVersion\": \"0.3.4\", \"failureMessage\": \"\", \"exceptionClass\": \"\", \"trace\": \"\"}}, \"*\")"
      ],
      "text/plain": [
       "<IPython.core.display.Javascript object>"
      ]
     },
     "metadata": {},
     "output_type": "display_data"
    },
    {
     "data": {
      "text/markdown": [
       "<span style=\"color:#33cc33\">Correct</span>"
      ],
      "text/plain": [
       "Correct"
      ]
     },
     "metadata": {},
     "output_type": "display_data"
    },
    {
     "data": {
      "image/png": "[encoded data removed]",
      "text/plain": [
       "<Figure size 432x288 with 1 Axes>"
      ]
     },
     "metadata": {
      "needs_background": "light"
     },
     "output_type": "display_data"
    }
   ],
   "source": [
    "# Scatter plot showing the relationship between 'sugarpercent' and 'winpercent'\n",
    " # Your code here\n",
    "sns.scatterplot(x=candy_data['sugarpercent'],y=candy_data['winpercent'])\n",
    "# Check your answer\n",
    "step_3.a.check()"
   ]
  },
  {
   "cell_type": "code",
   "execution_count": 9,
   "id": "51996c6a",
   "metadata": {
    "execution": {
     "iopub.execute_input": "2022-07-13T17:37:05.844778Z",
     "iopub.status.busy": "2022-07-13T17:37:05.844371Z",
     "iopub.status.idle": "2022-07-13T17:37:05.849756Z",
     "shell.execute_reply": "2022-07-13T17:37:05.848449Z"
    },
    "papermill": {
     "duration": 0.02162,
     "end_time": "2022-07-13T17:37:05.852231",
     "exception": false,
     "start_time": "2022-07-13T17:37:05.830611",
     "status": "completed"
    },
    "tags": []
   },
   "outputs": [],
   "source": [
    "# Lines below will give you a hint or solution code\n",
    "#step_3.a.hint()\n",
    "#step_3.a.solution_plot()"
   ]
  },
  {
   "cell_type": "markdown",
   "id": "773996f2",
   "metadata": {
    "papermill": {
     "duration": 0.011271,
     "end_time": "2022-07-13T17:37:05.875446",
     "exception": false,
     "start_time": "2022-07-13T17:37:05.864175",
     "status": "completed"
    },
    "tags": []
   },
   "source": [
    "#### Part B\n",
    "\n",
    "Does the scatter plot show a **strong** correlation between the two variables?  If so, are candies with more sugar relatively more or less popular with the survey respondents?"
   ]
  },
  {
   "cell_type": "code",
   "execution_count": 10,
   "id": "ebc440a8",
   "metadata": {
    "execution": {
     "iopub.execute_input": "2022-07-13T17:37:05.901086Z",
     "iopub.status.busy": "2022-07-13T17:37:05.899915Z",
     "iopub.status.idle": "2022-07-13T17:37:05.905352Z",
     "shell.execute_reply": "2022-07-13T17:37:05.904541Z"
    },
    "papermill": {
     "duration": 0.020677,
     "end_time": "2022-07-13T17:37:05.907714",
     "exception": false,
     "start_time": "2022-07-13T17:37:05.887037",
     "status": "completed"
    },
    "tags": []
   },
   "outputs": [],
   "source": [
    "#step_3.b.hint()"
   ]
  },
  {
   "cell_type": "markdown",
   "id": "b7c8727a",
   "metadata": {
    "papermill": {
     "duration": 0.011582,
     "end_time": "2022-07-13T17:37:05.931097",
     "exception": false,
     "start_time": "2022-07-13T17:37:05.919515",
     "status": "completed"
    },
    "tags": []
   },
   "source": []
  },
  {
   "cell_type": "code",
   "execution_count": 11,
   "id": "e00f71f7",
   "metadata": {
    "execution": {
     "iopub.execute_input": "2022-07-13T17:37:05.957414Z",
     "iopub.status.busy": "2022-07-13T17:37:05.956585Z",
     "iopub.status.idle": "2022-07-13T17:37:05.961574Z",
     "shell.execute_reply": "2022-07-13T17:37:05.960694Z"
    },
    "papermill": {
     "duration": 0.020886,
     "end_time": "2022-07-13T17:37:05.963841",
     "exception": false,
     "start_time": "2022-07-13T17:37:05.942955",
     "status": "completed"
    },
    "tags": []
   },
   "outputs": [],
   "source": [
    "# Check your answer (Run this code cell to receive credit!)\n",
    "#step_3.b.solution()"
   ]
  },
  {
   "cell_type": "markdown",
   "id": "ea119b33",
   "metadata": {
    "papermill": {
     "duration": 0.011481,
     "end_time": "2022-07-13T17:37:05.987074",
     "exception": false,
     "start_time": "2022-07-13T17:37:05.975593",
     "status": "completed"
    },
    "tags": []
   },
   "source": [
    "## Step 4: Take a closer look\n",
    "\n",
    "#### Part A\n",
    "\n",
    "Create the same scatter plot you created in **Step 3**, but now with a regression line!"
   ]
  },
  {
   "cell_type": "code",
   "execution_count": 12,
   "id": "32cab145",
   "metadata": {
    "execution": {
     "iopub.execute_input": "2022-07-13T17:37:06.012962Z",
     "iopub.status.busy": "2022-07-13T17:37:06.012193Z",
     "iopub.status.idle": "2022-07-13T17:37:06.336464Z",
     "shell.execute_reply": "2022-07-13T17:37:06.335330Z"
    },
    "papermill": {
     "duration": 0.340302,
     "end_time": "2022-07-13T17:37:06.339128",
     "exception": false,
     "start_time": "2022-07-13T17:37:05.998826",
     "status": "completed"
    },
    "tags": []
   },
   "outputs": [
    {
     "data": {
      "application/javascript": [
       "parent.postMessage({\"jupyterEvent\": \"custom.exercise_interaction\", \"data\": {\"outcomeType\": 1, \"valueTowardsCompletion\": 0.3333333333333333, \"interactionType\": 1, \"questionType\": 2, \"questionId\": \"4.1_PlotBlueReg\", \"learnToolsVersion\": \"0.3.4\", \"failureMessage\": \"\", \"exceptionClass\": \"\", \"trace\": \"\"}}, \"*\")"
      ],
      "text/plain": [
       "<IPython.core.display.Javascript object>"
      ]
     },
     "metadata": {},
     "output_type": "display_data"
    },
    {
     "data": {
      "text/markdown": [
       "<span style=\"color:#33cc33\">Correct</span>"
      ],
      "text/plain": [
       "Correct"
      ]
     },
     "metadata": {},
     "output_type": "display_data"
    },
    {
     "data": {
      "image/png": "[encoded data removed]",
      "text/plain": [
       "<Figure size 432x288 with 1 Axes>"
      ]
     },
     "metadata": {
      "needs_background": "light"
     },
     "output_type": "display_data"
    }
   ],
   "source": [
    "# Scatter plot w/ regression line showing the relationship between 'sugarpercent' and 'winpercent'\n",
    " # Your code here\n",
    "sns.regplot(x=candy_data[\"sugarpercent\"],y=candy_data[\"winpercent\"])\n",
    "\n",
    "# Check your answer\n",
    "step_4.a.check()"
   ]
  },
  {
   "cell_type": "code",
   "execution_count": 13,
   "id": "56e2b4de",
   "metadata": {
    "execution": {
     "iopub.execute_input": "2022-07-13T17:37:06.366556Z",
     "iopub.status.busy": "2022-07-13T17:37:06.365462Z",
     "iopub.status.idle": "2022-07-13T17:37:06.370684Z",
     "shell.execute_reply": "2022-07-13T17:37:06.369864Z"
    },
    "papermill": {
     "duration": 0.02134,
     "end_time": "2022-07-13T17:37:06.373367",
     "exception": false,
     "start_time": "2022-07-13T17:37:06.352027",
     "status": "completed"
    },
    "tags": []
   },
   "outputs": [],
   "source": [
    "# Lines below will give you a hint or solution code\n",
    "#step_4.a.hint()\n",
    "#step_4.a.solution_plot()"
   ]
  },
  {
   "cell_type": "markdown",
   "id": "ac7197ba",
   "metadata": {
    "papermill": {
     "duration": 0.011971,
     "end_time": "2022-07-13T17:37:06.397768",
     "exception": false,
     "start_time": "2022-07-13T17:37:06.385797",
     "status": "completed"
    },
    "tags": []
   },
   "source": [
    "#### Part B\n",
    "\n",
    "According to the plot above, is there a **slight** correlation between `'winpercent'` and `'sugarpercent'`?  What does this tell you about the candy that people tend to prefer?"
   ]
  },
  {
   "cell_type": "code",
   "execution_count": 14,
   "id": "c8b15942",
   "metadata": {
    "execution": {
     "iopub.execute_input": "2022-07-13T17:37:06.424193Z",
     "iopub.status.busy": "2022-07-13T17:37:06.423776Z",
     "iopub.status.idle": "2022-07-13T17:37:06.428344Z",
     "shell.execute_reply": "2022-07-13T17:37:06.427035Z"
    },
    "papermill": {
     "duration": 0.020686,
     "end_time": "2022-07-13T17:37:06.430769",
     "exception": false,
     "start_time": "2022-07-13T17:37:06.410083",
     "status": "completed"
    },
    "tags": []
   },
   "outputs": [],
   "source": [
    "#step_4.b.hint()"
   ]
  },
  {
   "cell_type": "code",
   "execution_count": 15,
   "id": "c8fdde13",
   "metadata": {
    "execution": {
     "iopub.execute_input": "2022-07-13T17:37:06.457695Z",
     "iopub.status.busy": "2022-07-13T17:37:06.457006Z",
     "iopub.status.idle": "2022-07-13T17:37:06.461724Z",
     "shell.execute_reply": "2022-07-13T17:37:06.460911Z"
    },
    "papermill": {
     "duration": 0.020588,
     "end_time": "2022-07-13T17:37:06.463903",
     "exception": false,
     "start_time": "2022-07-13T17:37:06.443315",
     "status": "completed"
    },
    "tags": []
   },
   "outputs": [],
   "source": [
    "# Check your answer (Run this code cell to receive credit!)\n",
    "#step_4.b.solution()"
   ]
  },
  {
   "cell_type": "markdown",
   "id": "b165e2ec",
   "metadata": {
    "papermill": {
     "duration": 0.011982,
     "end_time": "2022-07-13T17:37:06.488313",
     "exception": false,
     "start_time": "2022-07-13T17:37:06.476331",
     "status": "completed"
    },
    "tags": []
   },
   "source": [
    "## Step 5: Chocolate!\n",
    "\n",
    "In the code cell below, create a scatter plot to show the relationship between `'pricepercent'` (on the horizontal x-axis) and `'winpercent'` (on the vertical y-axis). Use the `'chocolate'` column to color-code the points.  _Don't add any regression lines just yet -- you'll do that in the next step!_"
   ]
  },
  {
   "cell_type": "code",
   "execution_count": 16,
   "id": "8a31c84f",
   "metadata": {
    "execution": {
     "iopub.execute_input": "2022-07-13T17:37:06.514978Z",
     "iopub.status.busy": "2022-07-13T17:37:06.514342Z",
     "iopub.status.idle": "2022-07-13T17:37:06.775850Z",
     "shell.execute_reply": "2022-07-13T17:37:06.774571Z"
    },
    "papermill": {
     "duration": 0.278173,
     "end_time": "2022-07-13T17:37:06.778755",
     "exception": false,
     "start_time": "2022-07-13T17:37:06.500582",
     "status": "completed"
    },
    "tags": []
   },
   "outputs": [
    {
     "data": {
      "application/javascript": [
       "parent.postMessage({\"jupyterEvent\": \"custom.exercise_interaction\", \"data\": {\"outcomeType\": 1, \"valueTowardsCompletion\": 0.3333333333333333, \"interactionType\": 1, \"questionType\": 2, \"questionId\": \"5_ColorScatter\", \"learnToolsVersion\": \"0.3.4\", \"failureMessage\": \"\", \"exceptionClass\": \"\", \"trace\": \"\"}}, \"*\")"
      ],
      "text/plain": [
       "<IPython.core.display.Javascript object>"
      ]
     },
     "metadata": {},
     "output_type": "display_data"
    },
    {
     "data": {
      "text/markdown": [
       "<span style=\"color:#33cc33\">Correct</span>"
      ],
      "text/plain": [
       "Correct"
      ]
     },
     "metadata": {},
     "output_type": "display_data"
    },
    {
     "data": {
      "image/png": "[encoded data removed]",
      "text/plain": [
       "<Figure size 432x288 with 1 Axes>"
      ]
     },
     "metadata": {
      "needs_background": "light"
     },
     "output_type": "display_data"
    }
   ],
   "source": [
    "# Scatter plot showing the relationship between 'pricepercent', 'winpercent', and 'chocolate'\n",
    "sns.scatterplot(x=candy_data['pricepercent'],y=candy_data['winpercent'],hue=candy_data['chocolate']) # Your code here\n",
    "\n",
    "# Check your answer\n",
    "step_5.check()"
   ]
  },
  {
   "cell_type": "code",
   "execution_count": 17,
   "id": "97d85a80",
   "metadata": {
    "execution": {
     "iopub.execute_input": "2022-07-13T17:37:06.806888Z",
     "iopub.status.busy": "2022-07-13T17:37:06.806493Z",
     "iopub.status.idle": "2022-07-13T17:37:06.811272Z",
     "shell.execute_reply": "2022-07-13T17:37:06.809976Z"
    },
    "papermill": {
     "duration": 0.021892,
     "end_time": "2022-07-13T17:37:06.813782",
     "exception": false,
     "start_time": "2022-07-13T17:37:06.791890",
     "status": "completed"
    },
    "tags": []
   },
   "outputs": [],
   "source": [
    "# Lines below will give you a hint or solution code\n",
    "#step_5.hint()\n",
    "#step_5.solution_plot()"
   ]
  },
  {
   "cell_type": "markdown",
   "id": "98797d4c",
   "metadata": {
    "papermill": {
     "duration": 0.013202,
     "end_time": "2022-07-13T17:37:06.840530",
     "exception": false,
     "start_time": "2022-07-13T17:37:06.827328",
     "status": "completed"
    },
    "tags": []
   },
   "source": [
    "Can you see any interesting patterns in the scatter plot?  We'll investigate this plot further  by adding regression lines in the next step!\n",
    "\n",
    "## Step 6: Investigate chocolate\n",
    "\n",
    "#### Part A\n",
    "\n",
    "Create the same scatter plot you created in **Step 5**, but now with two regression lines, corresponding to (1) chocolate candies and (2) candies without chocolate."
   ]
  },
  {
   "cell_type": "code",
   "execution_count": 18,
   "id": "07c68e52",
   "metadata": {
    "execution": {
     "iopub.execute_input": "2022-07-13T17:37:06.868749Z",
     "iopub.status.busy": "2022-07-13T17:37:06.868352Z",
     "iopub.status.idle": "2022-07-13T17:37:07.665658Z",
     "shell.execute_reply": "2022-07-13T17:37:07.664219Z"
    },
    "papermill": {
     "duration": 0.814588,
     "end_time": "2022-07-13T17:37:07.668120",
     "exception": false,
     "start_time": "2022-07-13T17:37:06.853532",
     "status": "completed"
    },
    "tags": []
   },
   "outputs": [
    {
     "data": {
      "application/javascript": [
       "parent.postMessage({\"jupyterEvent\": \"custom.exercise_interaction\", \"data\": {\"outcomeType\": 1, \"valueTowardsCompletion\": 0.3333333333333333, \"interactionType\": 1, \"questionType\": 2, \"questionId\": \"6.1_PlotColorReg\", \"learnToolsVersion\": \"0.3.4\", \"failureMessage\": \"\", \"exceptionClass\": \"\", \"trace\": \"\"}}, \"*\")"
      ],
      "text/plain": [
       "<IPython.core.display.Javascript object>"
      ]
     },
     "metadata": {},
     "output_type": "display_data"
    },
    {
     "data": {
      "text/markdown": [
       "<span style=\"color:#33cc33\">Correct</span>"
      ],
      "text/plain": [
       "Correct"
      ]
     },
     "metadata": {},
     "output_type": "display_data"
    },
    {
     "data": {
      "image/png": "[encoded data removed]",
      "text/plain": [
       "<Figure size 416.375x360 with 1 Axes>"
      ]
     },
     "metadata": {
      "needs_background": "light"
     },
     "output_type": "display_data"
    }
   ],
   "source": [
    "# Color-coded scatter plot w/ regression lines\n",
    "# Your code here\n",
    "sns.lmplot(x=\"pricepercent\", y=\"winpercent\", hue=\"chocolate\", data=candy_data)\n",
    "\n",
    "# Check your answer\n",
    "step_6.a.check()"
   ]
  },
  {
   "cell_type": "code",
   "execution_count": 19,
   "id": "215ed155",
   "metadata": {
    "execution": {
     "iopub.execute_input": "2022-07-13T17:37:07.699007Z",
     "iopub.status.busy": "2022-07-13T17:37:07.697969Z",
     "iopub.status.idle": "2022-07-13T17:37:07.702140Z",
     "shell.execute_reply": "2022-07-13T17:37:07.701320Z"
    },
    "papermill": {
     "duration": 0.021945,
     "end_time": "2022-07-13T17:37:07.704299",
     "exception": false,
     "start_time": "2022-07-13T17:37:07.682354",
     "status": "completed"
    },
    "tags": []
   },
   "outputs": [],
   "source": [
    "# Lines below will give you a hint or solution code\n",
    "#step_6.a.hint()\n",
    "#step_6.a.solution_plot()"
   ]
  },
  {
   "cell_type": "markdown",
   "id": "1f9bde31",
   "metadata": {
    "papermill": {
     "duration": 0.013708,
     "end_time": "2022-07-13T17:37:07.732520",
     "exception": false,
     "start_time": "2022-07-13T17:37:07.718812",
     "status": "completed"
    },
    "tags": []
   },
   "source": [
    "#### Part B\n",
    "\n",
    "Using the regression lines, what conclusions can you draw about the effects of chocolate and price on candy popularity?"
   ]
  },
  {
   "cell_type": "code",
   "execution_count": 20,
   "id": "43af1398",
   "metadata": {
    "execution": {
     "iopub.execute_input": "2022-07-13T17:37:07.763079Z",
     "iopub.status.busy": "2022-07-13T17:37:07.762418Z",
     "iopub.status.idle": "2022-07-13T17:37:07.766445Z",
     "shell.execute_reply": "2022-07-13T17:37:07.765462Z"
    },
    "papermill": {
     "duration": 0.022244,
     "end_time": "2022-07-13T17:37:07.768669",
     "exception": false,
     "start_time": "2022-07-13T17:37:07.746425",
     "status": "completed"
    },
    "tags": []
   },
   "outputs": [],
   "source": [
    "#step_6.b.hint()"
   ]
  },
  {
   "cell_type": "code",
   "execution_count": 21,
   "id": "dc71512f",
   "metadata": {
    "execution": {
     "iopub.execute_input": "2022-07-13T17:37:07.799003Z",
     "iopub.status.busy": "2022-07-13T17:37:07.798314Z",
     "iopub.status.idle": "2022-07-13T17:37:07.805759Z",
     "shell.execute_reply": "2022-07-13T17:37:07.804921Z"
    },
    "papermill": {
     "duration": 0.025246,
     "end_time": "2022-07-13T17:37:07.807951",
     "exception": false,
     "start_time": "2022-07-13T17:37:07.782705",
     "status": "completed"
    },
    "tags": []
   },
   "outputs": [
    {
     "data": {
      "application/javascript": [
       "parent.postMessage({\"jupyterEvent\": \"custom.exercise_interaction\", \"data\": {\"interactionType\": 3, \"questionType\": 4, \"questionId\": \"6.2_ThinkColorReg\", \"learnToolsVersion\": \"0.3.4\", \"valueTowardsCompletion\": 0.0, \"failureMessage\": \"\", \"exceptionClass\": \"\", \"trace\": \"\", \"outcomeType\": 4}}, \"*\")"
      ],
      "text/plain": [
       "<IPython.core.display.Javascript object>"
      ]
     },
     "metadata": {},
     "output_type": "display_data"
    },
    {
     "data": {
      "text/markdown": [
       "<span style=\"color:#33cc99\">Solution:</span> We'll begin with the regression line for chocolate candies. Since this line has a slightly positive slope, we can say that more expensive chocolate candies tend to be more popular (than relatively cheaper chocolate candies).  Likewise, since the regression line for candies without chocolate has a negative slope, we can say that if candies don't contain chocolate, they tend to be more popular when they are cheaper.  One important note, however, is that the dataset is quite small -- so we shouldn't invest too much trust in these patterns!  To inspire more confidence in the results, we should add more candies to the dataset."
      ],
      "text/plain": [
       "Solution: We'll begin with the regression line for chocolate candies. Since this line has a slightly positive slope, we can say that more expensive chocolate candies tend to be more popular (than relatively cheaper chocolate candies).  Likewise, since the regression line for candies without chocolate has a negative slope, we can say that if candies don't contain chocolate, they tend to be more popular when they are cheaper.  One important note, however, is that the dataset is quite small -- so we shouldn't invest too much trust in these patterns!  To inspire more confidence in the results, we should add more candies to the dataset."
      ]
     },
     "metadata": {},
     "output_type": "display_data"
    }
   ],
   "source": [
    "# Check your answer (Run this code cell to receive credit!)\n",
    "step_6.b.solution()"
   ]
  },
  {
   "cell_type": "markdown",
   "id": "bd8043e2",
   "metadata": {
    "papermill": {
     "duration": 0.013678,
     "end_time": "2022-07-13T17:37:07.835940",
     "exception": false,
     "start_time": "2022-07-13T17:37:07.822262",
     "status": "completed"
    },
    "tags": []
   },
   "source": [
    "## Step 7: Everybody loves chocolate.\n",
    "\n",
    "#### Part A\n",
    "\n",
    "Create a categorical scatter plot to highlight the relationship between `'chocolate'` and `'winpercent'`.  Put `'chocolate'` on the (horizontal) x-axis, and `'winpercent'` on the (vertical) y-axis."
   ]
  },
  {
   "cell_type": "code",
   "execution_count": 22,
   "id": "42ea718b",
   "metadata": {
    "execution": {
     "iopub.execute_input": "2022-07-13T17:37:07.866200Z",
     "iopub.status.busy": "2022-07-13T17:37:07.865464Z",
     "iopub.status.idle": "2022-07-13T17:37:08.088469Z",
     "shell.execute_reply": "2022-07-13T17:37:08.087113Z"
    },
    "papermill": {
     "duration": 0.241129,
     "end_time": "2022-07-13T17:37:08.090997",
     "exception": false,
     "start_time": "2022-07-13T17:37:07.849868",
     "status": "completed"
    },
    "tags": []
   },
   "outputs": [
    {
     "data": {
      "application/javascript": [
       "parent.postMessage({\"jupyterEvent\": \"custom.exercise_interaction\", \"data\": {\"outcomeType\": 1, \"valueTowardsCompletion\": 0.3333333333333333, \"interactionType\": 1, \"questionType\": 2, \"questionId\": \"7.1_PlotSwarm\", \"learnToolsVersion\": \"0.3.4\", \"failureMessage\": \"\", \"exceptionClass\": \"\", \"trace\": \"\"}}, \"*\")"
      ],
      "text/plain": [
       "<IPython.core.display.Javascript object>"
      ]
     },
     "metadata": {},
     "output_type": "display_data"
    },
    {
     "data": {
      "text/markdown": [
       "<span style=\"color:#33cc33\">Correct</span>"
      ],
      "text/plain": [
       "Correct"
      ]
     },
     "metadata": {},
     "output_type": "display_data"
    },
    {
     "data": {
      "image/png": "[encoded data removed]",
      "text/plain": [
       "<Figure size 432x288 with 1 Axes>"
      ]
     },
     "metadata": {
      "needs_background": "light"
     },
     "output_type": "display_data"
    }
   ],
   "source": [
    "# Scatter plot showing the relationship between 'chocolate' and 'winpercent'\n",
    "____ # Your code here\n",
    "sns.swarmplot(x=candy_data['chocolate'], y=candy_data['winpercent'])\n",
    "# Check your answer\n",
    "step_7.a.check()"
   ]
  },
  {
   "cell_type": "code",
   "execution_count": 23,
   "id": "fbe83bc4",
   "metadata": {
    "execution": {
     "iopub.execute_input": "2022-07-13T17:37:08.125202Z",
     "iopub.status.busy": "2022-07-13T17:37:08.124799Z",
     "iopub.status.idle": "2022-07-13T17:37:08.129274Z",
     "shell.execute_reply": "2022-07-13T17:37:08.127991Z"
    },
    "papermill": {
     "duration": 0.02378,
     "end_time": "2022-07-13T17:37:08.131790",
     "exception": false,
     "start_time": "2022-07-13T17:37:08.108010",
     "status": "completed"
    },
    "tags": []
   },
   "outputs": [],
   "source": [
    "# Lines below will give you a hint or solution code\n",
    "#step_7.a.hint()\n",
    "#step_7.a.solution_plot()\n"
   ]
  },
  {
   "cell_type": "markdown",
   "id": "e1dbf38d",
   "metadata": {
    "papermill": {
     "duration": 0.014259,
     "end_time": "2022-07-13T17:37:08.160723",
     "exception": false,
     "start_time": "2022-07-13T17:37:08.146464",
     "status": "completed"
    },
    "tags": []
   },
   "source": [
    "#### Part B\n",
    "\n",
    "You decide to dedicate a section of your report to the fact that chocolate candies tend to be more popular than candies without chocolate.  Which plot is more appropriate to tell this story: the plot from **Step 6**, or the plot from **Step 7**?"
   ]
  },
  {
   "cell_type": "code",
   "execution_count": 24,
   "id": "f24f8d89",
   "metadata": {
    "execution": {
     "iopub.execute_input": "2022-07-13T17:37:08.192741Z",
     "iopub.status.busy": "2022-07-13T17:37:08.192009Z",
     "iopub.status.idle": "2022-07-13T17:37:08.200957Z",
     "shell.execute_reply": "2022-07-13T17:37:08.199957Z"
    },
    "papermill": {
     "duration": 0.027805,
     "end_time": "2022-07-13T17:37:08.203261",
     "exception": false,
     "start_time": "2022-07-13T17:37:08.175456",
     "status": "completed"
    },
    "tags": []
   },
   "outputs": [
    {
     "data": {
      "application/javascript": [
       "parent.postMessage({\"jupyterEvent\": \"custom.exercise_interaction\", \"data\": {\"interactionType\": 2, \"questionType\": 4, \"questionId\": \"7.2_ThinkSwarm\", \"learnToolsVersion\": \"0.3.4\", \"valueTowardsCompletion\": 0.0, \"failureMessage\": \"\", \"exceptionClass\": \"\", \"trace\": \"\", \"outcomeType\": 4}}, \"*\")"
      ],
      "text/plain": [
       "<IPython.core.display.Javascript object>"
      ]
     },
     "metadata": {},
     "output_type": "display_data"
    },
    {
     "data": {
      "text/markdown": [
       "<span style=\"color:#3366cc\">Hint:</span> Which plot communicates more information?  In general, it's good practice to use the simplest plot that tells the entire story of interest."
      ],
      "text/plain": [
       "Hint: Which plot communicates more information?  In general, it's good practice to use the simplest plot that tells the entire story of interest."
      ]
     },
     "metadata": {},
     "output_type": "display_data"
    }
   ],
   "source": [
    "step_7.b.hint()\n",
    "#step_7.b.solution()\n"
   ]
  },
  {
   "cell_type": "code",
   "execution_count": 25,
   "id": "1168572b",
   "metadata": {
    "execution": {
     "iopub.execute_input": "2022-07-13T17:37:08.235969Z",
     "iopub.status.busy": "2022-07-13T17:37:08.235505Z",
     "iopub.status.idle": "2022-07-13T17:37:08.245061Z",
     "shell.execute_reply": "2022-07-13T17:37:08.243595Z"
    },
    "papermill": {
     "duration": 0.02889,
     "end_time": "2022-07-13T17:37:08.247654",
     "exception": false,
     "start_time": "2022-07-13T17:37:08.218764",
     "status": "completed"
    },
    "tags": []
   },
   "outputs": [
    {
     "data": {
      "application/javascript": [
       "parent.postMessage({\"jupyterEvent\": \"custom.exercise_interaction\", \"data\": {\"interactionType\": 3, \"questionType\": 4, \"questionId\": \"7.2_ThinkSwarm\", \"learnToolsVersion\": \"0.3.4\", \"valueTowardsCompletion\": 0.0, \"failureMessage\": \"\", \"exceptionClass\": \"\", \"trace\": \"\", \"outcomeType\": 4}}, \"*\")"
      ],
      "text/plain": [
       "<IPython.core.display.Javascript object>"
      ]
     },
     "metadata": {},
     "output_type": "display_data"
    },
    {
     "data": {
      "text/markdown": [
       "<span style=\"color:#33cc99\">Solution:</span> In this case, the categorical scatter plot from **Step 7** is the more appropriate plot. While both plots tell the desired story, the plot from **Step 6** conveys far more information that could distract from the main point."
      ],
      "text/plain": [
       "Solution: In this case, the categorical scatter plot from **Step 7** is the more appropriate plot. While both plots tell the desired story, the plot from **Step 6** conveys far more information that could distract from the main point."
      ]
     },
     "metadata": {},
     "output_type": "display_data"
    }
   ],
   "source": [
    "# Check your answer (Run this code cell to receive credit!)\n",
    "step_7.b.solution()"
   ]
  },
  {
   "cell_type": "markdown",
   "id": "a661b09b",
   "metadata": {
    "papermill": {
     "duration": 0.015625,
     "end_time": "2022-07-13T17:37:08.279345",
     "exception": false,
     "start_time": "2022-07-13T17:37:08.263720",
     "status": "completed"
    },
    "tags": []
   },
   "source": [
    "## Keep going\n",
    "\n",
    "Explore **[histograms and density plots](https://www.kaggle.com/alexisbcook/distributions)**."
   ]
  },
  {
   "cell_type": "markdown",
   "id": "ede0fd9c",
   "metadata": {
    "papermill": {
     "duration": 0.016455,
     "end_time": "2022-07-13T17:37:08.312043",
     "exception": false,
     "start_time": "2022-07-13T17:37:08.295588",
     "status": "completed"
    },
    "tags": []
   },
   "source": [
    "---\n",
    "\n",
    "\n",
    "\n",
    "\n",
    "*Have questions or comments? Visit the [course discussion forum](https://www.kaggle.com/learn/data-visualization/discussion) to chat with other learners.*"
   ]
  }
 ],
 "metadata": {
  "kernelspec": {
   "display_name": "Python 3",
   "language": "python",
   "name": "python3"
  },
  "language_info": {
   "codemirror_mode": {
    "name": "ipython",
    "version": 3
   },
   "file_extension": ".py",
   "mimetype": "text/x-python",
   "name": "python",
   "nbconvert_exporter": "python",
   "pygments_lexer": "ipython3",
   "version": "3.7.12"
  },
  "papermill": {
   "default_parameters": {},
   "duration": 14.876123,
   "end_time": "2022-07-13T17:37:09.050532",
   "environment_variables": {},
   "exception": null,
   "input_path": "__notebook__.ipynb",
   "output_path": "__notebook__.ipynb",
   "parameters": {},
   "start_time": "2022-07-13T17:36:54.174409",
   "version": "2.3.4"
  }
 },
 "nbformat": 4,
 "nbformat_minor": 5
}
