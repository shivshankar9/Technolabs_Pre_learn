{
 "cells": [
  {
   "cell_type": "markdown",
   "id": "ab1abd58",
   "metadata": {
    "papermill": {
     "duration": 0.006817,
     "end_time": "2022-07-15T03:12:14.700918",
     "exception": false,
     "start_time": "2022-07-15T03:12:14.694101",
     "status": "completed"
    },
    "tags": []
   },
   "source": [
    "**This notebook is an exercise in the [Introduction to Machine Learning](https://www.kaggle.com/learn/intro-to-machine-learning) course.  You can reference the tutorial at [this link](https://www.kaggle.com/dansbecker/your-first-machine-learning-model).**\n",
    "\n",
    "---\n"
   ]
  },
  {
   "cell_type": "markdown",
   "id": "894f3988",
   "metadata": {
    "papermill": {
     "duration": 0.005891,
     "end_time": "2022-07-15T03:12:14.712727",
     "exception": false,
     "start_time": "2022-07-15T03:12:14.706836",
     "status": "completed"
    },
    "tags": []
   },
   "source": [
    "## Recap\n",
    "So far, you have loaded your data and reviewed it with the following code. Run this cell to set up your coding environment where the previous step left off."
   ]
  },
  {
   "cell_type": "code",
   "execution_count": 1,
   "id": "0e7c2b80",
   "metadata": {
    "execution": {
     "iopub.execute_input": "2022-07-15T03:12:14.726228Z",
     "iopub.status.busy": "2022-07-15T03:12:14.725775Z",
     "iopub.status.idle": "2022-07-15T03:12:16.139219Z",
     "shell.execute_reply": "2022-07-15T03:12:16.137406Z"
    },
    "papermill": {
     "duration": 1.423387,
     "end_time": "2022-07-15T03:12:16.142065",
     "exception": false,
     "start_time": "2022-07-15T03:12:14.718678",
     "status": "completed"
    },
    "tags": []
   },
   "outputs": [
    {
     "name": "stdout",
     "output_type": "stream",
     "text": [
      "Setup Complete\n"
     ]
    }
   ],
   "source": [
    "# Code you have previously used to load data\n",
    "import pandas as pd\n",
    "\n",
    "# Path of the file to read\n",
    "iowa_file_path = '../input/home-data-for-ml-course/train.csv'\n",
    "\n",
    "home_data = pd.read_csv(iowa_file_path)\n",
    "\n",
    "# Set up code checking\n",
    "from learntools.core import binder\n",
    "binder.bind(globals())\n",
    "from learntools.machine_learning.ex3 import *\n",
    "\n",
    "print(\"Setup Complete\")"
   ]
  },
  {
   "cell_type": "markdown",
   "id": "2310245e",
   "metadata": {
    "papermill": {
     "duration": 0.005605,
     "end_time": "2022-07-15T03:12:16.153817",
     "exception": false,
     "start_time": "2022-07-15T03:12:16.148212",
     "status": "completed"
    },
    "tags": []
   },
   "source": [
    "# Exercises\n",
    "\n",
    "## Step 1: Specify Prediction Target\n",
    "Select the target variable, which corresponds to the sales price. Save this to a new variable called `y`. You'll need to print a list of the columns to find the name of the column you need.\n"
   ]
  },
  {
   "cell_type": "code",
   "execution_count": 2,
   "id": "d6f28577",
   "metadata": {
    "execution": {
     "iopub.execute_input": "2022-07-15T03:12:16.167349Z",
     "iopub.status.busy": "2022-07-15T03:12:16.166940Z",
     "iopub.status.idle": "2022-07-15T03:12:16.171796Z",
     "shell.execute_reply": "2022-07-15T03:12:16.170690Z"
    },
    "papermill": {
     "duration": 0.014544,
     "end_time": "2022-07-15T03:12:16.174199",
     "exception": false,
     "start_time": "2022-07-15T03:12:16.159655",
     "status": "completed"
    },
    "tags": []
   },
   "outputs": [],
   "source": [
    "# print the list of columns in the dataset to find the name of the prediction target\n"
   ]
  },
  {
   "cell_type": "code",
   "execution_count": 3,
   "id": "9c14fb53",
   "metadata": {
    "execution": {
     "iopub.execute_input": "2022-07-15T03:12:16.189248Z",
     "iopub.status.busy": "2022-07-15T03:12:16.188733Z",
     "iopub.status.idle": "2022-07-15T03:12:16.203566Z",
     "shell.execute_reply": "2022-07-15T03:12:16.202729Z"
    },
    "papermill": {
     "duration": 0.025596,
     "end_time": "2022-07-15T03:12:16.205758",
     "exception": false,
     "start_time": "2022-07-15T03:12:16.180162",
     "status": "completed"
    },
    "tags": []
   },
   "outputs": [
    {
     "data": {
      "application/javascript": [
       "parent.postMessage({\"jupyterEvent\": \"custom.exercise_interaction\", \"data\": {\"outcomeType\": 1, \"valueTowardsCompletion\": 0.25, \"interactionType\": 1, \"questionType\": 2, \"questionId\": \"1_SetTarget\", \"learnToolsVersion\": \"0.3.4\", \"failureMessage\": \"\", \"exceptionClass\": \"\", \"trace\": \"\"}}, \"*\")"
      ],
      "text/plain": [
       "<IPython.core.display.Javascript object>"
      ]
     },
     "metadata": {},
     "output_type": "display_data"
    },
    {
     "data": {
      "text/markdown": [
       "<span style=\"color:#33cc33\">Correct</span>"
      ],
      "text/plain": [
       "Correct"
      ]
     },
     "metadata": {},
     "output_type": "display_data"
    }
   ],
   "source": [
    "y = home_data.SalePrice\n",
    "\n",
    "# Check your answer\n",
    "step_1.check()"
   ]
  },
  {
   "cell_type": "code",
   "execution_count": 4,
   "id": "c9e9e1f9",
   "metadata": {
    "execution": {
     "iopub.execute_input": "2022-07-15T03:12:16.220721Z",
     "iopub.status.busy": "2022-07-15T03:12:16.219399Z",
     "iopub.status.idle": "2022-07-15T03:12:16.224305Z",
     "shell.execute_reply": "2022-07-15T03:12:16.223263Z"
    },
    "papermill": {
     "duration": 0.014713,
     "end_time": "2022-07-15T03:12:16.226541",
     "exception": false,
     "start_time": "2022-07-15T03:12:16.211828",
     "status": "completed"
    },
    "tags": []
   },
   "outputs": [],
   "source": [
    "# The lines below will show you a hint or the solution.\n",
    "# step_1.hint() \n",
    "#step_1.solution()"
   ]
  },
  {
   "cell_type": "markdown",
   "id": "4e32924f",
   "metadata": {
    "papermill": {
     "duration": 0.006253,
     "end_time": "2022-07-15T03:12:16.239072",
     "exception": false,
     "start_time": "2022-07-15T03:12:16.232819",
     "status": "completed"
    },
    "tags": []
   },
   "source": [
    "## Step 2: Create X\n",
    "Now you will create a DataFrame called `X` holding the predictive features.\n",
    "\n",
    "Since you want only some columns from the original data, you'll first create a list with the names of the columns you want in `X`.\n",
    "\n",
    "You'll use just the following columns in the list (you can copy and paste the whole list to save some typing, though you'll still need to add quotes):\n",
    "  * LotArea\n",
    "  * YearBuilt\n",
    "  * 1stFlrSF\n",
    "  * 2ndFlrSF\n",
    "  * FullBath\n",
    "  * BedroomAbvGr\n",
    "  * TotRmsAbvGrd\n",
    "\n",
    "After you've created that list of features, use it to create the DataFrame that you'll use to fit the model."
   ]
  },
  {
   "cell_type": "code",
   "execution_count": 5,
   "id": "cdd3ed5d",
   "metadata": {
    "execution": {
     "iopub.execute_input": "2022-07-15T03:12:16.253998Z",
     "iopub.status.busy": "2022-07-15T03:12:16.253308Z",
     "iopub.status.idle": "2022-07-15T03:12:16.266905Z",
     "shell.execute_reply": "2022-07-15T03:12:16.266070Z"
    },
    "papermill": {
     "duration": 0.023912,
     "end_time": "2022-07-15T03:12:16.269321",
     "exception": false,
     "start_time": "2022-07-15T03:12:16.245409",
     "status": "completed"
    },
    "tags": []
   },
   "outputs": [
    {
     "data": {
      "application/javascript": [
       "parent.postMessage({\"jupyterEvent\": \"custom.exercise_interaction\", \"data\": {\"outcomeType\": 1, \"valueTowardsCompletion\": 0.25, \"interactionType\": 1, \"questionType\": 2, \"questionId\": \"2_SelectPredictionData\", \"learnToolsVersion\": \"0.3.4\", \"failureMessage\": \"\", \"exceptionClass\": \"\", \"trace\": \"\"}}, \"*\")"
      ],
      "text/plain": [
       "<IPython.core.display.Javascript object>"
      ]
     },
     "metadata": {},
     "output_type": "display_data"
    },
    {
     "data": {
      "text/markdown": [
       "<span style=\"color:#33cc33\">Correct</span>"
      ],
      "text/plain": [
       "Correct"
      ]
     },
     "metadata": {},
     "output_type": "display_data"
    }
   ],
   "source": [
    "# Create the list of features below\n",
    "feature_names = [\"LotArea\", \"YearBuilt\", \"1stFlrSF\", \"2ndFlrSF\",\n",
    "                      \"FullBath\", \"BedroomAbvGr\", \"TotRmsAbvGrd\"]\n",
    "\n",
    "\n",
    "\n",
    "# Select data corresponding to features in feature_names\n",
    "X = home_data[feature_names]\n",
    "\n",
    "# Check your answer\n",
    "step_2.check()"
   ]
  },
  {
   "cell_type": "code",
   "execution_count": 6,
   "id": "5d8d4c3f",
   "metadata": {
    "execution": {
     "iopub.execute_input": "2022-07-15T03:12:16.284805Z",
     "iopub.status.busy": "2022-07-15T03:12:16.284117Z",
     "iopub.status.idle": "2022-07-15T03:12:16.288608Z",
     "shell.execute_reply": "2022-07-15T03:12:16.287474Z"
    },
    "papermill": {
     "duration": 0.01492,
     "end_time": "2022-07-15T03:12:16.290899",
     "exception": false,
     "start_time": "2022-07-15T03:12:16.275979",
     "status": "completed"
    },
    "tags": []
   },
   "outputs": [],
   "source": [
    "# step_2.hint()\n",
    "#step_2.solution()"
   ]
  },
  {
   "cell_type": "markdown",
   "id": "ad5fc1dd",
   "metadata": {
    "papermill": {
     "duration": 0.006269,
     "end_time": "2022-07-15T03:12:16.303888",
     "exception": false,
     "start_time": "2022-07-15T03:12:16.297619",
     "status": "completed"
    },
    "tags": []
   },
   "source": [
    "## Review Data\n",
    "Before building a model, take a quick look at **X** to verify it looks sensible"
   ]
  },
  {
   "cell_type": "code",
   "execution_count": 7,
   "id": "d0fa5929",
   "metadata": {
    "execution": {
     "iopub.execute_input": "2022-07-15T03:12:16.319142Z",
     "iopub.status.busy": "2022-07-15T03:12:16.318394Z",
     "iopub.status.idle": "2022-07-15T03:12:16.322658Z",
     "shell.execute_reply": "2022-07-15T03:12:16.321496Z"
    },
    "papermill": {
     "duration": 0.014445,
     "end_time": "2022-07-15T03:12:16.324895",
     "exception": false,
     "start_time": "2022-07-15T03:12:16.310450",
     "status": "completed"
    },
    "tags": []
   },
   "outputs": [],
   "source": [
    "# Review data\n",
    "# print description or statistics from X\n",
    "#print(_)\n",
    "\n",
    "# print the top few lines\n",
    "#print(_)"
   ]
  },
  {
   "cell_type": "markdown",
   "id": "1473d5ae",
   "metadata": {
    "papermill": {
     "duration": 0.006067,
     "end_time": "2022-07-15T03:12:16.337458",
     "exception": false,
     "start_time": "2022-07-15T03:12:16.331391",
     "status": "completed"
    },
    "tags": []
   },
   "source": [
    "## Step 3: Specify and Fit Model\n",
    "Create a `DecisionTreeRegressor` and save it iowa_model. Ensure you've done the relevant import from sklearn to run this command.\n",
    "\n",
    "Then fit the model you just created using the data in `X` and `y` that you saved above."
   ]
  },
  {
   "cell_type": "code",
   "execution_count": 8,
   "id": "d74c2aef",
   "metadata": {
    "execution": {
     "iopub.execute_input": "2022-07-15T03:12:16.352252Z",
     "iopub.status.busy": "2022-07-15T03:12:16.351585Z",
     "iopub.status.idle": "2022-07-15T03:12:16.371671Z",
     "shell.execute_reply": "2022-07-15T03:12:16.370470Z"
    },
    "papermill": {
     "duration": 0.030236,
     "end_time": "2022-07-15T03:12:16.374131",
     "exception": false,
     "start_time": "2022-07-15T03:12:16.343895",
     "status": "completed"
    },
    "tags": []
   },
   "outputs": [
    {
     "data": {
      "application/javascript": [
       "parent.postMessage({\"jupyterEvent\": \"custom.exercise_interaction\", \"data\": {\"outcomeType\": 1, \"valueTowardsCompletion\": 0.25, \"interactionType\": 1, \"questionType\": 2, \"questionId\": \"3_CreateModel\", \"learnToolsVersion\": \"0.3.4\", \"failureMessage\": \"\", \"exceptionClass\": \"\", \"trace\": \"\"}}, \"*\")"
      ],
      "text/plain": [
       "<IPython.core.display.Javascript object>"
      ]
     },
     "metadata": {},
     "output_type": "display_data"
    },
    {
     "data": {
      "text/markdown": [
       "<span style=\"color:#33cc33\">Correct</span>"
      ],
      "text/plain": [
       "Correct"
      ]
     },
     "metadata": {},
     "output_type": "display_data"
    }
   ],
   "source": [
    "# from _ import _\n",
    "#specify the model. \n",
    "#For model reproducibility, set a numeric value for random_state when specifying the model\n",
    "\n",
    "\n",
    "# Fit the model\n",
    "from sklearn.tree import DecisionTreeRegressor\n",
    "iowa_model = DecisionTreeRegressor(random_state=1)\n",
    "iowa_model.fit(X, y)\n",
    "\n",
    "# Check your answer\n",
    "step_3.check()"
   ]
  },
  {
   "cell_type": "code",
   "execution_count": 9,
   "id": "7b73a06a",
   "metadata": {
    "execution": {
     "iopub.execute_input": "2022-07-15T03:12:16.389194Z",
     "iopub.status.busy": "2022-07-15T03:12:16.388792Z",
     "iopub.status.idle": "2022-07-15T03:12:16.393561Z",
     "shell.execute_reply": "2022-07-15T03:12:16.392224Z"
    },
    "papermill": {
     "duration": 0.015087,
     "end_time": "2022-07-15T03:12:16.395779",
     "exception": false,
     "start_time": "2022-07-15T03:12:16.380692",
     "status": "completed"
    },
    "tags": []
   },
   "outputs": [],
   "source": [
    "# step_3.hint()\n",
    "#step_3.solution()"
   ]
  },
  {
   "cell_type": "markdown",
   "id": "26f170d4",
   "metadata": {
    "papermill": {
     "duration": 0.006426,
     "end_time": "2022-07-15T03:12:16.408933",
     "exception": false,
     "start_time": "2022-07-15T03:12:16.402507",
     "status": "completed"
    },
    "tags": []
   },
   "source": [
    "## Step 4: Make Predictions\n",
    "Make predictions with the model's `predict` command using `X` as the data. Save the results to a variable called `predictions`."
   ]
  },
  {
   "cell_type": "code",
   "execution_count": 10,
   "id": "bd6a82ec",
   "metadata": {
    "execution": {
     "iopub.execute_input": "2022-07-15T03:12:16.424250Z",
     "iopub.status.busy": "2022-07-15T03:12:16.423841Z",
     "iopub.status.idle": "2022-07-15T03:12:16.438225Z",
     "shell.execute_reply": "2022-07-15T03:12:16.436729Z"
    },
    "papermill": {
     "duration": 0.024877,
     "end_time": "2022-07-15T03:12:16.440556",
     "exception": false,
     "start_time": "2022-07-15T03:12:16.415679",
     "status": "completed"
    },
    "tags": []
   },
   "outputs": [
    {
     "name": "stdout",
     "output_type": "stream",
     "text": [
      "[208500. 181500. 223500. ... 266500. 142125. 147500.]\n"
     ]
    },
    {
     "data": {
      "application/javascript": [
       "parent.postMessage({\"jupyterEvent\": \"custom.exercise_interaction\", \"data\": {\"outcomeType\": 1, \"valueTowardsCompletion\": 0.25, \"interactionType\": 1, \"questionType\": 2, \"questionId\": \"4_MakePredictions\", \"learnToolsVersion\": \"0.3.4\", \"failureMessage\": \"\", \"exceptionClass\": \"\", \"trace\": \"\"}}, \"*\")"
      ],
      "text/plain": [
       "<IPython.core.display.Javascript object>"
      ]
     },
     "metadata": {},
     "output_type": "display_data"
    },
    {
     "data": {
      "text/markdown": [
       "<span style=\"color:#33cc33\">Correct</span>"
      ],
      "text/plain": [
       "Correct"
      ]
     },
     "metadata": {},
     "output_type": "display_data"
    }
   ],
   "source": [
    "predictions = iowa_model.predict(X)\n",
    "print(predictions)\n",
    "\n",
    "# Check your answer\n",
    "step_4.check()"
   ]
  },
  {
   "cell_type": "code",
   "execution_count": 11,
   "id": "734d15a7",
   "metadata": {
    "execution": {
     "iopub.execute_input": "2022-07-15T03:12:16.457365Z",
     "iopub.status.busy": "2022-07-15T03:12:16.456306Z",
     "iopub.status.idle": "2022-07-15T03:12:16.460984Z",
     "shell.execute_reply": "2022-07-15T03:12:16.459866Z"
    },
    "papermill": {
     "duration": 0.015258,
     "end_time": "2022-07-15T03:12:16.463372",
     "exception": false,
     "start_time": "2022-07-15T03:12:16.448114",
     "status": "completed"
    },
    "tags": []
   },
   "outputs": [],
   "source": [
    "# step_4.hint()\n",
    "#step_4.solution()"
   ]
  },
  {
   "cell_type": "markdown",
   "id": "e64be720",
   "metadata": {
    "papermill": {
     "duration": 0.00686,
     "end_time": "2022-07-15T03:12:16.477226",
     "exception": false,
     "start_time": "2022-07-15T03:12:16.470366",
     "status": "completed"
    },
    "tags": []
   },
   "source": [
    "## Think About Your Results\n",
    "\n",
    "Use the `head` method to compare the top few predictions to the actual home values (in `y`) for those same homes. Anything surprising?\n"
   ]
  },
  {
   "cell_type": "code",
   "execution_count": 12,
   "id": "40555550",
   "metadata": {
    "execution": {
     "iopub.execute_input": "2022-07-15T03:12:16.493408Z",
     "iopub.status.busy": "2022-07-15T03:12:16.492955Z",
     "iopub.status.idle": "2022-07-15T03:12:16.497997Z",
     "shell.execute_reply": "2022-07-15T03:12:16.496849Z"
    },
    "papermill": {
     "duration": 0.015558,
     "end_time": "2022-07-15T03:12:16.500067",
     "exception": false,
     "start_time": "2022-07-15T03:12:16.484509",
     "status": "completed"
    },
    "tags": []
   },
   "outputs": [],
   "source": [
    "# You can write code in this cell\n"
   ]
  },
  {
   "cell_type": "markdown",
   "id": "11bd9569",
   "metadata": {
    "papermill": {
     "duration": 0.006551,
     "end_time": "2022-07-15T03:12:16.513573",
     "exception": false,
     "start_time": "2022-07-15T03:12:16.507022",
     "status": "completed"
    },
    "tags": []
   },
   "source": [
    "It's natural to ask how accurate the model's predictions will be and how you can improve that. That will be you're next step.\n",
    "\n",
    "# Keep Going\n",
    "\n",
    "You are ready for **[Model Validation](https://www.kaggle.com/dansbecker/model-validation).**\n"
   ]
  },
  {
   "cell_type": "markdown",
   "id": "e14475de",
   "metadata": {
    "papermill": {
     "duration": 0.006608,
     "end_time": "2022-07-15T03:12:16.527038",
     "exception": false,
     "start_time": "2022-07-15T03:12:16.520430",
     "status": "completed"
    },
    "tags": []
   },
   "source": [
    "---\n",
    "\n",
    "\n",
    "\n",
    "\n",
    "*Have questions or comments? Visit the [course discussion forum](https://www.kaggle.com/learn/intro-to-machine-learning/discussion) to chat with other learners.*"
   ]
  }
 ],
 "metadata": {
  "kernelspec": {
   "display_name": "Python 3",
   "language": "python",
   "name": "python3"
  },
  "language_info": {
   "codemirror_mode": {
    "name": "ipython",
    "version": 3
   },
   "file_extension": ".py",
   "mimetype": "text/x-python",
   "name": "python",
   "nbconvert_exporter": "python",
   "pygments_lexer": "ipython3",
   "version": "3.7.12"
  },
  "papermill": {
   "default_parameters": {},
   "duration": 13.051781,
   "end_time": "2022-07-15T03:12:17.254768",
   "environment_variables": {},
   "exception": null,
   "input_path": "__notebook__.ipynb",
   "output_path": "__notebook__.ipynb",
   "parameters": {},
   "start_time": "2022-07-15T03:12:04.202987",
   "version": "2.3.4"
  }
 },
 "nbformat": 4,
 "nbformat_minor": 5
}
