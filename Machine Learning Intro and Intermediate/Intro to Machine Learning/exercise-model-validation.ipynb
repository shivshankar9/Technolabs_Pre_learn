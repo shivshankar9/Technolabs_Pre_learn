{
 "cells": [
  {
   "cell_type": "markdown",
   "id": "27461d6a",
   "metadata": {
    "papermill": {
     "duration": 0.004366,
     "end_time": "2022-07-15T03:22:14.879459",
     "exception": false,
     "start_time": "2022-07-15T03:22:14.875093",
     "status": "completed"
    },
    "tags": []
   },
   "source": [
    "**This notebook is an exercise in the [Introduction to Machine Learning](https://www.kaggle.com/learn/intro-to-machine-learning) course.  You can reference the tutorial at [this link](https://www.kaggle.com/dansbecker/model-validation).**\n",
    "\n",
    "---\n"
   ]
  },
  {
   "cell_type": "markdown",
   "id": "2ca902ef",
   "metadata": {
    "papermill": {
     "duration": 0.003125,
     "end_time": "2022-07-15T03:22:14.886296",
     "exception": false,
     "start_time": "2022-07-15T03:22:14.883171",
     "status": "completed"
    },
    "tags": []
   },
   "source": [
    "## Recap\n",
    "You've built a model. In this exercise you will test how good your model is.\n",
    "\n",
    "Run the cell below to set up your coding environment where the previous exercise left off."
   ]
  },
  {
   "cell_type": "code",
   "execution_count": 1,
   "id": "e6368c37",
   "metadata": {
    "execution": {
     "iopub.execute_input": "2022-07-15T03:22:14.897175Z",
     "iopub.status.busy": "2022-07-15T03:22:14.896538Z",
     "iopub.status.idle": "2022-07-15T03:22:16.400200Z",
     "shell.execute_reply": "2022-07-15T03:22:16.398998Z"
    },
    "papermill": {
     "duration": 1.513304,
     "end_time": "2022-07-15T03:22:16.402920",
     "exception": false,
     "start_time": "2022-07-15T03:22:14.889616",
     "status": "completed"
    },
    "tags": []
   },
   "outputs": [
    {
     "name": "stdout",
     "output_type": "stream",
     "text": [
      "First in-sample predictions: [208500. 181500. 223500. 140000. 250000.]\n",
      "Actual target values for those homes: [208500, 181500, 223500, 140000, 250000]\n",
      "Setup Complete\n"
     ]
    }
   ],
   "source": [
    "# Code you have previously used to load data\n",
    "import pandas as pd\n",
    "from sklearn.tree import DecisionTreeRegressor\n",
    "\n",
    "# Path of the file to read\n",
    "iowa_file_path = '../input/home-data-for-ml-course/train.csv'\n",
    "\n",
    "home_data = pd.read_csv(iowa_file_path)\n",
    "y = home_data.SalePrice\n",
    "feature_columns = ['LotArea', 'YearBuilt', '1stFlrSF', '2ndFlrSF', 'FullBath', 'BedroomAbvGr', 'TotRmsAbvGrd']\n",
    "X = home_data[feature_columns]\n",
    "\n",
    "# Specify Model\n",
    "iowa_model = DecisionTreeRegressor()\n",
    "# Fit Model\n",
    "iowa_model.fit(X, y)\n",
    "\n",
    "print(\"First in-sample predictions:\", iowa_model.predict(X.head()))\n",
    "print(\"Actual target values for those homes:\", y.head().tolist())\n",
    "\n",
    "# Set up code checking\n",
    "from learntools.core import binder\n",
    "binder.bind(globals())\n",
    "from learntools.machine_learning.ex4 import *\n",
    "print(\"Setup Complete\")"
   ]
  },
  {
   "cell_type": "markdown",
   "id": "9867de55",
   "metadata": {
    "papermill": {
     "duration": 0.003355,
     "end_time": "2022-07-15T03:22:16.410127",
     "exception": false,
     "start_time": "2022-07-15T03:22:16.406772",
     "status": "completed"
    },
    "tags": []
   },
   "source": [
    "# Exercises\n",
    "\n",
    "## Step 1: Split Your Data\n",
    "Use the `train_test_split` function to split up your data.\n",
    "\n",
    "Give it the argument `random_state=1` so the `check` functions know what to expect when verifying your code.\n",
    "\n",
    "Recall, your features are loaded in the DataFrame **X** and your target is loaded in **y**.\n"
   ]
  },
  {
   "cell_type": "code",
   "execution_count": 2,
   "id": "bb9896c4",
   "metadata": {
    "execution": {
     "iopub.execute_input": "2022-07-15T03:22:16.419676Z",
     "iopub.status.busy": "2022-07-15T03:22:16.418600Z",
     "iopub.status.idle": "2022-07-15T03:22:16.429193Z",
     "shell.execute_reply": "2022-07-15T03:22:16.428175Z"
    },
    "papermill": {
     "duration": 0.017564,
     "end_time": "2022-07-15T03:22:16.431274",
     "exception": false,
     "start_time": "2022-07-15T03:22:16.413710",
     "status": "completed"
    },
    "tags": []
   },
   "outputs": [
    {
     "data": {
      "application/javascript": [
       "parent.postMessage({\"jupyterEvent\": \"custom.exercise_interaction\", \"data\": {\"outcomeType\": 2, \"failureMessage\": \"You still need to define the following variables: `train_y`, `val_X`, `val_y`, `train_X`\", \"interactionType\": 1, \"questionType\": 2, \"questionId\": \"1_SplitData\", \"learnToolsVersion\": \"0.3.4\", \"valueTowardsCompletion\": 0.0, \"exceptionClass\": \"\", \"trace\": \"\"}}, \"*\")"
      ],
      "text/plain": [
       "<IPython.core.display.Javascript object>"
      ]
     },
     "metadata": {},
     "output_type": "display_data"
    },
    {
     "data": {
      "text/markdown": [
       "<span style=\"color:#cc3333\">Incorrect:</span> You still need to define the following variables: `train_y`, `val_X`, `val_y`, `train_X`"
      ],
      "text/plain": [
       "Incorrect: You still need to define the following variables: `train_y`, `val_X`, `val_y`, `train_X`"
      ]
     },
     "metadata": {},
     "output_type": "display_data"
    }
   ],
   "source": [
    "# Import the train_test_split function and uncomment\n",
    "# from _ import _\n",
    "\n",
    "# fill in and uncomment\n",
    "# train_X, val_X, train_y, val_y = ____\n",
    "\n",
    "# Check your answer\n",
    "step_1.check()"
   ]
  },
  {
   "cell_type": "code",
   "execution_count": 3,
   "id": "e7fd15c3",
   "metadata": {
    "execution": {
     "iopub.execute_input": "2022-07-15T03:22:16.441345Z",
     "iopub.status.busy": "2022-07-15T03:22:16.440625Z",
     "iopub.status.idle": "2022-07-15T03:22:16.446029Z",
     "shell.execute_reply": "2022-07-15T03:22:16.444595Z"
    },
    "papermill": {
     "duration": 0.012857,
     "end_time": "2022-07-15T03:22:16.448223",
     "exception": false,
     "start_time": "2022-07-15T03:22:16.435366",
     "status": "completed"
    },
    "tags": []
   },
   "outputs": [],
   "source": [
    "# The lines below will show you a hint or the solution.\n",
    "# step_1.hint() \n",
    "# step_1.solution()\n"
   ]
  },
  {
   "cell_type": "markdown",
   "id": "86ca8b8a",
   "metadata": {
    "papermill": {
     "duration": 0.003549,
     "end_time": "2022-07-15T03:22:16.455687",
     "exception": false,
     "start_time": "2022-07-15T03:22:16.452138",
     "status": "completed"
    },
    "tags": []
   },
   "source": [
    "## Step 2: Specify and Fit the Model\n",
    "\n",
    "Create a `DecisionTreeRegressor` model and fit it to the relevant data.\n",
    "Set `random_state` to 1 again when creating the model."
   ]
  },
  {
   "cell_type": "code",
   "execution_count": 4,
   "id": "258c3f86",
   "metadata": {
    "execution": {
     "iopub.execute_input": "2022-07-15T03:22:16.465234Z",
     "iopub.status.busy": "2022-07-15T03:22:16.464450Z",
     "iopub.status.idle": "2022-07-15T03:22:16.474044Z",
     "shell.execute_reply": "2022-07-15T03:22:16.472884Z"
    },
    "papermill": {
     "duration": 0.016921,
     "end_time": "2022-07-15T03:22:16.476369",
     "exception": false,
     "start_time": "2022-07-15T03:22:16.459448",
     "status": "completed"
    },
    "tags": []
   },
   "outputs": [
    {
     "data": {
      "application/javascript": [
       "parent.postMessage({\"jupyterEvent\": \"custom.exercise_interaction\", \"data\": {\"outcomeType\": 2, \"failureMessage\": \"You still need to define the following variables: `train_y`, `train_X`, `val_X`\", \"interactionType\": 1, \"questionType\": 2, \"questionId\": \"2_FitModelWithTrain\", \"learnToolsVersion\": \"0.3.4\", \"valueTowardsCompletion\": 0.0, \"exceptionClass\": \"\", \"trace\": \"\"}}, \"*\")"
      ],
      "text/plain": [
       "<IPython.core.display.Javascript object>"
      ]
     },
     "metadata": {},
     "output_type": "display_data"
    },
    {
     "data": {
      "text/markdown": [
       "<span style=\"color:#cc3333\">Incorrect:</span> You still need to define the following variables: `train_y`, `train_X`, `val_X`"
      ],
      "text/plain": [
       "Incorrect: You still need to define the following variables: `train_y`, `train_X`, `val_X`"
      ]
     },
     "metadata": {},
     "output_type": "display_data"
    }
   ],
   "source": [
    "# You imported DecisionTreeRegressor in your last exercise\n",
    "# and that code has been copied to the setup code above. So, no need to\n",
    "# import it again\n",
    "\n",
    "# Specify the model\n",
    "iowa_model = ____\n",
    "\n",
    "# Fit iowa_model with the training data.\n",
    "____\n",
    "\n",
    "# Check your answer\n",
    "step_2.check()"
   ]
  },
  {
   "cell_type": "code",
   "execution_count": 5,
   "id": "bdcd2dfa",
   "metadata": {
    "execution": {
     "iopub.execute_input": "2022-07-15T03:22:16.488627Z",
     "iopub.status.busy": "2022-07-15T03:22:16.487292Z",
     "iopub.status.idle": "2022-07-15T03:22:16.493387Z",
     "shell.execute_reply": "2022-07-15T03:22:16.492474Z"
    },
    "papermill": {
     "duration": 0.01568,
     "end_time": "2022-07-15T03:22:16.496344",
     "exception": false,
     "start_time": "2022-07-15T03:22:16.480664",
     "status": "completed"
    },
    "tags": []
   },
   "outputs": [],
   "source": [
    "# step_2.hint()\n",
    "# step_2.solution()"
   ]
  },
  {
   "cell_type": "markdown",
   "id": "9dc0ffbc",
   "metadata": {
    "papermill": {
     "duration": 0.006501,
     "end_time": "2022-07-15T03:22:16.507287",
     "exception": false,
     "start_time": "2022-07-15T03:22:16.500786",
     "status": "completed"
    },
    "tags": []
   },
   "source": [
    "## Step 3: Make Predictions with Validation data\n"
   ]
  },
  {
   "cell_type": "code",
   "execution_count": 6,
   "id": "4ce35996",
   "metadata": {
    "execution": {
     "iopub.execute_input": "2022-07-15T03:22:16.519194Z",
     "iopub.status.busy": "2022-07-15T03:22:16.518336Z",
     "iopub.status.idle": "2022-07-15T03:22:16.530585Z",
     "shell.execute_reply": "2022-07-15T03:22:16.529086Z"
    },
    "papermill": {
     "duration": 0.021081,
     "end_time": "2022-07-15T03:22:16.533648",
     "exception": false,
     "start_time": "2022-07-15T03:22:16.512567",
     "status": "completed"
    },
    "tags": []
   },
   "outputs": [
    {
     "data": {
      "application/javascript": [
       "parent.postMessage({\"jupyterEvent\": \"custom.exercise_interaction\", \"data\": {\"outcomeType\": 2, \"failureMessage\": \"You still need to define the following variables: `val_X`\", \"interactionType\": 1, \"questionType\": 2, \"questionId\": \"3_ValPreds\", \"learnToolsVersion\": \"0.3.4\", \"valueTowardsCompletion\": 0.0, \"exceptionClass\": \"\", \"trace\": \"\"}}, \"*\")"
      ],
      "text/plain": [
       "<IPython.core.display.Javascript object>"
      ]
     },
     "metadata": {},
     "output_type": "display_data"
    },
    {
     "data": {
      "text/markdown": [
       "<span style=\"color:#cc3333\">Incorrect:</span> You still need to define the following variables: `val_X`"
      ],
      "text/plain": [
       "Incorrect: You still need to define the following variables: `val_X`"
      ]
     },
     "metadata": {},
     "output_type": "display_data"
    }
   ],
   "source": [
    "# Predict with all validation observations\n",
    "val_predictions = ____\n",
    "\n",
    "# Check your answer\n",
    "step_3.check()"
   ]
  },
  {
   "cell_type": "code",
   "execution_count": 7,
   "id": "71ba9eaa",
   "metadata": {
    "execution": {
     "iopub.execute_input": "2022-07-15T03:22:16.551284Z",
     "iopub.status.busy": "2022-07-15T03:22:16.549866Z",
     "iopub.status.idle": "2022-07-15T03:22:16.555697Z",
     "shell.execute_reply": "2022-07-15T03:22:16.554285Z"
    },
    "papermill": {
     "duration": 0.01753,
     "end_time": "2022-07-15T03:22:16.558589",
     "exception": false,
     "start_time": "2022-07-15T03:22:16.541059",
     "status": "completed"
    },
    "tags": []
   },
   "outputs": [],
   "source": [
    "# step_3.hint()\n",
    "# step_3.solution()"
   ]
  },
  {
   "cell_type": "markdown",
   "id": "053b2c76",
   "metadata": {
    "papermill": {
     "duration": 0.004293,
     "end_time": "2022-07-15T03:22:16.567665",
     "exception": false,
     "start_time": "2022-07-15T03:22:16.563372",
     "status": "completed"
    },
    "tags": []
   },
   "source": [
    "Inspect your predictions and actual values from validation data."
   ]
  },
  {
   "cell_type": "code",
   "execution_count": 8,
   "id": "476211c4",
   "metadata": {
    "execution": {
     "iopub.execute_input": "2022-07-15T03:22:16.582091Z",
     "iopub.status.busy": "2022-07-15T03:22:16.581523Z",
     "iopub.status.idle": "2022-07-15T03:22:16.589094Z",
     "shell.execute_reply": "2022-07-15T03:22:16.587161Z"
    },
    "papermill": {
     "duration": 0.018793,
     "end_time": "2022-07-15T03:22:16.591801",
     "exception": false,
     "start_time": "2022-07-15T03:22:16.573008",
     "status": "completed"
    },
    "tags": []
   },
   "outputs": [
    {
     "name": "stdout",
     "output_type": "stream",
     "text": [
      "<learntools.core.constants.PlaceholderValue object at 0x7f855ad47950>\n",
      "<learntools.core.constants.PlaceholderValue object at 0x7f855ad47950>\n"
     ]
    }
   ],
   "source": [
    "# print the top few validation predictions\n",
    "print(____)\n",
    "# print the top few actual prices from validation data\n",
    "print(____)"
   ]
  },
  {
   "cell_type": "markdown",
   "id": "ac5940ed",
   "metadata": {
    "papermill": {
     "duration": 0.004354,
     "end_time": "2022-07-15T03:22:16.600760",
     "exception": false,
     "start_time": "2022-07-15T03:22:16.596406",
     "status": "completed"
    },
    "tags": []
   },
   "source": [
    "What do you notice that is different from what you saw with in-sample predictions (which are printed after the top code cell in this page).\n",
    "\n",
    "Do you remember why validation predictions differ from in-sample (or training) predictions? This is an important idea from the last lesson.\n",
    "\n",
    "## Step 4: Calculate the Mean Absolute Error in Validation Data\n"
   ]
  },
  {
   "cell_type": "code",
   "execution_count": 9,
   "id": "a30b23d3",
   "metadata": {
    "execution": {
     "iopub.execute_input": "2022-07-15T03:22:16.612198Z",
     "iopub.status.busy": "2022-07-15T03:22:16.611537Z",
     "iopub.status.idle": "2022-07-15T03:22:16.620090Z",
     "shell.execute_reply": "2022-07-15T03:22:16.618929Z"
    },
    "papermill": {
     "duration": 0.016953,
     "end_time": "2022-07-15T03:22:16.622297",
     "exception": false,
     "start_time": "2022-07-15T03:22:16.605344",
     "status": "completed"
    },
    "tags": []
   },
   "outputs": [
    {
     "data": {
      "application/javascript": [
       "parent.postMessage({\"jupyterEvent\": \"custom.exercise_interaction\", \"data\": {\"outcomeType\": 4, \"interactionType\": 1, \"questionType\": 1, \"questionId\": \"4_MAE\", \"learnToolsVersion\": \"0.3.4\", \"valueTowardsCompletion\": 0.0, \"failureMessage\": \"\", \"exceptionClass\": \"\", \"trace\": \"\"}}, \"*\")"
      ],
      "text/plain": [
       "<IPython.core.display.Javascript object>"
      ]
     },
     "metadata": {},
     "output_type": "display_data"
    },
    {
     "data": {
      "text/markdown": [
       "<span style=\"color:#ccaa33\">Check:</span> When you've updated the starter code, `check()` will tell you whether your code is correct. You need to update the code that creates variable `val_mae`"
      ],
      "text/plain": [
       "Check: When you've updated the starter code, `check()` will tell you whether your code is correct. You need to update the code that creates variable `val_mae`"
      ]
     },
     "metadata": {},
     "output_type": "display_data"
    }
   ],
   "source": [
    "from sklearn.metrics import mean_absolute_error\n",
    "val_mae = ____\n",
    "\n",
    "# uncomment following line to see the validation_mae\n",
    "#print(val_mae)\n",
    "\n",
    "# Check your answer\n",
    "step_4.check()"
   ]
  },
  {
   "cell_type": "code",
   "execution_count": 10,
   "id": "9937149d",
   "metadata": {
    "execution": {
     "iopub.execute_input": "2022-07-15T03:22:16.635014Z",
     "iopub.status.busy": "2022-07-15T03:22:16.633662Z",
     "iopub.status.idle": "2022-07-15T03:22:16.638441Z",
     "shell.execute_reply": "2022-07-15T03:22:16.637392Z"
    },
    "papermill": {
     "duration": 0.01337,
     "end_time": "2022-07-15T03:22:16.640759",
     "exception": false,
     "start_time": "2022-07-15T03:22:16.627389",
     "status": "completed"
    },
    "tags": []
   },
   "outputs": [],
   "source": [
    "# step_4.hint()\n",
    "# step_4.solution()"
   ]
  },
  {
   "cell_type": "markdown",
   "id": "decbc500",
   "metadata": {
    "papermill": {
     "duration": 0.004686,
     "end_time": "2022-07-15T03:22:16.650525",
     "exception": false,
     "start_time": "2022-07-15T03:22:16.645839",
     "status": "completed"
    },
    "tags": []
   },
   "source": [
    "Is that MAE good?  There isn't a general rule for what values are good that applies across applications. But you'll see how to use (and improve) this number in the next step.\n",
    "\n",
    "# Keep Going\n",
    "\n",
    "You are ready for **[Underfitting and Overfitting](https://www.kaggle.com/dansbecker/underfitting-and-overfitting).**\n"
   ]
  },
  {
   "cell_type": "markdown",
   "id": "df68bfc2",
   "metadata": {
    "papermill": {
     "duration": 0.004585,
     "end_time": "2022-07-15T03:22:16.660040",
     "exception": false,
     "start_time": "2022-07-15T03:22:16.655455",
     "status": "completed"
    },
    "tags": []
   },
   "source": [
    "---\n",
    "\n",
    "\n",
    "\n",
    "\n",
    "*Have questions or comments? Visit the [course discussion forum](https://www.kaggle.com/learn/intro-to-machine-learning/discussion) to chat with other learners.*"
   ]
  }
 ],
 "metadata": {
  "kernelspec": {
   "display_name": "Python 3",
   "language": "python",
   "name": "python3"
  },
  "language_info": {
   "codemirror_mode": {
    "name": "ipython",
    "version": 3
   },
   "file_extension": ".py",
   "mimetype": "text/x-python",
   "name": "python",
   "nbconvert_exporter": "python",
   "pygments_lexer": "ipython3",
   "version": "3.7.12"
  },
  "papermill": {
   "default_parameters": {},
   "duration": 11.442991,
   "end_time": "2022-07-15T03:22:17.387298",
   "environment_variables": {},
   "exception": null,
   "input_path": "__notebook__.ipynb",
   "output_path": "__notebook__.ipynb",
   "parameters": {},
   "start_time": "2022-07-15T03:22:05.944307",
   "version": "2.3.4"
  }
 },
 "nbformat": 4,
 "nbformat_minor": 5
}
