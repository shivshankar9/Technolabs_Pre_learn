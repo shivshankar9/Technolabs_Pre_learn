{
 "cells": [
  {
   "cell_type": "markdown",
   "id": "4248781d",
   "metadata": {
    "papermill": {
     "duration": 0.003831,
     "end_time": "2022-07-15T03:27:24.190258",
     "exception": false,
     "start_time": "2022-07-15T03:27:24.186427",
     "status": "completed"
    },
    "tags": []
   },
   "source": [
    "**This notebook is an exercise in the [Introduction to Machine Learning](https://www.kaggle.com/learn/intro-to-machine-learning) course.  You can reference the tutorial at [this link](https://www.kaggle.com/dansbecker/underfitting-and-overfitting).**\n",
    "\n",
    "---\n"
   ]
  },
  {
   "cell_type": "markdown",
   "id": "0bcf7363",
   "metadata": {
    "papermill": {
     "duration": 0.002707,
     "end_time": "2022-07-15T03:27:24.196169",
     "exception": false,
     "start_time": "2022-07-15T03:27:24.193462",
     "status": "completed"
    },
    "tags": []
   },
   "source": [
    "## Recap\n",
    "You've built your first model, and now it's time to optimize the size of the tree to make better predictions. Run this cell to set up your coding environment where the previous step left off."
   ]
  },
  {
   "cell_type": "code",
   "execution_count": 1,
   "id": "84822d01",
   "metadata": {
    "execution": {
     "iopub.execute_input": "2022-07-15T03:27:24.204127Z",
     "iopub.status.busy": "2022-07-15T03:27:24.203543Z",
     "iopub.status.idle": "2022-07-15T03:27:25.536102Z",
     "shell.execute_reply": "2022-07-15T03:27:25.534975Z"
    },
    "papermill": {
     "duration": 1.339401,
     "end_time": "2022-07-15T03:27:25.538456",
     "exception": false,
     "start_time": "2022-07-15T03:27:24.199055",
     "status": "completed"
    },
    "tags": []
   },
   "outputs": [
    {
     "name": "stdout",
     "output_type": "stream",
     "text": [
      "Validation MAE: 29,653\n",
      "\n",
      "Setup complete\n"
     ]
    }
   ],
   "source": [
    "# Code you have previously used to load data\n",
    "import pandas as pd\n",
    "from sklearn.metrics import mean_absolute_error\n",
    "from sklearn.model_selection import train_test_split\n",
    "from sklearn.tree import DecisionTreeRegressor\n",
    "\n",
    "\n",
    "# Path of the file to read\n",
    "iowa_file_path = '../input/home-data-for-ml-course/train.csv'\n",
    "\n",
    "home_data = pd.read_csv(iowa_file_path)\n",
    "# Create target object and call it y\n",
    "y = home_data.SalePrice\n",
    "# Create X\n",
    "features = ['LotArea', 'YearBuilt', '1stFlrSF', '2ndFlrSF', 'FullBath', 'BedroomAbvGr', 'TotRmsAbvGrd']\n",
    "X = home_data[features]\n",
    "\n",
    "# Split into validation and training data\n",
    "train_X, val_X, train_y, val_y = train_test_split(X, y, random_state=1)\n",
    "\n",
    "# Specify Model\n",
    "iowa_model = DecisionTreeRegressor(random_state=1)\n",
    "# Fit Model\n",
    "iowa_model.fit(train_X, train_y)\n",
    "\n",
    "# Make validation predictions and calculate mean absolute error\n",
    "val_predictions = iowa_model.predict(val_X)\n",
    "val_mae = mean_absolute_error(val_predictions, val_y)\n",
    "print(\"Validation MAE: {:,.0f}\".format(val_mae))\n",
    "\n",
    "# Set up code checking\n",
    "from learntools.core import binder\n",
    "binder.bind(globals())\n",
    "from learntools.machine_learning.ex5 import *\n",
    "print(\"\\nSetup complete\")"
   ]
  },
  {
   "cell_type": "markdown",
   "id": "d8fa8e98",
   "metadata": {
    "papermill": {
     "duration": 0.002707,
     "end_time": "2022-07-15T03:27:25.544335",
     "exception": false,
     "start_time": "2022-07-15T03:27:25.541628",
     "status": "completed"
    },
    "tags": []
   },
   "source": [
    "# Exercises\n",
    "You could write the function `get_mae` yourself. For now, we'll supply it. This is the same function you read about in the previous lesson. Just run the cell below."
   ]
  },
  {
   "cell_type": "code",
   "execution_count": 2,
   "id": "771f54c6",
   "metadata": {
    "execution": {
     "iopub.execute_input": "2022-07-15T03:27:25.552068Z",
     "iopub.status.busy": "2022-07-15T03:27:25.551596Z",
     "iopub.status.idle": "2022-07-15T03:27:25.557092Z",
     "shell.execute_reply": "2022-07-15T03:27:25.555894Z"
    },
    "papermill": {
     "duration": 0.012012,
     "end_time": "2022-07-15T03:27:25.559159",
     "exception": false,
     "start_time": "2022-07-15T03:27:25.547147",
     "status": "completed"
    },
    "tags": []
   },
   "outputs": [],
   "source": [
    "def get_mae(max_leaf_nodes, train_X, val_X, train_y, val_y):\n",
    "    model = DecisionTreeRegressor(max_leaf_nodes=max_leaf_nodes, random_state=0)\n",
    "    model.fit(train_X, train_y)\n",
    "    preds_val = model.predict(val_X)\n",
    "    mae = mean_absolute_error(val_y, preds_val)\n",
    "    return(mae)"
   ]
  },
  {
   "cell_type": "markdown",
   "id": "4ecf240d",
   "metadata": {
    "papermill": {
     "duration": 0.002835,
     "end_time": "2022-07-15T03:27:25.565302",
     "exception": false,
     "start_time": "2022-07-15T03:27:25.562467",
     "status": "completed"
    },
    "tags": []
   },
   "source": [
    "## Step 1: Compare Different Tree Sizes\n",
    "Write a loop that tries the following values for *max_leaf_nodes* from a set of possible values.\n",
    "\n",
    "Call the *get_mae* function on each value of max_leaf_nodes. Store the output in some way that allows you to select the value of `max_leaf_nodes` that gives the most accurate model on your data."
   ]
  },
  {
   "cell_type": "code",
   "execution_count": 3,
   "id": "a4803dff",
   "metadata": {
    "execution": {
     "iopub.execute_input": "2022-07-15T03:27:25.573618Z",
     "iopub.status.busy": "2022-07-15T03:27:25.572945Z",
     "iopub.status.idle": "2022-07-15T03:27:25.619302Z",
     "shell.execute_reply": "2022-07-15T03:27:25.618204Z"
    },
    "papermill": {
     "duration": 0.052915,
     "end_time": "2022-07-15T03:27:25.621479",
     "exception": false,
     "start_time": "2022-07-15T03:27:25.568564",
     "status": "completed"
    },
    "tags": []
   },
   "outputs": [
    {
     "data": {
      "application/javascript": [
       "parent.postMessage({\"jupyterEvent\": \"custom.exercise_interaction\", \"data\": {\"outcomeType\": 1, \"valueTowardsCompletion\": 0.5, \"interactionType\": 1, \"questionType\": 1, \"questionId\": \"1_BestTreeSize\", \"learnToolsVersion\": \"0.3.4\", \"failureMessage\": \"\", \"exceptionClass\": \"\", \"trace\": \"\"}}, \"*\")"
      ],
      "text/plain": [
       "<IPython.core.display.Javascript object>"
      ]
     },
     "metadata": {},
     "output_type": "display_data"
    },
    {
     "data": {
      "text/markdown": [
       "<span style=\"color:#33cc33\">Correct</span>"
      ],
      "text/plain": [
       "Correct"
      ]
     },
     "metadata": {},
     "output_type": "display_data"
    }
   ],
   "source": [
    "candidate_max_leaf_nodes = [5, 25, 50, 100, 250, 500]\n",
    "# Write loop to find the ideal tree size from candidate_max_leaf_nodes\n",
    "_\n",
    "\n",
    "# Store the best value of max_leaf_nodes (it will be either 5, 25, 50, 100, 250 or 500)\n",
    "scores = {leaf_size: get_mae(leaf_size, train_X, val_X, train_y, val_y) for leaf_size in candidate_max_leaf_nodes}\n",
    "best_tree_size = min(scores, key=scores.get)\n",
    "\n",
    "# Check your answer\n",
    "step_1.check()"
   ]
  },
  {
   "cell_type": "code",
   "execution_count": 4,
   "id": "7d665674",
   "metadata": {
    "execution": {
     "iopub.execute_input": "2022-07-15T03:27:25.629837Z",
     "iopub.status.busy": "2022-07-15T03:27:25.629250Z",
     "iopub.status.idle": "2022-07-15T03:27:25.633565Z",
     "shell.execute_reply": "2022-07-15T03:27:25.632679Z"
    },
    "papermill": {
     "duration": 0.01104,
     "end_time": "2022-07-15T03:27:25.635690",
     "exception": false,
     "start_time": "2022-07-15T03:27:25.624650",
     "status": "completed"
    },
    "tags": []
   },
   "outputs": [],
   "source": [
    "# The lines below will show you a hint or the solution.\n",
    "# step_1.hint() \n",
    "#step_1.solution()"
   ]
  },
  {
   "cell_type": "markdown",
   "id": "9804c728",
   "metadata": {
    "papermill": {
     "duration": 0.003195,
     "end_time": "2022-07-15T03:27:25.642570",
     "exception": false,
     "start_time": "2022-07-15T03:27:25.639375",
     "status": "completed"
    },
    "tags": []
   },
   "source": [
    "## Step 2: Fit Model Using All Data\n",
    "You know the best tree size. If you were going to deploy this model in practice, you would make it even more accurate by using all of the data and keeping that tree size.  That is, you don't need to hold out the validation data now that you've made all your modeling decisions."
   ]
  },
  {
   "cell_type": "code",
   "execution_count": 5,
   "id": "39a3e7ee",
   "metadata": {
    "execution": {
     "iopub.execute_input": "2022-07-15T03:27:25.650924Z",
     "iopub.status.busy": "2022-07-15T03:27:25.650307Z",
     "iopub.status.idle": "2022-07-15T03:27:25.667848Z",
     "shell.execute_reply": "2022-07-15T03:27:25.666718Z"
    },
    "papermill": {
     "duration": 0.024372,
     "end_time": "2022-07-15T03:27:25.670075",
     "exception": false,
     "start_time": "2022-07-15T03:27:25.645703",
     "status": "completed"
    },
    "tags": []
   },
   "outputs": [
    {
     "data": {
      "application/javascript": [
       "parent.postMessage({\"jupyterEvent\": \"custom.exercise_interaction\", \"data\": {\"outcomeType\": 1, \"valueTowardsCompletion\": 0.5, \"interactionType\": 1, \"questionType\": 2, \"questionId\": \"2_FitModelWithAllData\", \"learnToolsVersion\": \"0.3.4\", \"failureMessage\": \"\", \"exceptionClass\": \"\", \"trace\": \"\"}}, \"*\")"
      ],
      "text/plain": [
       "<IPython.core.display.Javascript object>"
      ]
     },
     "metadata": {},
     "output_type": "display_data"
    },
    {
     "data": {
      "text/markdown": [
       "<span style=\"color:#33cc33\">Correct</span>"
      ],
      "text/plain": [
       "Correct"
      ]
     },
     "metadata": {},
     "output_type": "display_data"
    }
   ],
   "source": [
    "# Fill in argument to make optimal size and uncomment\n",
    "# final_model = DecisionTreeRegressor(____)\n",
    "\n",
    "# fit the final model and uncomment the next two lines\n",
    "# final_model.fit(____, ____)\n",
    "final_model = DecisionTreeRegressor(max_leaf_nodes=best_tree_size, random_state=1)\n",
    "final_model.fit(X, y)\n",
    "# Check your answer\n",
    "step_2.check()"
   ]
  },
  {
   "cell_type": "code",
   "execution_count": 6,
   "id": "7220baa7",
   "metadata": {
    "execution": {
     "iopub.execute_input": "2022-07-15T03:27:25.678906Z",
     "iopub.status.busy": "2022-07-15T03:27:25.678409Z",
     "iopub.status.idle": "2022-07-15T03:27:25.683102Z",
     "shell.execute_reply": "2022-07-15T03:27:25.681709Z"
    },
    "papermill": {
     "duration": 0.011524,
     "end_time": "2022-07-15T03:27:25.685014",
     "exception": false,
     "start_time": "2022-07-15T03:27:25.673490",
     "status": "completed"
    },
    "tags": []
   },
   "outputs": [],
   "source": [
    "# step_2.hint()\n",
    "#step_2.solution()"
   ]
  },
  {
   "cell_type": "markdown",
   "id": "5a433a05",
   "metadata": {
    "papermill": {
     "duration": 0.003238,
     "end_time": "2022-07-15T03:27:25.691906",
     "exception": false,
     "start_time": "2022-07-15T03:27:25.688668",
     "status": "completed"
    },
    "tags": []
   },
   "source": [
    "You've tuned this model and improved your results. But we are still using Decision Tree models, which are not very sophisticated by modern machine learning standards. In the next step you will learn to use Random Forests to improve your models even more.\n",
    "\n",
    "# Keep Going\n",
    "\n",
    "You are ready for **[Random Forests](https://www.kaggle.com/dansbecker/random-forests).**\n"
   ]
  },
  {
   "cell_type": "markdown",
   "id": "3f3eb39a",
   "metadata": {
    "papermill": {
     "duration": 0.003239,
     "end_time": "2022-07-15T03:27:25.698874",
     "exception": false,
     "start_time": "2022-07-15T03:27:25.695635",
     "status": "completed"
    },
    "tags": []
   },
   "source": [
    "---\n",
    "\n",
    "\n",
    "\n",
    "\n",
    "*Have questions or comments? Visit the [course discussion forum](https://www.kaggle.com/learn/intro-to-machine-learning/discussion) to chat with other learners.*"
   ]
  }
 ],
 "metadata": {
  "kernelspec": {
   "display_name": "Python 3",
   "language": "python",
   "name": "python3"
  },
  "language_info": {
   "codemirror_mode": {
    "name": "ipython",
    "version": 3
   },
   "file_extension": ".py",
   "mimetype": "text/x-python",
   "name": "python",
   "nbconvert_exporter": "python",
   "pygments_lexer": "ipython3",
   "version": "3.7.12"
  },
  "papermill": {
   "default_parameters": {},
   "duration": 10.990763,
   "end_time": "2022-07-15T03:27:26.423382",
   "environment_variables": {},
   "exception": null,
   "input_path": "__notebook__.ipynb",
   "output_path": "__notebook__.ipynb",
   "parameters": {},
   "start_time": "2022-07-15T03:27:15.432619",
   "version": "2.3.4"
  }
 },
 "nbformat": 4,
 "nbformat_minor": 5
}
