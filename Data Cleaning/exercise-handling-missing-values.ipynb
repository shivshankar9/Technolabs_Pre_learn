{
 "cells": [
  {
   "cell_type": "markdown",
   "id": "e84c440d",
   "metadata": {
    "papermill": {
     "duration": 0.008591,
     "end_time": "2022-07-09T05:28:24.993219",
     "exception": false,
     "start_time": "2022-07-09T05:28:24.984628",
     "status": "completed"
    },
    "tags": []
   },
   "source": []
  },
  {
   "cell_type": "markdown",
   "id": "497895f0",
   "metadata": {
    "papermill": {
     "duration": 0.007468,
     "end_time": "2022-07-09T05:28:25.008410",
     "exception": false,
     "start_time": "2022-07-09T05:28:25.000942",
     "status": "completed"
    },
    "tags": []
   },
   "source": [
    "In this exercise, you'll apply what you learned in the **Handling missing values** tutorial.\n",
    "\n",
    "# Setup\n",
    "\n",
    "The questions below will give you feedback on your work. Run the following cell to set up the feedback system."
   ]
  },
  {
   "cell_type": "code",
   "execution_count": 1,
   "id": "9fab0fa1",
   "metadata": {
    "execution": {
     "iopub.execute_input": "2022-07-09T05:28:25.025238Z",
     "iopub.status.busy": "2022-07-09T05:28:25.024700Z",
     "iopub.status.idle": "2022-07-09T05:28:30.030021Z",
     "shell.execute_reply": "2022-07-09T05:28:30.028357Z"
    },
    "papermill": {
     "duration": 5.017048,
     "end_time": "2022-07-09T05:28:30.032719",
     "exception": false,
     "start_time": "2022-07-09T05:28:25.015671",
     "status": "completed"
    },
    "tags": []
   },
   "outputs": [
    {
     "name": "stderr",
     "output_type": "stream",
     "text": [
      "/opt/conda/lib/python3.7/site-packages/ipykernel_launcher.py:3: DtypeWarning: Columns (22,32) have mixed types.Specify dtype option on import or set low_memory=False.\n",
      "  This is separate from the ipykernel package so we can avoid doing imports until\n"
     ]
    },
    {
     "name": "stdout",
     "output_type": "stream",
     "text": [
      "Setup Complete\n"
     ]
    }
   ],
   "source": [
    "from learntools.core import binder\n",
    "binder.bind(globals())\n",
    "from learntools.data_cleaning.ex1 import *\n",
    "print(\"Setup Complete\")\n"
   ]
  },
  {
   "cell_type": "markdown",
   "id": "fc894c30",
   "metadata": {
    "papermill": {
     "duration": 0.007258,
     "end_time": "2022-07-09T05:28:30.047570",
     "exception": false,
     "start_time": "2022-07-09T05:28:30.040312",
     "status": "completed"
    },
    "tags": []
   },
   "source": [
    "# 1) Take a first look at the data\n",
    "\n",
    "Run the next code cell to load in the libraries and dataset you'll use to complete the exercise."
   ]
  },
  {
   "cell_type": "code",
   "execution_count": 2,
   "id": "980e6af7",
   "metadata": {
    "execution": {
     "iopub.execute_input": "2022-07-09T05:28:30.063692Z",
     "iopub.status.busy": "2022-07-09T05:28:30.063334Z",
     "iopub.status.idle": "2022-07-09T05:28:31.914970Z",
     "shell.execute_reply": "2022-07-09T05:28:31.913796Z"
    },
    "papermill": {
     "duration": 1.863169,
     "end_time": "2022-07-09T05:28:31.918177",
     "exception": false,
     "start_time": "2022-07-09T05:28:30.055008",
     "status": "completed"
    },
    "tags": []
   },
   "outputs": [
    {
     "name": "stderr",
     "output_type": "stream",
     "text": [
      "/opt/conda/lib/python3.7/site-packages/IPython/core/interactiveshell.py:3552: DtypeWarning: Columns (22,32) have mixed types.Specify dtype option on import or set low_memory=False.\n",
      "  exec(code_obj, self.user_global_ns, self.user_ns)\n"
     ]
    }
   ],
   "source": [
    "# modules we'll use\n",
    "import pandas as pd\n",
    "import numpy as np\n",
    "\n",
    "# read in all our data\n",
    "sf_permits = pd.read_csv(\"../input/building-permit-applications-data/Building_Permits.csv\")\n",
    "\n",
    "# set seed for reproducibility\n",
    "np.random.seed(0) "
   ]
  },
  {
   "cell_type": "markdown",
   "id": "33beea3e",
   "metadata": {
    "papermill": {
     "duration": 0.008012,
     "end_time": "2022-07-09T05:28:31.934416",
     "exception": false,
     "start_time": "2022-07-09T05:28:31.926404",
     "status": "completed"
    },
    "tags": []
   },
   "source": [
    "Use the code cell below to print the first five rows of the `sf_permits` DataFrame."
   ]
  },
  {
   "cell_type": "code",
   "execution_count": 3,
   "id": "858e6757",
   "metadata": {
    "execution": {
     "iopub.execute_input": "2022-07-09T05:28:31.953793Z",
     "iopub.status.busy": "2022-07-09T05:28:31.953411Z",
     "iopub.status.idle": "2022-07-09T05:28:31.990675Z",
     "shell.execute_reply": "2022-07-09T05:28:31.989183Z"
    },
    "papermill": {
     "duration": 0.051032,
     "end_time": "2022-07-09T05:28:31.993823",
     "exception": false,
     "start_time": "2022-07-09T05:28:31.942791",
     "status": "completed"
    },
    "tags": []
   },
   "outputs": [
    {
     "data": {
      "text/html": [
       "<div>\n",
       "<style scoped>\n",
       "    .dataframe tbody tr th:only-of-type {\n",
       "        vertical-align: middle;\n",
       "    }\n",
       "\n",
       "    .dataframe tbody tr th {\n",
       "        vertical-align: top;\n",
       "    }\n",
       "\n",
       "    .dataframe thead th {\n",
       "        text-align: right;\n",
       "    }\n",
       "</style>\n",
       "<table border=\"1\" class=\"dataframe\">\n",
       "  <thead>\n",
       "    <tr style=\"text-align: right;\">\n",
       "      <th></th>\n",
       "      <th>Permit Number</th>\n",
       "      <th>Permit Type</th>\n",
       "      <th>Permit Type Definition</th>\n",
       "      <th>Permit Creation Date</th>\n",
       "      <th>Block</th>\n",
       "      <th>Lot</th>\n",
       "      <th>Street Number</th>\n",
       "      <th>Street Number Suffix</th>\n",
       "      <th>Street Name</th>\n",
       "      <th>Street Suffix</th>\n",
       "      <th>...</th>\n",
       "      <th>Existing Construction Type</th>\n",
       "      <th>Existing Construction Type Description</th>\n",
       "      <th>Proposed Construction Type</th>\n",
       "      <th>Proposed Construction Type Description</th>\n",
       "      <th>Site Permit</th>\n",
       "      <th>Supervisor District</th>\n",
       "      <th>Neighborhoods - Analysis Boundaries</th>\n",
       "      <th>Zipcode</th>\n",
       "      <th>Location</th>\n",
       "      <th>Record ID</th>\n",
       "    </tr>\n",
       "  </thead>\n",
       "  <tbody>\n",
       "    <tr>\n",
       "      <th>0</th>\n",
       "      <td>201505065519</td>\n",
       "      <td>4</td>\n",
       "      <td>sign - erect</td>\n",
       "      <td>05/06/2015</td>\n",
       "      <td>0326</td>\n",
       "      <td>023</td>\n",
       "      <td>140</td>\n",
       "      <td>NaN</td>\n",
       "      <td>Ellis</td>\n",
       "      <td>St</td>\n",
       "      <td>...</td>\n",
       "      <td>3.0</td>\n",
       "      <td>constr type 3</td>\n",
       "      <td>NaN</td>\n",
       "      <td>NaN</td>\n",
       "      <td>NaN</td>\n",
       "      <td>3.0</td>\n",
       "      <td>Tenderloin</td>\n",
       "      <td>94102.0</td>\n",
       "      <td>(37.785719256680785, -122.40852313194863)</td>\n",
       "      <td>1380611233945</td>\n",
       "    </tr>\n",
       "    <tr>\n",
       "      <th>1</th>\n",
       "      <td>201604195146</td>\n",
       "      <td>4</td>\n",
       "      <td>sign - erect</td>\n",
       "      <td>04/19/2016</td>\n",
       "      <td>0306</td>\n",
       "      <td>007</td>\n",
       "      <td>440</td>\n",
       "      <td>NaN</td>\n",
       "      <td>Geary</td>\n",
       "      <td>St</td>\n",
       "      <td>...</td>\n",
       "      <td>3.0</td>\n",
       "      <td>constr type 3</td>\n",
       "      <td>NaN</td>\n",
       "      <td>NaN</td>\n",
       "      <td>NaN</td>\n",
       "      <td>3.0</td>\n",
       "      <td>Tenderloin</td>\n",
       "      <td>94102.0</td>\n",
       "      <td>(37.78733980600732, -122.41063199757738)</td>\n",
       "      <td>1420164406718</td>\n",
       "    </tr>\n",
       "    <tr>\n",
       "      <th>2</th>\n",
       "      <td>201605278609</td>\n",
       "      <td>3</td>\n",
       "      <td>additions alterations or repairs</td>\n",
       "      <td>05/27/2016</td>\n",
       "      <td>0595</td>\n",
       "      <td>203</td>\n",
       "      <td>1647</td>\n",
       "      <td>NaN</td>\n",
       "      <td>Pacific</td>\n",
       "      <td>Av</td>\n",
       "      <td>...</td>\n",
       "      <td>1.0</td>\n",
       "      <td>constr type 1</td>\n",
       "      <td>1.0</td>\n",
       "      <td>constr type 1</td>\n",
       "      <td>NaN</td>\n",
       "      <td>3.0</td>\n",
       "      <td>Russian Hill</td>\n",
       "      <td>94109.0</td>\n",
       "      <td>(37.7946573324287, -122.42232562979227)</td>\n",
       "      <td>1424856504716</td>\n",
       "    </tr>\n",
       "    <tr>\n",
       "      <th>3</th>\n",
       "      <td>201611072166</td>\n",
       "      <td>8</td>\n",
       "      <td>otc alterations permit</td>\n",
       "      <td>11/07/2016</td>\n",
       "      <td>0156</td>\n",
       "      <td>011</td>\n",
       "      <td>1230</td>\n",
       "      <td>NaN</td>\n",
       "      <td>Pacific</td>\n",
       "      <td>Av</td>\n",
       "      <td>...</td>\n",
       "      <td>5.0</td>\n",
       "      <td>wood frame (5)</td>\n",
       "      <td>5.0</td>\n",
       "      <td>wood frame (5)</td>\n",
       "      <td>NaN</td>\n",
       "      <td>3.0</td>\n",
       "      <td>Nob Hill</td>\n",
       "      <td>94109.0</td>\n",
       "      <td>(37.79595867909168, -122.41557405519474)</td>\n",
       "      <td>1443574295566</td>\n",
       "    </tr>\n",
       "    <tr>\n",
       "      <th>4</th>\n",
       "      <td>201611283529</td>\n",
       "      <td>6</td>\n",
       "      <td>demolitions</td>\n",
       "      <td>11/28/2016</td>\n",
       "      <td>0342</td>\n",
       "      <td>001</td>\n",
       "      <td>950</td>\n",
       "      <td>NaN</td>\n",
       "      <td>Market</td>\n",
       "      <td>St</td>\n",
       "      <td>...</td>\n",
       "      <td>3.0</td>\n",
       "      <td>constr type 3</td>\n",
       "      <td>NaN</td>\n",
       "      <td>NaN</td>\n",
       "      <td>NaN</td>\n",
       "      <td>6.0</td>\n",
       "      <td>Tenderloin</td>\n",
       "      <td>94102.0</td>\n",
       "      <td>(37.78315261897309, -122.40950883997789)</td>\n",
       "      <td>144548169992</td>\n",
       "    </tr>\n",
       "  </tbody>\n",
       "</table>\n",
       "<p>5 rows × 43 columns</p>\n",
       "</div>"
      ],
      "text/plain": [
       "  Permit Number  Permit Type            Permit Type Definition  \\\n",
       "0  201505065519            4                      sign - erect   \n",
       "1  201604195146            4                      sign - erect   \n",
       "2  201605278609            3  additions alterations or repairs   \n",
       "3  201611072166            8            otc alterations permit   \n",
       "4  201611283529            6                       demolitions   \n",
       "\n",
       "  Permit Creation Date Block  Lot  Street Number Street Number Suffix  \\\n",
       "0           05/06/2015  0326  023            140                  NaN   \n",
       "1           04/19/2016  0306  007            440                  NaN   \n",
       "2           05/27/2016  0595  203           1647                  NaN   \n",
       "3           11/07/2016  0156  011           1230                  NaN   \n",
       "4           11/28/2016  0342  001            950                  NaN   \n",
       "\n",
       "  Street Name Street Suffix  ...  Existing Construction Type  \\\n",
       "0       Ellis            St  ...                         3.0   \n",
       "1       Geary            St  ...                         3.0   \n",
       "2     Pacific            Av  ...                         1.0   \n",
       "3     Pacific            Av  ...                         5.0   \n",
       "4      Market            St  ...                         3.0   \n",
       "\n",
       "  Existing Construction Type Description Proposed Construction Type  \\\n",
       "0                          constr type 3                        NaN   \n",
       "1                          constr type 3                        NaN   \n",
       "2                          constr type 1                        1.0   \n",
       "3                         wood frame (5)                        5.0   \n",
       "4                          constr type 3                        NaN   \n",
       "\n",
       "  Proposed Construction Type Description Site Permit Supervisor District  \\\n",
       "0                                    NaN         NaN                 3.0   \n",
       "1                                    NaN         NaN                 3.0   \n",
       "2                          constr type 1         NaN                 3.0   \n",
       "3                         wood frame (5)         NaN                 3.0   \n",
       "4                                    NaN         NaN                 6.0   \n",
       "\n",
       "  Neighborhoods - Analysis Boundaries  Zipcode  \\\n",
       "0                          Tenderloin  94102.0   \n",
       "1                          Tenderloin  94102.0   \n",
       "2                        Russian Hill  94109.0   \n",
       "3                            Nob Hill  94109.0   \n",
       "4                          Tenderloin  94102.0   \n",
       "\n",
       "                                    Location      Record ID  \n",
       "0  (37.785719256680785, -122.40852313194863)  1380611233945  \n",
       "1   (37.78733980600732, -122.41063199757738)  1420164406718  \n",
       "2    (37.7946573324287, -122.42232562979227)  1424856504716  \n",
       "3   (37.79595867909168, -122.41557405519474)  1443574295566  \n",
       "4   (37.78315261897309, -122.40950883997789)   144548169992  \n",
       "\n",
       "[5 rows x 43 columns]"
      ]
     },
     "execution_count": 3,
     "metadata": {},
     "output_type": "execute_result"
    }
   ],
   "source": [
    "# TODO: Your code here!\n",
    "sf_permits.head()"
   ]
  },
  {
   "cell_type": "markdown",
   "id": "ee3d22c3",
   "metadata": {
    "papermill": {
     "duration": 0.00991,
     "end_time": "2022-07-09T05:28:32.012280",
     "exception": false,
     "start_time": "2022-07-09T05:28:32.002370",
     "status": "completed"
    },
    "tags": []
   },
   "source": [
    "Does the dataset have any missing values?  Once you have an answer, run the code cell below to get credit for your work."
   ]
  },
  {
   "cell_type": "code",
   "execution_count": 4,
   "id": "9e2d5811",
   "metadata": {
    "execution": {
     "iopub.execute_input": "2022-07-09T05:28:32.031497Z",
     "iopub.status.busy": "2022-07-09T05:28:32.031139Z",
     "iopub.status.idle": "2022-07-09T05:28:32.041165Z",
     "shell.execute_reply": "2022-07-09T05:28:32.039799Z"
    },
    "papermill": {
     "duration": 0.02272,
     "end_time": "2022-07-09T05:28:32.043637",
     "exception": false,
     "start_time": "2022-07-09T05:28:32.020917",
     "status": "completed"
    },
    "tags": []
   },
   "outputs": [
    {
     "data": {
      "application/javascript": "parent.postMessage({\"jupyterEvent\": \"custom.exercise_interaction\", \"data\": {\"outcomeType\": 1, \"valueTowardsCompletion\": 0.16666666666666666, \"interactionType\": 1, \"questionType\": 4, \"questionId\": \"1_TakeFirstLook\", \"learnToolsVersion\": \"0.3.4\", \"failureMessage\": \"\", \"exceptionClass\": \"\", \"trace\": \"\"}}, \"*\")",
      "text/plain": [
       "<IPython.core.display.Javascript object>"
      ]
     },
     "metadata": {},
     "output_type": "display_data"
    },
    {
     "data": {
      "text/markdown": [
       "<span style=\"color:#33cc33\">Correct:</span> \n",
       "\n",
       "The first five rows of the data does show that several columns have missing values.  You can see this in the \"Street Number Suffix\", \"Proposed Construction Type\" and \"Site Permit\" columns, among others."
      ],
      "text/plain": [
       "Correct: \n",
       "\n",
       "The first five rows of the data does show that several columns have missing values.  You can see this in the \"Street Number Suffix\", \"Proposed Construction Type\" and \"Site Permit\" columns, among others."
      ]
     },
     "metadata": {},
     "output_type": "display_data"
    }
   ],
   "source": [
    "# Check your answer (Run this code cell to receive credit!)\n",
    "q1.check()"
   ]
  },
  {
   "cell_type": "code",
   "execution_count": 5,
   "id": "9e28939c",
   "metadata": {
    "execution": {
     "iopub.execute_input": "2022-07-09T05:28:32.062216Z",
     "iopub.status.busy": "2022-07-09T05:28:32.061824Z",
     "iopub.status.idle": "2022-07-09T05:28:32.066553Z",
     "shell.execute_reply": "2022-07-09T05:28:32.065180Z"
    },
    "papermill": {
     "duration": 0.017484,
     "end_time": "2022-07-09T05:28:32.069454",
     "exception": false,
     "start_time": "2022-07-09T05:28:32.051970",
     "status": "completed"
    },
    "tags": []
   },
   "outputs": [],
   "source": [
    "# Line below will give you a hint\n",
    "#q1.hint()"
   ]
  },
  {
   "cell_type": "markdown",
   "id": "19873246",
   "metadata": {
    "papermill": {
     "duration": 0.008655,
     "end_time": "2022-07-09T05:28:32.087273",
     "exception": false,
     "start_time": "2022-07-09T05:28:32.078618",
     "status": "completed"
    },
    "tags": []
   },
   "source": [
    "# 2) How many missing data points do we have?\n",
    "\n",
    "What percentage of the values in the dataset are missing?  Your answer should be a number between 0 and 100.  (If 1/4 of the values in the dataset are missing, the answer is 25.)"
   ]
  },
  {
   "cell_type": "code",
   "execution_count": 6,
   "id": "b0b3597d",
   "metadata": {
    "execution": {
     "iopub.execute_input": "2022-07-09T05:28:32.108130Z",
     "iopub.status.busy": "2022-07-09T05:28:32.107742Z",
     "iopub.status.idle": "2022-07-09T05:28:32.609739Z",
     "shell.execute_reply": "2022-07-09T05:28:32.608239Z"
    },
    "papermill": {
     "duration": 0.514776,
     "end_time": "2022-07-09T05:28:32.612257",
     "exception": false,
     "start_time": "2022-07-09T05:28:32.097481",
     "status": "completed"
    },
    "tags": []
   },
   "outputs": [
    {
     "name": "stdout",
     "output_type": "stream",
     "text": [
      "26.26002315058403\n"
     ]
    },
    {
     "data": {
      "application/javascript": "parent.postMessage({\"jupyterEvent\": \"custom.exercise_interaction\", \"data\": {\"outcomeType\": 1, \"valueTowardsCompletion\": 0.16666666666666666, \"interactionType\": 1, \"questionType\": 1, \"questionId\": \"2_PercentMissingValues\", \"learnToolsVersion\": \"0.3.4\", \"failureMessage\": \"\", \"exceptionClass\": \"\", \"trace\": \"\"}}, \"*\")",
      "text/plain": [
       "<IPython.core.display.Javascript object>"
      ]
     },
     "metadata": {},
     "output_type": "display_data"
    },
    {
     "data": {
      "text/markdown": [
       "<span style=\"color:#33cc33\">Correct</span>"
      ],
      "text/plain": [
       "Correct"
      ]
     },
     "metadata": {},
     "output_type": "display_data"
    }
   ],
   "source": [
    "# TODO: Your code here!\n",
    "missing_values_count=sf_permits.isnull().sum()\n",
    "total_cells=np.product(sf_permits.shape)\n",
    "total_missing=missing_values_count.sum()\n",
    "percent_missing = (total_missing/total_cells)*100\n",
    "print(percent_missing)\n",
    "\n",
    "# Check your answer\n",
    "q2.check()"
   ]
  },
  {
   "cell_type": "code",
   "execution_count": 7,
   "id": "cb758770",
   "metadata": {
    "execution": {
     "iopub.execute_input": "2022-07-09T05:28:32.632290Z",
     "iopub.status.busy": "2022-07-09T05:28:32.631825Z",
     "iopub.status.idle": "2022-07-09T05:28:32.637441Z",
     "shell.execute_reply": "2022-07-09T05:28:32.635981Z"
    },
    "papermill": {
     "duration": 0.018639,
     "end_time": "2022-07-09T05:28:32.639966",
     "exception": false,
     "start_time": "2022-07-09T05:28:32.621327",
     "status": "completed"
    },
    "tags": []
   },
   "outputs": [],
   "source": [
    "# Lines below will give you a hint or solution code\n",
    "#q2.hint()\n",
    "#q2.solution()"
   ]
  },
  {
   "cell_type": "markdown",
   "id": "eeb15afb",
   "metadata": {
    "papermill": {
     "duration": 0.008552,
     "end_time": "2022-07-09T05:28:32.657444",
     "exception": false,
     "start_time": "2022-07-09T05:28:32.648892",
     "status": "completed"
    },
    "tags": []
   },
   "source": [
    "# 3) Figure out why the data is missing\n",
    "\n",
    "Look at the columns **\"Street Number Suffix\"** and **\"Zipcode\"** from the [San Francisco Building Permits dataset](https://www.kaggle.com/aparnashastry/building-permit-applications-data). Both of these contain missing values. \n",
    "- Which, if either, are missing because they don't exist? \n",
    "- Which, if either, are missing because they weren't recorded?  \n",
    "\n",
    "Once you have an answer, run the code cell below."
   ]
  },
  {
   "cell_type": "code",
   "execution_count": 8,
   "id": "3ce4cc09",
   "metadata": {
    "execution": {
     "iopub.execute_input": "2022-07-09T05:28:32.678626Z",
     "iopub.status.busy": "2022-07-09T05:28:32.678203Z",
     "iopub.status.idle": "2022-07-09T05:28:32.702068Z",
     "shell.execute_reply": "2022-07-09T05:28:32.700621Z"
    },
    "papermill": {
     "duration": 0.037123,
     "end_time": "2022-07-09T05:28:32.704500",
     "exception": false,
     "start_time": "2022-07-09T05:28:32.667377",
     "status": "completed"
    },
    "tags": []
   },
   "outputs": [
    {
     "name": "stdout",
     "output_type": "stream",
     "text": [
      "       Street Number Suffix  Zipcode\n",
      "0                       NaN  94102.0\n",
      "1                       NaN  94102.0\n",
      "2                       NaN  94109.0\n",
      "3                       NaN  94109.0\n",
      "4                       NaN  94102.0\n",
      "...                     ...      ...\n",
      "198895                  NaN      NaN\n",
      "198896                  NaN      NaN\n",
      "198897                  NaN      NaN\n",
      "198898                  NaN      NaN\n",
      "198899                  NaN      NaN\n",
      "\n",
      "[198900 rows x 2 columns]\n"
     ]
    },
    {
     "data": {
      "application/javascript": "parent.postMessage({\"jupyterEvent\": \"custom.exercise_interaction\", \"data\": {\"outcomeType\": 1, \"valueTowardsCompletion\": 0.16666666666666666, \"interactionType\": 1, \"questionType\": 4, \"questionId\": \"3_WhyDataMissing\", \"learnToolsVersion\": \"0.3.4\", \"failureMessage\": \"\", \"exceptionClass\": \"\", \"trace\": \"\"}}, \"*\")",
      "text/plain": [
       "<IPython.core.display.Javascript object>"
      ]
     },
     "metadata": {},
     "output_type": "display_data"
    },
    {
     "data": {
      "text/markdown": [
       "<span style=\"color:#33cc33\">Correct:</span> \n",
       "\n",
       "If a value in the \"Street Number Suffix\" column is missing, it is likely because it does not exist. If a value in the \"Zipcode\" column is missing, it was not recorded."
      ],
      "text/plain": [
       "Correct: \n",
       "\n",
       "If a value in the \"Street Number Suffix\" column is missing, it is likely because it does not exist. If a value in the \"Zipcode\" column is missing, it was not recorded."
      ]
     },
     "metadata": {},
     "output_type": "display_data"
    }
   ],
   "source": [
    "# Check your answer (Run this code cell to receive credit!)\n",
    "\n",
    "col=[\"Street Number Suffix\",\"Zipcode\"]\n",
    "print(sf_permits.loc[:,col])\n",
    "q3.check()"
   ]
  },
  {
   "cell_type": "code",
   "execution_count": 9,
   "id": "5dc63b0f",
   "metadata": {
    "execution": {
     "iopub.execute_input": "2022-07-09T05:28:32.723786Z",
     "iopub.status.busy": "2022-07-09T05:28:32.723147Z",
     "iopub.status.idle": "2022-07-09T05:28:32.728290Z",
     "shell.execute_reply": "2022-07-09T05:28:32.727111Z"
    },
    "papermill": {
     "duration": 0.017292,
     "end_time": "2022-07-09T05:28:32.730586",
     "exception": false,
     "start_time": "2022-07-09T05:28:32.713294",
     "status": "completed"
    },
    "tags": []
   },
   "outputs": [],
   "source": [
    "# Line below will give you a hint\n",
    "#q3.hint()"
   ]
  },
  {
   "cell_type": "markdown",
   "id": "98afc932",
   "metadata": {
    "papermill": {
     "duration": 0.008233,
     "end_time": "2022-07-09T05:28:32.747531",
     "exception": false,
     "start_time": "2022-07-09T05:28:32.739298",
     "status": "completed"
    },
    "tags": []
   },
   "source": [
    "# 4) Drop missing values: rows\n",
    "\n",
    "If you removed all of the rows of `sf_permits` with missing values, how many rows are left?\n",
    "\n",
    "**Note**: Do not change the value of `sf_permits` when checking this.  "
   ]
  },
  {
   "cell_type": "code",
   "execution_count": 10,
   "id": "47d5fb9c",
   "metadata": {
    "execution": {
     "iopub.execute_input": "2022-07-09T05:28:32.766839Z",
     "iopub.status.busy": "2022-07-09T05:28:32.765906Z",
     "iopub.status.idle": "2022-07-09T05:28:33.266686Z",
     "shell.execute_reply": "2022-07-09T05:28:33.264755Z"
    },
    "papermill": {
     "duration": 0.513268,
     "end_time": "2022-07-09T05:28:33.269401",
     "exception": false,
     "start_time": "2022-07-09T05:28:32.756133",
     "status": "completed"
    },
    "tags": []
   },
   "outputs": [
    {
     "name": "stdout",
     "output_type": "stream",
     "text": [
      "(0, 43)\n"
     ]
    }
   ],
   "source": [
    "# TODO: Your code here!\n",
    "print(sf_permits.dropna().shape)"
   ]
  },
  {
   "cell_type": "markdown",
   "id": "71e498f5",
   "metadata": {
    "papermill": {
     "duration": 0.008328,
     "end_time": "2022-07-09T05:28:33.286784",
     "exception": false,
     "start_time": "2022-07-09T05:28:33.278456",
     "status": "completed"
    },
    "tags": []
   },
   "source": [
    "Once you have an answer, run the code cell below."
   ]
  },
  {
   "cell_type": "code",
   "execution_count": 11,
   "id": "907d5c8c",
   "metadata": {
    "execution": {
     "iopub.execute_input": "2022-07-09T05:28:33.305586Z",
     "iopub.status.busy": "2022-07-09T05:28:33.305220Z",
     "iopub.status.idle": "2022-07-09T05:28:33.315046Z",
     "shell.execute_reply": "2022-07-09T05:28:33.313706Z"
    },
    "papermill": {
     "duration": 0.022125,
     "end_time": "2022-07-09T05:28:33.317433",
     "exception": false,
     "start_time": "2022-07-09T05:28:33.295308",
     "status": "completed"
    },
    "tags": []
   },
   "outputs": [
    {
     "data": {
      "application/javascript": "parent.postMessage({\"jupyterEvent\": \"custom.exercise_interaction\", \"data\": {\"outcomeType\": 1, \"valueTowardsCompletion\": 0.16666666666666666, \"interactionType\": 1, \"questionType\": 4, \"questionId\": \"4_DropMissingRows\", \"learnToolsVersion\": \"0.3.4\", \"failureMessage\": \"\", \"exceptionClass\": \"\", \"trace\": \"\"}}, \"*\")",
      "text/plain": [
       "<IPython.core.display.Javascript object>"
      ]
     },
     "metadata": {},
     "output_type": "display_data"
    },
    {
     "data": {
      "text/markdown": [
       "<span style=\"color:#33cc33\">Correct:</span> \n",
       "\n",
       "There are no rows remaining in the dataset!"
      ],
      "text/plain": [
       "Correct: \n",
       "\n",
       "There are no rows remaining in the dataset!"
      ]
     },
     "metadata": {},
     "output_type": "display_data"
    }
   ],
   "source": [
    "# Check your answer (Run this code cell to receive credit!)\n",
    "q4.check()"
   ]
  },
  {
   "cell_type": "code",
   "execution_count": 12,
   "id": "ff11a577",
   "metadata": {
    "execution": {
     "iopub.execute_input": "2022-07-09T05:28:33.339388Z",
     "iopub.status.busy": "2022-07-09T05:28:33.338931Z",
     "iopub.status.idle": "2022-07-09T05:28:33.342867Z",
     "shell.execute_reply": "2022-07-09T05:28:33.342032Z"
    },
    "papermill": {
     "duration": 0.018228,
     "end_time": "2022-07-09T05:28:33.345374",
     "exception": false,
     "start_time": "2022-07-09T05:28:33.327146",
     "status": "completed"
    },
    "tags": []
   },
   "outputs": [],
   "source": [
    "# Line below will give you a hint\n",
    "#q4.hint()"
   ]
  },
  {
   "cell_type": "markdown",
   "id": "7b4685ca",
   "metadata": {
    "papermill": {
     "duration": 0.009237,
     "end_time": "2022-07-09T05:28:33.365559",
     "exception": false,
     "start_time": "2022-07-09T05:28:33.356322",
     "status": "completed"
    },
    "tags": []
   },
   "source": [
    "# 5) Drop missing values: columns\n",
    "\n",
    "Now try removing all the columns with empty values.  \n",
    "- Create a new DataFrame called `sf_permits_with_na_dropped` that has all of the columns with empty values removed.  \n",
    "- How many columns were removed from the original `sf_permits` DataFrame? Use this number to set the value of the `dropped_columns` variable below."
   ]
  },
  {
   "cell_type": "code",
   "execution_count": 13,
   "id": "9d94ffcb",
   "metadata": {
    "execution": {
     "iopub.execute_input": "2022-07-09T05:28:33.385927Z",
     "iopub.status.busy": "2022-07-09T05:28:33.385544Z",
     "iopub.status.idle": "2022-07-09T05:28:33.905647Z",
     "shell.execute_reply": "2022-07-09T05:28:33.904113Z"
    },
    "papermill": {
     "duration": 0.533788,
     "end_time": "2022-07-09T05:28:33.908686",
     "exception": false,
     "start_time": "2022-07-09T05:28:33.374898",
     "status": "completed"
    },
    "tags": []
   },
   "outputs": [
    {
     "name": "stdout",
     "output_type": "stream",
     "text": [
      "       Permit Number  Permit Type            Permit Type Definition  \\\n",
      "0       201505065519            4                      sign - erect   \n",
      "1       201604195146            4                      sign - erect   \n",
      "2       201605278609            3  additions alterations or repairs   \n",
      "3       201611072166            8            otc alterations permit   \n",
      "4       201611283529            6                       demolitions   \n",
      "...              ...          ...                               ...   \n",
      "198895       M862628            8            otc alterations permit   \n",
      "198896  201712055595            8            otc alterations permit   \n",
      "198897       M863507            8            otc alterations permit   \n",
      "198898       M863747            8            otc alterations permit   \n",
      "198899       M864287            8            otc alterations permit   \n",
      "\n",
      "       Permit Creation Date Block   Lot  Street Number Street Name  \\\n",
      "0                05/06/2015  0326   023            140       Ellis   \n",
      "1                04/19/2016  0306   007            440       Geary   \n",
      "2                05/27/2016  0595   203           1647     Pacific   \n",
      "3                11/07/2016  0156   011           1230     Pacific   \n",
      "4                11/28/2016  0342   001            950      Market   \n",
      "...                     ...   ...   ...            ...         ...   \n",
      "198895           12/05/2017  0113  017A           1228  Montgomery   \n",
      "198896           12/05/2017  0271   014            580        Bush   \n",
      "198897           12/06/2017  4318   019           1568     Indiana   \n",
      "198898           12/06/2017  0298   029            795      Sutter   \n",
      "198899           12/07/2017  0160   006            838     Pacific   \n",
      "\n",
      "       Current Status Current Status Date  Filed Date      Record ID  \n",
      "0             expired          12/21/2017  05/06/2015  1380611233945  \n",
      "1              issued          08/03/2017  04/19/2016  1420164406718  \n",
      "2           withdrawn          09/26/2017  05/27/2016  1424856504716  \n",
      "3            complete          07/24/2017  11/07/2016  1443574295566  \n",
      "4              issued          12/01/2017  11/28/2016   144548169992  \n",
      "...               ...                 ...         ...            ...  \n",
      "198895         issued          12/05/2017  12/05/2017  1489337276729  \n",
      "198896         issued          12/06/2017  12/05/2017  1489462354993  \n",
      "198897         issued          12/06/2017  12/06/2017  1489539379952  \n",
      "198898         issued          12/06/2017  12/06/2017  1489608233656  \n",
      "198899         issued          12/07/2017  12/07/2017  1489796283803  \n",
      "\n",
      "[198900 rows x 12 columns]\n",
      "31\n"
     ]
    },
    {
     "data": {
      "application/javascript": "parent.postMessage({\"jupyterEvent\": \"custom.exercise_interaction\", \"data\": {\"outcomeType\": 1, \"valueTowardsCompletion\": 0.16666666666666666, \"interactionType\": 1, \"questionType\": 1, \"questionId\": \"5_DropMissingCols\", \"learnToolsVersion\": \"0.3.4\", \"failureMessage\": \"\", \"exceptionClass\": \"\", \"trace\": \"\"}}, \"*\")",
      "text/plain": [
       "<IPython.core.display.Javascript object>"
      ]
     },
     "metadata": {},
     "output_type": "display_data"
    },
    {
     "data": {
      "text/markdown": [
       "<span style=\"color:#33cc33\">Correct</span>"
      ],
      "text/plain": [
       "Correct"
      ]
     },
     "metadata": {},
     "output_type": "display_data"
    }
   ],
   "source": [
    "# TODO: Your code here\n",
    "sf_permits_with_na_dropped = sf_permits.dropna(axis=1)\n",
    "print(sf_permits_with_na_dropped)\n",
    "\n",
    "dropped_columns = sf_permits.shape[1] - sf_permits_with_na_dropped.shape[1]\n",
    "print(dropped_columns)\n",
    "\n",
    "# Check your answer\n",
    "q5.check()"
   ]
  },
  {
   "cell_type": "code",
   "execution_count": 14,
   "id": "e69e6d4d",
   "metadata": {
    "execution": {
     "iopub.execute_input": "2022-07-09T05:28:33.930389Z",
     "iopub.status.busy": "2022-07-09T05:28:33.929982Z",
     "iopub.status.idle": "2022-07-09T05:28:33.934987Z",
     "shell.execute_reply": "2022-07-09T05:28:33.933799Z"
    },
    "papermill": {
     "duration": 0.019165,
     "end_time": "2022-07-09T05:28:33.937652",
     "exception": false,
     "start_time": "2022-07-09T05:28:33.918487",
     "status": "completed"
    },
    "tags": []
   },
   "outputs": [],
   "source": [
    "# Lines below will give you a hint or solution code\n",
    "#q5.hint()\n",
    "#q5.solution()"
   ]
  },
  {
   "cell_type": "markdown",
   "id": "28c40030",
   "metadata": {
    "papermill": {
     "duration": 0.010255,
     "end_time": "2022-07-09T05:28:33.957959",
     "exception": false,
     "start_time": "2022-07-09T05:28:33.947704",
     "status": "completed"
    },
    "tags": []
   },
   "source": [
    "# 6) Fill in missing values automatically\n",
    "\n",
    "Try replacing all the NaN's in the `sf_permits` data with the one that comes directly after it and then replacing any remaining NaN's with 0.  Set the result to a new DataFrame `sf_permits_with_na_imputed`."
   ]
  },
  {
   "cell_type": "code",
   "execution_count": 15,
   "id": "0bec6396",
   "metadata": {
    "execution": {
     "iopub.execute_input": "2022-07-09T05:28:33.979769Z",
     "iopub.status.busy": "2022-07-09T05:28:33.979417Z",
     "iopub.status.idle": "2022-07-09T05:28:35.457504Z",
     "shell.execute_reply": "2022-07-09T05:28:35.456128Z"
    },
    "papermill": {
     "duration": 1.49186,
     "end_time": "2022-07-09T05:28:35.460197",
     "exception": false,
     "start_time": "2022-07-09T05:28:33.968337",
     "status": "completed"
    },
    "tags": []
   },
   "outputs": [
    {
     "data": {
      "application/javascript": "parent.postMessage({\"jupyterEvent\": \"custom.exercise_interaction\", \"data\": {\"outcomeType\": 1, \"valueTowardsCompletion\": 0.16666666666666666, \"interactionType\": 1, \"questionType\": 1, \"questionId\": \"6_ImputeAutomatically\", \"learnToolsVersion\": \"0.3.4\", \"failureMessage\": \"\", \"exceptionClass\": \"\", \"trace\": \"\"}}, \"*\")",
      "text/plain": [
       "<IPython.core.display.Javascript object>"
      ]
     },
     "metadata": {},
     "output_type": "display_data"
    },
    {
     "data": {
      "text/markdown": [
       "<span style=\"color:#33cc33\">Correct</span>"
      ],
      "text/plain": [
       "Correct"
      ]
     },
     "metadata": {},
     "output_type": "display_data"
    }
   ],
   "source": [
    "# TODO: Your code here\n",
    "sf_permits_with_na_imputed = sf_permits.fillna(method='bfill',axis=0).fillna(0)\n",
    "\n",
    "# Check your answer\n",
    "q6.check()"
   ]
  },
  {
   "cell_type": "code",
   "execution_count": 16,
   "id": "ddc37774",
   "metadata": {
    "execution": {
     "iopub.execute_input": "2022-07-09T05:28:35.483305Z",
     "iopub.status.busy": "2022-07-09T05:28:35.482843Z",
     "iopub.status.idle": "2022-07-09T05:28:35.487801Z",
     "shell.execute_reply": "2022-07-09T05:28:35.486635Z"
    },
    "papermill": {
     "duration": 0.019398,
     "end_time": "2022-07-09T05:28:35.489958",
     "exception": false,
     "start_time": "2022-07-09T05:28:35.470560",
     "status": "completed"
    },
    "tags": []
   },
   "outputs": [],
   "source": [
    "# Lines below will give you a hint or solution code\n",
    "#q6.hint()\n",
    "#q6.solution()"
   ]
  },
  {
   "cell_type": "markdown",
   "id": "b74d3520",
   "metadata": {
    "papermill": {
     "duration": 0.009529,
     "end_time": "2022-07-09T05:28:35.509033",
     "exception": false,
     "start_time": "2022-07-09T05:28:35.499504",
     "status": "completed"
    },
    "tags": []
   },
   "source": [
    "# More practice\n",
    "\n",
    "If you're looking for more practice handling missing values:\n",
    "\n",
    "* Check out [this noteboook](https://www.kaggle.com/alexisbcook/missing-values) on handling missing values using scikit-learn's imputer. \n",
    "* Look back at the \"Zipcode\" column in the `sf_permits` dataset, which has some missing values. How would you go about figuring out what the actual zipcode of each address should be? (You might try using another dataset. You can search for datasets about San Fransisco on the [Datasets listing](https://www.kaggle.com/datasets).) \n",
    "\n",
    "# Keep going\n",
    "\n",
    "In the next lesson, learn how to [**apply scaling and normalization**](https://www.kaggle.com/alexisbcook/scaling-and-normalization) to transform your data."
   ]
  },
  {
   "cell_type": "markdown",
   "id": "15b5fc3d",
   "metadata": {
    "papermill": {
     "duration": 0.009478,
     "end_time": "2022-07-09T05:28:35.528228",
     "exception": false,
     "start_time": "2022-07-09T05:28:35.518750",
     "status": "completed"
    },
    "tags": []
   },
   "source": [
    "---\n",
    "\n",
    "\n",
    "\n",
    "\n",
    "*Have questions or comments? Visit the [course discussion forum](https://www.kaggle.com/learn/data-cleaning/discussion) to chat with other learners.*"
   ]
  }
 ],
 "metadata": {
  "kernelspec": {
   "display_name": "Python 3",
   "language": "python",
   "name": "python3"
  },
  "language_info": {
   "codemirror_mode": {
    "name": "ipython",
    "version": 3
   },
   "file_extension": ".py",
   "mimetype": "text/x-python",
   "name": "python",
   "nbconvert_exporter": "python",
   "pygments_lexer": "ipython3",
   "version": "3.7.12"
  },
  "papermill": {
   "default_parameters": {},
   "duration": 21.738484,
   "end_time": "2022-07-09T05:28:36.461929",
   "environment_variables": {},
   "exception": null,
   "input_path": "__notebook__.ipynb",
   "output_path": "__notebook__.ipynb",
   "parameters": {},
   "start_time": "2022-07-09T05:28:14.723445",
   "version": "2.3.4"
  }
 },
 "nbformat": 4,
 "nbformat_minor": 5
}
