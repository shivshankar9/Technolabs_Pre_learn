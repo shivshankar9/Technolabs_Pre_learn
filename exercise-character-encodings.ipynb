{
 "cells": [
  {
   "cell_type": "markdown",
   "id": "35e9548e",
   "metadata": {
    "papermill": {
     "duration": 0.006651,
     "end_time": "2022-07-11T03:51:44.021667",
     "exception": false,
     "start_time": "2022-07-11T03:51:44.015016",
     "status": "completed"
    },
    "tags": []
   },
   "source": [
    "**This notebook is an exercise in the [Data Cleaning](https://www.kaggle.com/learn/data-cleaning) course.  You can reference the tutorial at [this link](https://www.kaggle.com/alexisbcook/character-encodings).**\n",
    "\n",
    "---\n"
   ]
  },
  {
   "cell_type": "markdown",
   "id": "2b35d1f8",
   "metadata": {
    "papermill": {
     "duration": 0.005108,
     "end_time": "2022-07-11T03:51:44.032432",
     "exception": false,
     "start_time": "2022-07-11T03:51:44.027324",
     "status": "completed"
    },
    "tags": []
   },
   "source": [
    "In this exercise, you'll apply what you learned in the **Character encodings** tutorial.\n",
    "\n",
    "# Setup\n",
    "\n",
    "The questions below will give you feedback on your work. Run the following cell to set up the feedback system."
   ]
  },
  {
   "cell_type": "code",
   "execution_count": 1,
   "id": "0ef07967",
   "metadata": {
    "execution": {
     "iopub.execute_input": "2022-07-11T03:51:44.045860Z",
     "iopub.status.busy": "2022-07-11T03:51:44.045366Z",
     "iopub.status.idle": "2022-07-11T03:51:44.139052Z",
     "shell.execute_reply": "2022-07-11T03:51:44.138087Z"
    },
    "papermill": {
     "duration": 0.104874,
     "end_time": "2022-07-11T03:51:44.143124",
     "exception": false,
     "start_time": "2022-07-11T03:51:44.038250",
     "status": "completed"
    },
    "tags": []
   },
   "outputs": [
    {
     "name": "stdout",
     "output_type": "stream",
     "text": [
      "Setup Complete\n"
     ]
    }
   ],
   "source": [
    "from learntools.core import binder\n",
    "binder.bind(globals())\n",
    "from learntools.data_cleaning.ex4 import *\n",
    "print(\"Setup Complete\")"
   ]
  },
  {
   "cell_type": "markdown",
   "id": "200b2bf0",
   "metadata": {
    "papermill": {
     "duration": 0.005287,
     "end_time": "2022-07-11T03:51:44.154244",
     "exception": false,
     "start_time": "2022-07-11T03:51:44.148957",
     "status": "completed"
    },
    "tags": []
   },
   "source": [
    "# Get our environment set up\n",
    "\n",
    "The first thing we'll need to do is load in the libraries we'll be using."
   ]
  },
  {
   "cell_type": "code",
   "execution_count": 2,
   "id": "a2efd467",
   "metadata": {
    "execution": {
     "iopub.execute_input": "2022-07-11T03:51:44.166804Z",
     "iopub.status.busy": "2022-07-11T03:51:44.166430Z",
     "iopub.status.idle": "2022-07-11T03:51:44.171139Z",
     "shell.execute_reply": "2022-07-11T03:51:44.170266Z"
    },
    "papermill": {
     "duration": 0.013491,
     "end_time": "2022-07-11T03:51:44.173188",
     "exception": false,
     "start_time": "2022-07-11T03:51:44.159697",
     "status": "completed"
    },
    "tags": []
   },
   "outputs": [],
   "source": [
    "# modules we'll use\n",
    "import pandas as pd\n",
    "import numpy as np\n",
    "\n",
    "# helpful character encoding module\n",
    "import chardet\n",
    "\n",
    "# set seed for reproducibility\n",
    "np.random.seed(0)"
   ]
  },
  {
   "cell_type": "markdown",
   "id": "af777424",
   "metadata": {
    "papermill": {
     "duration": 0.005189,
     "end_time": "2022-07-11T03:51:44.183791",
     "exception": false,
     "start_time": "2022-07-11T03:51:44.178602",
     "status": "completed"
    },
    "tags": []
   },
   "source": [
    "# 1) What are encodings?\n",
    "\n",
    "You're working with a dataset composed of bytes.  Run the code cell below to print a sample entry."
   ]
  },
  {
   "cell_type": "code",
   "execution_count": 3,
   "id": "6a2e9f0e",
   "metadata": {
    "execution": {
     "iopub.execute_input": "2022-07-11T03:51:44.197110Z",
     "iopub.status.busy": "2022-07-11T03:51:44.196700Z",
     "iopub.status.idle": "2022-07-11T03:51:44.201567Z",
     "shell.execute_reply": "2022-07-11T03:51:44.200787Z"
    },
    "papermill": {
     "duration": 0.014256,
     "end_time": "2022-07-11T03:51:44.203947",
     "exception": false,
     "start_time": "2022-07-11T03:51:44.189691",
     "status": "completed"
    },
    "tags": []
   },
   "outputs": [
    {
     "name": "stdout",
     "output_type": "stream",
     "text": [
      "b'\\xa7A\\xa6n'\n",
      "data type: <class 'bytes'>\n"
     ]
    }
   ],
   "source": [
    "sample_entry = b'\\xa7A\\xa6n'\n",
    "print(sample_entry)\n",
    "print('data type:', type(sample_entry))"
   ]
  },
  {
   "cell_type": "markdown",
   "id": "c229178c",
   "metadata": {
    "papermill": {
     "duration": 0.005511,
     "end_time": "2022-07-11T03:51:44.215131",
     "exception": false,
     "start_time": "2022-07-11T03:51:44.209620",
     "status": "completed"
    },
    "tags": []
   },
   "source": [
    "You notice that it doesn't use the standard UTF-8 encoding. \n",
    "\n",
    "Use the next code cell to create a variable `new_entry` that changes the encoding from `\"big5-tw\"` to `\"utf-8\"`.  `new_entry` should have the bytes datatype."
   ]
  },
  {
   "cell_type": "code",
   "execution_count": 4,
   "id": "2704b100",
   "metadata": {
    "execution": {
     "iopub.execute_input": "2022-07-11T03:51:44.228521Z",
     "iopub.status.busy": "2022-07-11T03:51:44.227784Z",
     "iopub.status.idle": "2022-07-11T03:51:44.238620Z",
     "shell.execute_reply": "2022-07-11T03:51:44.237862Z"
    },
    "papermill": {
     "duration": 0.020021,
     "end_time": "2022-07-11T03:51:44.240759",
     "exception": false,
     "start_time": "2022-07-11T03:51:44.220738",
     "status": "completed"
    },
    "tags": []
   },
   "outputs": [
    {
     "data": {
      "application/javascript": [
       "parent.postMessage({\"jupyterEvent\": \"custom.exercise_interaction\", \"data\": {\"outcomeType\": 1, \"valueTowardsCompletion\": 0.3333333333333333, \"interactionType\": 1, \"questionType\": 1, \"questionId\": \"1_EncodingsIntro\", \"learnToolsVersion\": \"0.3.4\", \"failureMessage\": \"\", \"exceptionClass\": \"\", \"trace\": \"\"}}, \"*\")"
      ],
      "text/plain": [
       "<IPython.core.display.Javascript object>"
      ]
     },
     "metadata": {},
     "output_type": "display_data"
    },
    {
     "data": {
      "text/markdown": [
       "<span style=\"color:#33cc33\">Correct</span>"
      ],
      "text/plain": [
       "Correct"
      ]
     },
     "metadata": {},
     "output_type": "display_data"
    }
   ],
   "source": [
    "new_entry = sample_entry.decode(\"big5-tw\")\n",
    "new_entry =new_entry.encode()\n",
    "type(new_entry)\n",
    "\n",
    "# Check your answer\n",
    "q1.check()"
   ]
  },
  {
   "cell_type": "code",
   "execution_count": 5,
   "id": "6925f0af",
   "metadata": {
    "execution": {
     "iopub.execute_input": "2022-07-11T03:51:44.254662Z",
     "iopub.status.busy": "2022-07-11T03:51:44.254153Z",
     "iopub.status.idle": "2022-07-11T03:51:44.258907Z",
     "shell.execute_reply": "2022-07-11T03:51:44.257794Z"
    },
    "papermill": {
     "duration": 0.014795,
     "end_time": "2022-07-11T03:51:44.261351",
     "exception": false,
     "start_time": "2022-07-11T03:51:44.246556",
     "status": "completed"
    },
    "tags": []
   },
   "outputs": [],
   "source": [
    "# Lines below will give you a hint or solution code\n",
    "#q1.hint()\n",
    "#q1.solution()"
   ]
  },
  {
   "cell_type": "markdown",
   "id": "6fa9ce9a",
   "metadata": {
    "papermill": {
     "duration": 0.005484,
     "end_time": "2022-07-11T03:51:44.272827",
     "exception": false,
     "start_time": "2022-07-11T03:51:44.267343",
     "status": "completed"
    },
    "tags": []
   },
   "source": [
    "# 2) Reading in files with encoding problems\n",
    "\n",
    "Use the code cell below to read in this file at path `\"../input/fatal-police-shootings-in-the-us/PoliceKillingsUS.csv\"`.  \n",
    "\n",
    "Figure out what the correct encoding should be and read in the file to a DataFrame `police_killings`."
   ]
  },
  {
   "cell_type": "code",
   "execution_count": 6,
   "id": "151af155",
   "metadata": {
    "execution": {
     "iopub.execute_input": "2022-07-11T03:51:44.287134Z",
     "iopub.status.busy": "2022-07-11T03:51:44.286628Z",
     "iopub.status.idle": "2022-07-11T03:51:44.314976Z",
     "shell.execute_reply": "2022-07-11T03:51:44.313830Z"
    },
    "papermill": {
     "duration": 0.038571,
     "end_time": "2022-07-11T03:51:44.317304",
     "exception": false,
     "start_time": "2022-07-11T03:51:44.278733",
     "status": "completed"
    },
    "tags": []
   },
   "outputs": [
    {
     "data": {
      "application/javascript": [
       "parent.postMessage({\"jupyterEvent\": \"custom.exercise_interaction\", \"data\": {\"outcomeType\": 1, \"valueTowardsCompletion\": 0.3333333333333333, \"interactionType\": 1, \"questionType\": 1, \"questionId\": \"2_ReadIn\", \"learnToolsVersion\": \"0.3.4\", \"failureMessage\": \"\", \"exceptionClass\": \"\", \"trace\": \"\"}}, \"*\")"
      ],
      "text/plain": [
       "<IPython.core.display.Javascript object>"
      ]
     },
     "metadata": {},
     "output_type": "display_data"
    },
    {
     "data": {
      "text/markdown": [
       "<span style=\"color:#33cc33\">Correct</span>"
      ],
      "text/plain": [
       "Correct"
      ]
     },
     "metadata": {},
     "output_type": "display_data"
    }
   ],
   "source": [
    "# TODO: Load in the DataFrame correctly.\n",
    "police_killings =pd.read_csv(\"../input/fatal-police-shootings-in-the-us/PoliceKillingsUS.csv\",encoding='Windows-1252')\n",
    "police_killings.head()\n",
    "\n",
    "# Check your answer\n",
    "q2.check()"
   ]
  },
  {
   "cell_type": "markdown",
   "id": "ea8ae935",
   "metadata": {
    "papermill": {
     "duration": 0.00595,
     "end_time": "2022-07-11T03:51:44.329389",
     "exception": false,
     "start_time": "2022-07-11T03:51:44.323439",
     "status": "completed"
    },
    "tags": []
   },
   "source": [
    "Feel free to use any additional code cells for supplemental work.  To get credit for finishing this question, you'll need to run `q2.check()` and get a result of **Correct**."
   ]
  },
  {
   "cell_type": "code",
   "execution_count": 7,
   "id": "024c8926",
   "metadata": {
    "execution": {
     "iopub.execute_input": "2022-07-11T03:51:44.343914Z",
     "iopub.status.busy": "2022-07-11T03:51:44.343485Z",
     "iopub.status.idle": "2022-07-11T03:51:44.350577Z",
     "shell.execute_reply": "2022-07-11T03:51:44.349566Z"
    },
    "papermill": {
     "duration": 0.017183,
     "end_time": "2022-07-11T03:51:44.352824",
     "exception": false,
     "start_time": "2022-07-11T03:51:44.335641",
     "status": "completed"
    },
    "tags": []
   },
   "outputs": [
    {
     "name": "stdout",
     "output_type": "stream",
     "text": [
      "{'encoding': 'ascii', 'confidence': 1.0, 'language': ''}\n"
     ]
    }
   ],
   "source": [
    "# (Optional) Use this code cell for any additional work.\n",
    "with open(\"../input/fatal-police-shootings-in-the-us/PoliceKillingsUS.csv\", 'rb') as rawdata:\n",
    "    result = chardet.detect(rawdata.read(10000))\n",
    "print(result)"
   ]
  },
  {
   "cell_type": "code",
   "execution_count": 8,
   "id": "490c3bb6",
   "metadata": {
    "execution": {
     "iopub.execute_input": "2022-07-11T03:51:44.367834Z",
     "iopub.status.busy": "2022-07-11T03:51:44.367118Z",
     "iopub.status.idle": "2022-07-11T03:51:44.372547Z",
     "shell.execute_reply": "2022-07-11T03:51:44.371200Z"
    },
    "papermill": {
     "duration": 0.015686,
     "end_time": "2022-07-11T03:51:44.374937",
     "exception": false,
     "start_time": "2022-07-11T03:51:44.359251",
     "status": "completed"
    },
    "tags": []
   },
   "outputs": [],
   "source": [
    "# Lines below will give you a hint or solution code\n",
    "#q2.hint()\n",
    "#q2.solution()"
   ]
  },
  {
   "cell_type": "markdown",
   "id": "9eb5ebaa",
   "metadata": {
    "papermill": {
     "duration": 0.005971,
     "end_time": "2022-07-11T03:51:44.387694",
     "exception": false,
     "start_time": "2022-07-11T03:51:44.381723",
     "status": "completed"
    },
    "tags": []
   },
   "source": [
    "# 3) Saving your files with UTF-8 encoding\n",
    "\n",
    "Save a version of the police killings dataset to CSV with UTF-8 encoding.  Your answer will be marked correct after saving this file.  \n",
    "\n",
    "Note: When using the `to_csv()` method, supply only the name of the file (e.g., `\"my_file.csv\"`).  This saves the file at the filepath `\"/kaggle/working/my_file.csv\"`."
   ]
  },
  {
   "cell_type": "code",
   "execution_count": 9,
   "id": "63d458d7",
   "metadata": {
    "execution": {
     "iopub.execute_input": "2022-07-11T03:51:44.402462Z",
     "iopub.status.busy": "2022-07-11T03:51:44.401794Z",
     "iopub.status.idle": "2022-07-11T03:51:44.446437Z",
     "shell.execute_reply": "2022-07-11T03:51:44.445238Z"
    },
    "papermill": {
     "duration": 0.054901,
     "end_time": "2022-07-11T03:51:44.449114",
     "exception": false,
     "start_time": "2022-07-11T03:51:44.394213",
     "status": "completed"
    },
    "tags": []
   },
   "outputs": [
    {
     "data": {
      "application/javascript": [
       "parent.postMessage({\"jupyterEvent\": \"custom.exercise_interaction\", \"data\": {\"outcomeType\": 1, \"valueTowardsCompletion\": 0.3333333333333333, \"interactionType\": 1, \"questionType\": 2, \"questionId\": \"3_SaveCSV\", \"learnToolsVersion\": \"0.3.4\", \"failureMessage\": \"\", \"exceptionClass\": \"\", \"trace\": \"\"}}, \"*\")"
      ],
      "text/plain": [
       "<IPython.core.display.Javascript object>"
      ]
     },
     "metadata": {},
     "output_type": "display_data"
    },
    {
     "data": {
      "text/markdown": [
       "<span style=\"color:#33cc33\">Correct</span>"
      ],
      "text/plain": [
       "Correct"
      ]
     },
     "metadata": {},
     "output_type": "display_data"
    }
   ],
   "source": [
    "# TODO: Save the police killings dataset to CSV\n",
    "police_killings.to_csv(\"/kaggle/working/my_file.csv\")\n",
    "# Check your answer\n",
    "q3.check()"
   ]
  },
  {
   "cell_type": "code",
   "execution_count": 10,
   "id": "0748a41a",
   "metadata": {
    "execution": {
     "iopub.execute_input": "2022-07-11T03:51:44.464313Z",
     "iopub.status.busy": "2022-07-11T03:51:44.463867Z",
     "iopub.status.idle": "2022-07-11T03:51:44.468737Z",
     "shell.execute_reply": "2022-07-11T03:51:44.467439Z"
    },
    "papermill": {
     "duration": 0.015429,
     "end_time": "2022-07-11T03:51:44.471437",
     "exception": false,
     "start_time": "2022-07-11T03:51:44.456008",
     "status": "completed"
    },
    "tags": []
   },
   "outputs": [],
   "source": [
    "# Lines below will give you a hint or solution code\n",
    "#q3.hint()\n",
    "#q3.solution()"
   ]
  },
  {
   "cell_type": "markdown",
   "id": "2a0b7827",
   "metadata": {
    "papermill": {
     "duration": 0.006587,
     "end_time": "2022-07-11T03:51:44.484511",
     "exception": false,
     "start_time": "2022-07-11T03:51:44.477924",
     "status": "completed"
    },
    "tags": []
   },
   "source": [
    "# (Optional) More practice\n",
    "\n",
    "Check out [this dataset of files in different character encodings](https://www.kaggle.com/rtatman/character-encoding-examples). Can you read in all the files with their original encodings and them save them out as UTF-8 files?\n",
    "\n",
    "If you have a file that's in UTF-8 but has just a couple of weird-looking characters in it, you can try out the [ftfy module](https://ftfy.readthedocs.io/en/latest/#) and see if it helps. \n",
    "\n",
    "# Keep going\n",
    "\n",
    "In the final lesson, learn how to [**clean up inconsistent text entries**](https://www.kaggle.com/alexisbcook/inconsistent-data-entry) in your dataset."
   ]
  },
  {
   "cell_type": "markdown",
   "id": "6710bc42",
   "metadata": {
    "papermill": {
     "duration": 0.006138,
     "end_time": "2022-07-11T03:51:44.497221",
     "exception": false,
     "start_time": "2022-07-11T03:51:44.491083",
     "status": "completed"
    },
    "tags": []
   },
   "source": [
    "---\n",
    "\n",
    "\n",
    "\n",
    "\n",
    "*Have questions or comments? Visit the [course discussion forum](https://www.kaggle.com/learn/data-cleaning/discussion) to chat with other learners.*"
   ]
  }
 ],
 "metadata": {
  "kernelspec": {
   "display_name": "Python 3",
   "language": "python",
   "name": "python3"
  },
  "language_info": {
   "codemirror_mode": {
    "name": "ipython",
    "version": 3
   },
   "file_extension": ".py",
   "mimetype": "text/x-python",
   "name": "python",
   "nbconvert_exporter": "python",
   "pygments_lexer": "ipython3",
   "version": "3.7.12"
  },
  "papermill": {
   "default_parameters": {},
   "duration": 11.361234,
   "end_time": "2022-07-11T03:51:45.125959",
   "environment_variables": {},
   "exception": null,
   "input_path": "__notebook__.ipynb",
   "output_path": "__notebook__.ipynb",
   "parameters": {},
   "start_time": "2022-07-11T03:51:33.764725",
   "version": "2.3.4"
  }
 },
 "nbformat": 4,
 "nbformat_minor": 5
}
